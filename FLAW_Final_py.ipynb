{
  "nbformat": 4,
  "nbformat_minor": 0,
  "metadata": {
    "colab": {
      "name": "FLAW_Final_py.ipynb",
      "provenance": [],
      "collapsed_sections": [
        "aPw__XISi-JQ",
        "V9X7J-bNgOsx",
        "32vEtilqiuyQ",
        "IkuDjAt95mOo"
      ],
      "machine_shape": "hm",
      "include_colab_link": true
    },
    "kernelspec": {
      "display_name": "Python 3",
      "name": "python3"
    },
    "accelerator": "GPU",
    "widgets": {
      "application/vnd.jupyter.widget-state+json": {
        "a39a310797674b80ac0f2f2a0c881a51": {
          "model_module": "@jupyter-widgets/controls",
          "model_name": "HBoxModel",
          "state": {
            "_view_name": "HBoxView",
            "_dom_classes": [],
            "_model_name": "HBoxModel",
            "_view_module": "@jupyter-widgets/controls",
            "_model_module_version": "1.5.0",
            "_view_count": null,
            "_view_module_version": "1.5.0",
            "box_style": "",
            "layout": "IPY_MODEL_ebb227ceaa9e4393a56c716c94e6f9c7",
            "_model_module": "@jupyter-widgets/controls",
            "children": [
              "IPY_MODEL_5c33898f297b4a4484faad55809a7d8c",
              "IPY_MODEL_599473dd699741d9b37e99ae6741d84e"
            ]
          }
        },
        "ebb227ceaa9e4393a56c716c94e6f9c7": {
          "model_module": "@jupyter-widgets/base",
          "model_name": "LayoutModel",
          "state": {
            "_view_name": "LayoutView",
            "grid_template_rows": null,
            "right": null,
            "justify_content": null,
            "_view_module": "@jupyter-widgets/base",
            "overflow": null,
            "_model_module_version": "1.2.0",
            "_view_count": null,
            "flex_flow": null,
            "width": null,
            "min_width": null,
            "border": null,
            "align_items": null,
            "bottom": null,
            "_model_module": "@jupyter-widgets/base",
            "top": null,
            "grid_column": null,
            "overflow_y": null,
            "overflow_x": null,
            "grid_auto_flow": null,
            "grid_area": null,
            "grid_template_columns": null,
            "flex": null,
            "_model_name": "LayoutModel",
            "justify_items": null,
            "grid_row": null,
            "max_height": null,
            "align_content": null,
            "visibility": null,
            "align_self": null,
            "height": null,
            "min_height": null,
            "padding": null,
            "grid_auto_rows": null,
            "grid_gap": null,
            "max_width": null,
            "order": null,
            "_view_module_version": "1.2.0",
            "grid_template_areas": null,
            "object_position": null,
            "object_fit": null,
            "grid_auto_columns": null,
            "margin": null,
            "display": null,
            "left": null
          }
        },
        "5c33898f297b4a4484faad55809a7d8c": {
          "model_module": "@jupyter-widgets/controls",
          "model_name": "FloatProgressModel",
          "state": {
            "_view_name": "ProgressView",
            "style": "IPY_MODEL_5df25dd2aea94685813d0ae54aa6774e",
            "_dom_classes": [],
            "description": "Dl Completed...: 100%",
            "_model_name": "FloatProgressModel",
            "bar_style": "success",
            "max": 1,
            "_view_module": "@jupyter-widgets/controls",
            "_model_module_version": "1.5.0",
            "value": 1,
            "_view_count": null,
            "_view_module_version": "1.5.0",
            "orientation": "horizontal",
            "min": 0,
            "description_tooltip": null,
            "_model_module": "@jupyter-widgets/controls",
            "layout": "IPY_MODEL_ca4e54cd8519452d8dfffbc581cc8370"
          }
        },
        "599473dd699741d9b37e99ae6741d84e": {
          "model_module": "@jupyter-widgets/controls",
          "model_name": "HTMLModel",
          "state": {
            "_view_name": "HTMLView",
            "style": "IPY_MODEL_2c23b9f7d05f4bc5b6509a0a9819563f",
            "_dom_classes": [],
            "description": "",
            "_model_name": "HTMLModel",
            "placeholder": "​",
            "_view_module": "@jupyter-widgets/controls",
            "_model_module_version": "1.5.0",
            "value": " 1/1 [00:04&lt;00:00,  4.48s/ url]",
            "_view_count": null,
            "_view_module_version": "1.5.0",
            "description_tooltip": null,
            "_model_module": "@jupyter-widgets/controls",
            "layout": "IPY_MODEL_7e207a63fa364488b3520c359342d9e2"
          }
        },
        "5df25dd2aea94685813d0ae54aa6774e": {
          "model_module": "@jupyter-widgets/controls",
          "model_name": "ProgressStyleModel",
          "state": {
            "_view_name": "StyleView",
            "_model_name": "ProgressStyleModel",
            "description_width": "initial",
            "_view_module": "@jupyter-widgets/base",
            "_model_module_version": "1.5.0",
            "_view_count": null,
            "_view_module_version": "1.2.0",
            "bar_color": null,
            "_model_module": "@jupyter-widgets/controls"
          }
        },
        "ca4e54cd8519452d8dfffbc581cc8370": {
          "model_module": "@jupyter-widgets/base",
          "model_name": "LayoutModel",
          "state": {
            "_view_name": "LayoutView",
            "grid_template_rows": null,
            "right": null,
            "justify_content": null,
            "_view_module": "@jupyter-widgets/base",
            "overflow": null,
            "_model_module_version": "1.2.0",
            "_view_count": null,
            "flex_flow": null,
            "width": null,
            "min_width": null,
            "border": null,
            "align_items": null,
            "bottom": null,
            "_model_module": "@jupyter-widgets/base",
            "top": null,
            "grid_column": null,
            "overflow_y": null,
            "overflow_x": null,
            "grid_auto_flow": null,
            "grid_area": null,
            "grid_template_columns": null,
            "flex": null,
            "_model_name": "LayoutModel",
            "justify_items": null,
            "grid_row": null,
            "max_height": null,
            "align_content": null,
            "visibility": null,
            "align_self": null,
            "height": null,
            "min_height": null,
            "padding": null,
            "grid_auto_rows": null,
            "grid_gap": null,
            "max_width": null,
            "order": null,
            "_view_module_version": "1.2.0",
            "grid_template_areas": null,
            "object_position": null,
            "object_fit": null,
            "grid_auto_columns": null,
            "margin": null,
            "display": null,
            "left": null
          }
        },
        "2c23b9f7d05f4bc5b6509a0a9819563f": {
          "model_module": "@jupyter-widgets/controls",
          "model_name": "DescriptionStyleModel",
          "state": {
            "_view_name": "StyleView",
            "_model_name": "DescriptionStyleModel",
            "description_width": "",
            "_view_module": "@jupyter-widgets/base",
            "_model_module_version": "1.5.0",
            "_view_count": null,
            "_view_module_version": "1.2.0",
            "_model_module": "@jupyter-widgets/controls"
          }
        },
        "7e207a63fa364488b3520c359342d9e2": {
          "model_module": "@jupyter-widgets/base",
          "model_name": "LayoutModel",
          "state": {
            "_view_name": "LayoutView",
            "grid_template_rows": null,
            "right": null,
            "justify_content": null,
            "_view_module": "@jupyter-widgets/base",
            "overflow": null,
            "_model_module_version": "1.2.0",
            "_view_count": null,
            "flex_flow": null,
            "width": null,
            "min_width": null,
            "border": null,
            "align_items": null,
            "bottom": null,
            "_model_module": "@jupyter-widgets/base",
            "top": null,
            "grid_column": null,
            "overflow_y": null,
            "overflow_x": null,
            "grid_auto_flow": null,
            "grid_area": null,
            "grid_template_columns": null,
            "flex": null,
            "_model_name": "LayoutModel",
            "justify_items": null,
            "grid_row": null,
            "max_height": null,
            "align_content": null,
            "visibility": null,
            "align_self": null,
            "height": null,
            "min_height": null,
            "padding": null,
            "grid_auto_rows": null,
            "grid_gap": null,
            "max_width": null,
            "order": null,
            "_view_module_version": "1.2.0",
            "grid_template_areas": null,
            "object_position": null,
            "object_fit": null,
            "grid_auto_columns": null,
            "margin": null,
            "display": null,
            "left": null
          }
        },
        "b8e5fec87cdf4bf88dc187098cd0a026": {
          "model_module": "@jupyter-widgets/controls",
          "model_name": "HBoxModel",
          "state": {
            "_view_name": "HBoxView",
            "_dom_classes": [],
            "_model_name": "HBoxModel",
            "_view_module": "@jupyter-widgets/controls",
            "_model_module_version": "1.5.0",
            "_view_count": null,
            "_view_module_version": "1.5.0",
            "box_style": "",
            "layout": "IPY_MODEL_9a4ff92180cd472197d6270e79e21cce",
            "_model_module": "@jupyter-widgets/controls",
            "children": [
              "IPY_MODEL_c6f7aaffbdd348cb9d0915b464669006",
              "IPY_MODEL_2632a613b73c4790a6ad6fd7779362d5"
            ]
          }
        },
        "9a4ff92180cd472197d6270e79e21cce": {
          "model_module": "@jupyter-widgets/base",
          "model_name": "LayoutModel",
          "state": {
            "_view_name": "LayoutView",
            "grid_template_rows": null,
            "right": null,
            "justify_content": null,
            "_view_module": "@jupyter-widgets/base",
            "overflow": null,
            "_model_module_version": "1.2.0",
            "_view_count": null,
            "flex_flow": null,
            "width": null,
            "min_width": null,
            "border": null,
            "align_items": null,
            "bottom": null,
            "_model_module": "@jupyter-widgets/base",
            "top": null,
            "grid_column": null,
            "overflow_y": null,
            "overflow_x": null,
            "grid_auto_flow": null,
            "grid_area": null,
            "grid_template_columns": null,
            "flex": null,
            "_model_name": "LayoutModel",
            "justify_items": null,
            "grid_row": null,
            "max_height": null,
            "align_content": null,
            "visibility": null,
            "align_self": null,
            "height": null,
            "min_height": null,
            "padding": null,
            "grid_auto_rows": null,
            "grid_gap": null,
            "max_width": null,
            "order": null,
            "_view_module_version": "1.2.0",
            "grid_template_areas": null,
            "object_position": null,
            "object_fit": null,
            "grid_auto_columns": null,
            "margin": null,
            "display": null,
            "left": null
          }
        },
        "c6f7aaffbdd348cb9d0915b464669006": {
          "model_module": "@jupyter-widgets/controls",
          "model_name": "FloatProgressModel",
          "state": {
            "_view_name": "ProgressView",
            "style": "IPY_MODEL_96c978b19c814d7380c37592f6ffda13",
            "_dom_classes": [],
            "description": "Dl Size...: ",
            "_model_name": "FloatProgressModel",
            "bar_style": "success",
            "max": 1,
            "_view_module": "@jupyter-widgets/controls",
            "_model_module_version": "1.5.0",
            "value": 1,
            "_view_count": null,
            "_view_module_version": "1.5.0",
            "orientation": "horizontal",
            "min": 0,
            "description_tooltip": null,
            "_model_module": "@jupyter-widgets/controls",
            "layout": "IPY_MODEL_c771a260e37c4680be9ea5266e4a1e86"
          }
        },
        "2632a613b73c4790a6ad6fd7779362d5": {
          "model_module": "@jupyter-widgets/controls",
          "model_name": "HTMLModel",
          "state": {
            "_view_name": "HTMLView",
            "style": "IPY_MODEL_6f49dd2a8b0b424c82c8a1e1dd5a2301",
            "_dom_classes": [],
            "description": "",
            "_model_name": "HTMLModel",
            "placeholder": "​",
            "_view_module": "@jupyter-widgets/controls",
            "_model_module_version": "1.5.0",
            "value": " 64/0 [00:04&lt;00:00, 14.35 MiB/s]",
            "_view_count": null,
            "_view_module_version": "1.5.0",
            "description_tooltip": null,
            "_model_module": "@jupyter-widgets/controls",
            "layout": "IPY_MODEL_67ccc181b62d426194dca231cd97d22d"
          }
        },
        "96c978b19c814d7380c37592f6ffda13": {
          "model_module": "@jupyter-widgets/controls",
          "model_name": "ProgressStyleModel",
          "state": {
            "_view_name": "StyleView",
            "_model_name": "ProgressStyleModel",
            "description_width": "initial",
            "_view_module": "@jupyter-widgets/base",
            "_model_module_version": "1.5.0",
            "_view_count": null,
            "_view_module_version": "1.2.0",
            "bar_color": null,
            "_model_module": "@jupyter-widgets/controls"
          }
        },
        "c771a260e37c4680be9ea5266e4a1e86": {
          "model_module": "@jupyter-widgets/base",
          "model_name": "LayoutModel",
          "state": {
            "_view_name": "LayoutView",
            "grid_template_rows": null,
            "right": null,
            "justify_content": null,
            "_view_module": "@jupyter-widgets/base",
            "overflow": null,
            "_model_module_version": "1.2.0",
            "_view_count": null,
            "flex_flow": null,
            "width": null,
            "min_width": null,
            "border": null,
            "align_items": null,
            "bottom": null,
            "_model_module": "@jupyter-widgets/base",
            "top": null,
            "grid_column": null,
            "overflow_y": null,
            "overflow_x": null,
            "grid_auto_flow": null,
            "grid_area": null,
            "grid_template_columns": null,
            "flex": null,
            "_model_name": "LayoutModel",
            "justify_items": null,
            "grid_row": null,
            "max_height": null,
            "align_content": null,
            "visibility": null,
            "align_self": null,
            "height": null,
            "min_height": null,
            "padding": null,
            "grid_auto_rows": null,
            "grid_gap": null,
            "max_width": null,
            "order": null,
            "_view_module_version": "1.2.0",
            "grid_template_areas": null,
            "object_position": null,
            "object_fit": null,
            "grid_auto_columns": null,
            "margin": null,
            "display": null,
            "left": null
          }
        },
        "6f49dd2a8b0b424c82c8a1e1dd5a2301": {
          "model_module": "@jupyter-widgets/controls",
          "model_name": "DescriptionStyleModel",
          "state": {
            "_view_name": "StyleView",
            "_model_name": "DescriptionStyleModel",
            "description_width": "",
            "_view_module": "@jupyter-widgets/base",
            "_model_module_version": "1.5.0",
            "_view_count": null,
            "_view_module_version": "1.2.0",
            "_model_module": "@jupyter-widgets/controls"
          }
        },
        "67ccc181b62d426194dca231cd97d22d": {
          "model_module": "@jupyter-widgets/base",
          "model_name": "LayoutModel",
          "state": {
            "_view_name": "LayoutView",
            "grid_template_rows": null,
            "right": null,
            "justify_content": null,
            "_view_module": "@jupyter-widgets/base",
            "overflow": null,
            "_model_module_version": "1.2.0",
            "_view_count": null,
            "flex_flow": null,
            "width": null,
            "min_width": null,
            "border": null,
            "align_items": null,
            "bottom": null,
            "_model_module": "@jupyter-widgets/base",
            "top": null,
            "grid_column": null,
            "overflow_y": null,
            "overflow_x": null,
            "grid_auto_flow": null,
            "grid_area": null,
            "grid_template_columns": null,
            "flex": null,
            "_model_name": "LayoutModel",
            "justify_items": null,
            "grid_row": null,
            "max_height": null,
            "align_content": null,
            "visibility": null,
            "align_self": null,
            "height": null,
            "min_height": null,
            "padding": null,
            "grid_auto_rows": null,
            "grid_gap": null,
            "max_width": null,
            "order": null,
            "_view_module_version": "1.2.0",
            "grid_template_areas": null,
            "object_position": null,
            "object_fit": null,
            "grid_auto_columns": null,
            "margin": null,
            "display": null,
            "left": null
          }
        },
        "17ea286019774fcb87565e062fe2769c": {
          "model_module": "@jupyter-widgets/controls",
          "model_name": "HBoxModel",
          "state": {
            "_view_name": "HBoxView",
            "_dom_classes": [],
            "_model_name": "HBoxModel",
            "_view_module": "@jupyter-widgets/controls",
            "_model_module_version": "1.5.0",
            "_view_count": null,
            "_view_module_version": "1.5.0",
            "box_style": "",
            "layout": "IPY_MODEL_a6f076d207164784898147d2465b52b3",
            "_model_module": "@jupyter-widgets/controls",
            "children": [
              "IPY_MODEL_3405f049072542a889edf60714ee203c",
              "IPY_MODEL_87876b539b6e4e6d9f0277644c845b52"
            ]
          }
        },
        "a6f076d207164784898147d2465b52b3": {
          "model_module": "@jupyter-widgets/base",
          "model_name": "LayoutModel",
          "state": {
            "_view_name": "LayoutView",
            "grid_template_rows": null,
            "right": null,
            "justify_content": null,
            "_view_module": "@jupyter-widgets/base",
            "overflow": null,
            "_model_module_version": "1.2.0",
            "_view_count": null,
            "flex_flow": null,
            "width": null,
            "min_width": null,
            "border": null,
            "align_items": null,
            "bottom": null,
            "_model_module": "@jupyter-widgets/base",
            "top": null,
            "grid_column": null,
            "overflow_y": null,
            "overflow_x": null,
            "grid_auto_flow": null,
            "grid_area": null,
            "grid_template_columns": null,
            "flex": null,
            "_model_name": "LayoutModel",
            "justify_items": null,
            "grid_row": null,
            "max_height": null,
            "align_content": null,
            "visibility": null,
            "align_self": null,
            "height": null,
            "min_height": null,
            "padding": null,
            "grid_auto_rows": null,
            "grid_gap": null,
            "max_width": null,
            "order": null,
            "_view_module_version": "1.2.0",
            "grid_template_areas": null,
            "object_position": null,
            "object_fit": null,
            "grid_auto_columns": null,
            "margin": null,
            "display": null,
            "left": null
          }
        },
        "3405f049072542a889edf60714ee203c": {
          "model_module": "@jupyter-widgets/controls",
          "model_name": "FloatProgressModel",
          "state": {
            "_view_name": "ProgressView",
            "style": "IPY_MODEL_8aaf85caecf040a8acfb706791cd43b1",
            "_dom_classes": [],
            "description": "Extraction completed...: 100%",
            "_model_name": "FloatProgressModel",
            "bar_style": "success",
            "max": 1,
            "_view_module": "@jupyter-widgets/controls",
            "_model_module_version": "1.5.0",
            "value": 1,
            "_view_count": null,
            "_view_module_version": "1.5.0",
            "orientation": "horizontal",
            "min": 0,
            "description_tooltip": null,
            "_model_module": "@jupyter-widgets/controls",
            "layout": "IPY_MODEL_f64464eaa13743ee86844d250f5177c3"
          }
        },
        "87876b539b6e4e6d9f0277644c845b52": {
          "model_module": "@jupyter-widgets/controls",
          "model_name": "HTMLModel",
          "state": {
            "_view_name": "HTMLView",
            "style": "IPY_MODEL_7d66296947bc40afa9a1f6ec8df2fd01",
            "_dom_classes": [],
            "description": "",
            "_model_name": "HTMLModel",
            "placeholder": "​",
            "_view_module": "@jupyter-widgets/controls",
            "_model_module_version": "1.5.0",
            "value": " 1/1 [00:04&lt;00:00,  4.43s/ file]",
            "_view_count": null,
            "_view_module_version": "1.5.0",
            "description_tooltip": null,
            "_model_module": "@jupyter-widgets/controls",
            "layout": "IPY_MODEL_8bf671bf73df42938750682447c7ebb9"
          }
        },
        "8aaf85caecf040a8acfb706791cd43b1": {
          "model_module": "@jupyter-widgets/controls",
          "model_name": "ProgressStyleModel",
          "state": {
            "_view_name": "StyleView",
            "_model_name": "ProgressStyleModel",
            "description_width": "initial",
            "_view_module": "@jupyter-widgets/base",
            "_model_module_version": "1.5.0",
            "_view_count": null,
            "_view_module_version": "1.2.0",
            "bar_color": null,
            "_model_module": "@jupyter-widgets/controls"
          }
        },
        "f64464eaa13743ee86844d250f5177c3": {
          "model_module": "@jupyter-widgets/base",
          "model_name": "LayoutModel",
          "state": {
            "_view_name": "LayoutView",
            "grid_template_rows": null,
            "right": null,
            "justify_content": null,
            "_view_module": "@jupyter-widgets/base",
            "overflow": null,
            "_model_module_version": "1.2.0",
            "_view_count": null,
            "flex_flow": null,
            "width": null,
            "min_width": null,
            "border": null,
            "align_items": null,
            "bottom": null,
            "_model_module": "@jupyter-widgets/base",
            "top": null,
            "grid_column": null,
            "overflow_y": null,
            "overflow_x": null,
            "grid_auto_flow": null,
            "grid_area": null,
            "grid_template_columns": null,
            "flex": null,
            "_model_name": "LayoutModel",
            "justify_items": null,
            "grid_row": null,
            "max_height": null,
            "align_content": null,
            "visibility": null,
            "align_self": null,
            "height": null,
            "min_height": null,
            "padding": null,
            "grid_auto_rows": null,
            "grid_gap": null,
            "max_width": null,
            "order": null,
            "_view_module_version": "1.2.0",
            "grid_template_areas": null,
            "object_position": null,
            "object_fit": null,
            "grid_auto_columns": null,
            "margin": null,
            "display": null,
            "left": null
          }
        },
        "7d66296947bc40afa9a1f6ec8df2fd01": {
          "model_module": "@jupyter-widgets/controls",
          "model_name": "DescriptionStyleModel",
          "state": {
            "_view_name": "StyleView",
            "_model_name": "DescriptionStyleModel",
            "description_width": "",
            "_view_module": "@jupyter-widgets/base",
            "_model_module_version": "1.5.0",
            "_view_count": null,
            "_view_module_version": "1.2.0",
            "_model_module": "@jupyter-widgets/controls"
          }
        },
        "8bf671bf73df42938750682447c7ebb9": {
          "model_module": "@jupyter-widgets/base",
          "model_name": "LayoutModel",
          "state": {
            "_view_name": "LayoutView",
            "grid_template_rows": null,
            "right": null,
            "justify_content": null,
            "_view_module": "@jupyter-widgets/base",
            "overflow": null,
            "_model_module_version": "1.2.0",
            "_view_count": null,
            "flex_flow": null,
            "width": null,
            "min_width": null,
            "border": null,
            "align_items": null,
            "bottom": null,
            "_model_module": "@jupyter-widgets/base",
            "top": null,
            "grid_column": null,
            "overflow_y": null,
            "overflow_x": null,
            "grid_auto_flow": null,
            "grid_area": null,
            "grid_template_columns": null,
            "flex": null,
            "_model_name": "LayoutModel",
            "justify_items": null,
            "grid_row": null,
            "max_height": null,
            "align_content": null,
            "visibility": null,
            "align_self": null,
            "height": null,
            "min_height": null,
            "padding": null,
            "grid_auto_rows": null,
            "grid_gap": null,
            "max_width": null,
            "order": null,
            "_view_module_version": "1.2.0",
            "grid_template_areas": null,
            "object_position": null,
            "object_fit": null,
            "grid_auto_columns": null,
            "margin": null,
            "display": null,
            "left": null
          }
        },
        "dd21d0a1ca454ab9b33ff7ba4b7ec784": {
          "model_module": "@jupyter-widgets/controls",
          "model_name": "HBoxModel",
          "state": {
            "_view_name": "HBoxView",
            "_dom_classes": [],
            "_model_name": "HBoxModel",
            "_view_module": "@jupyter-widgets/controls",
            "_model_module_version": "1.5.0",
            "_view_count": null,
            "_view_module_version": "1.5.0",
            "box_style": "",
            "layout": "IPY_MODEL_a64747c5a50e45c4b4b29e04f06e12d9",
            "_model_module": "@jupyter-widgets/controls",
            "children": [
              "IPY_MODEL_86ed334a0223461182fedb52c54285c5",
              "IPY_MODEL_7529ea2bcf114254bab2b8a684bba6cd"
            ]
          }
        },
        "a64747c5a50e45c4b4b29e04f06e12d9": {
          "model_module": "@jupyter-widgets/base",
          "model_name": "LayoutModel",
          "state": {
            "_view_name": "LayoutView",
            "grid_template_rows": null,
            "right": null,
            "justify_content": null,
            "_view_module": "@jupyter-widgets/base",
            "overflow": null,
            "_model_module_version": "1.2.0",
            "_view_count": null,
            "flex_flow": null,
            "width": null,
            "min_width": null,
            "border": null,
            "align_items": null,
            "bottom": null,
            "_model_module": "@jupyter-widgets/base",
            "top": null,
            "grid_column": null,
            "overflow_y": null,
            "overflow_x": null,
            "grid_auto_flow": null,
            "grid_area": null,
            "grid_template_columns": null,
            "flex": null,
            "_model_name": "LayoutModel",
            "justify_items": null,
            "grid_row": null,
            "max_height": null,
            "align_content": null,
            "visibility": null,
            "align_self": null,
            "height": null,
            "min_height": null,
            "padding": null,
            "grid_auto_rows": null,
            "grid_gap": null,
            "max_width": null,
            "order": null,
            "_view_module_version": "1.2.0",
            "grid_template_areas": null,
            "object_position": null,
            "object_fit": null,
            "grid_auto_columns": null,
            "margin": null,
            "display": null,
            "left": null
          }
        },
        "86ed334a0223461182fedb52c54285c5": {
          "model_module": "@jupyter-widgets/controls",
          "model_name": "FloatProgressModel",
          "state": {
            "_view_name": "ProgressView",
            "style": "IPY_MODEL_ca329067c6d943eeabacc27e4cd92e1d",
            "_dom_classes": [],
            "description": "",
            "_model_name": "FloatProgressModel",
            "bar_style": "info",
            "max": 1,
            "_view_module": "@jupyter-widgets/controls",
            "_model_module_version": "1.5.0",
            "value": 1,
            "_view_count": null,
            "_view_module_version": "1.5.0",
            "orientation": "horizontal",
            "min": 0,
            "description_tooltip": null,
            "_model_module": "@jupyter-widgets/controls",
            "layout": "IPY_MODEL_3da50d34ad7a4d658e294eeb2badc25d"
          }
        },
        "7529ea2bcf114254bab2b8a684bba6cd": {
          "model_module": "@jupyter-widgets/controls",
          "model_name": "HTMLModel",
          "state": {
            "_view_name": "HTMLView",
            "style": "IPY_MODEL_f09e3a37aa484ce3b061521c4611467d",
            "_dom_classes": [],
            "description": "",
            "_model_name": "HTMLModel",
            "placeholder": "​",
            "_view_module": "@jupyter-widgets/controls",
            "_model_module_version": "1.5.0",
            "value": " 18949/0 [00:08&lt;00:00, 2298.62 examples/s]",
            "_view_count": null,
            "_view_module_version": "1.5.0",
            "description_tooltip": null,
            "_model_module": "@jupyter-widgets/controls",
            "layout": "IPY_MODEL_7d1d6bbaf3734846b5f7c7e938e863dd"
          }
        },
        "ca329067c6d943eeabacc27e4cd92e1d": {
          "model_module": "@jupyter-widgets/controls",
          "model_name": "ProgressStyleModel",
          "state": {
            "_view_name": "StyleView",
            "_model_name": "ProgressStyleModel",
            "description_width": "initial",
            "_view_module": "@jupyter-widgets/base",
            "_model_module_version": "1.5.0",
            "_view_count": null,
            "_view_module_version": "1.2.0",
            "bar_color": null,
            "_model_module": "@jupyter-widgets/controls"
          }
        },
        "3da50d34ad7a4d658e294eeb2badc25d": {
          "model_module": "@jupyter-widgets/base",
          "model_name": "LayoutModel",
          "state": {
            "_view_name": "LayoutView",
            "grid_template_rows": null,
            "right": null,
            "justify_content": null,
            "_view_module": "@jupyter-widgets/base",
            "overflow": null,
            "_model_module_version": "1.2.0",
            "_view_count": null,
            "flex_flow": null,
            "width": null,
            "min_width": null,
            "border": null,
            "align_items": null,
            "bottom": null,
            "_model_module": "@jupyter-widgets/base",
            "top": null,
            "grid_column": null,
            "overflow_y": null,
            "overflow_x": null,
            "grid_auto_flow": null,
            "grid_area": null,
            "grid_template_columns": null,
            "flex": null,
            "_model_name": "LayoutModel",
            "justify_items": null,
            "grid_row": null,
            "max_height": null,
            "align_content": null,
            "visibility": null,
            "align_self": null,
            "height": null,
            "min_height": null,
            "padding": null,
            "grid_auto_rows": null,
            "grid_gap": null,
            "max_width": null,
            "order": null,
            "_view_module_version": "1.2.0",
            "grid_template_areas": null,
            "object_position": null,
            "object_fit": null,
            "grid_auto_columns": null,
            "margin": null,
            "display": null,
            "left": null
          }
        },
        "f09e3a37aa484ce3b061521c4611467d": {
          "model_module": "@jupyter-widgets/controls",
          "model_name": "DescriptionStyleModel",
          "state": {
            "_view_name": "StyleView",
            "_model_name": "DescriptionStyleModel",
            "description_width": "",
            "_view_module": "@jupyter-widgets/base",
            "_model_module_version": "1.5.0",
            "_view_count": null,
            "_view_module_version": "1.2.0",
            "_model_module": "@jupyter-widgets/controls"
          }
        },
        "7d1d6bbaf3734846b5f7c7e938e863dd": {
          "model_module": "@jupyter-widgets/base",
          "model_name": "LayoutModel",
          "state": {
            "_view_name": "LayoutView",
            "grid_template_rows": null,
            "right": null,
            "justify_content": null,
            "_view_module": "@jupyter-widgets/base",
            "overflow": null,
            "_model_module_version": "1.2.0",
            "_view_count": null,
            "flex_flow": null,
            "width": null,
            "min_width": null,
            "border": null,
            "align_items": null,
            "bottom": null,
            "_model_module": "@jupyter-widgets/base",
            "top": null,
            "grid_column": null,
            "overflow_y": null,
            "overflow_x": null,
            "grid_auto_flow": null,
            "grid_area": null,
            "grid_template_columns": null,
            "flex": null,
            "_model_name": "LayoutModel",
            "justify_items": null,
            "grid_row": null,
            "max_height": null,
            "align_content": null,
            "visibility": null,
            "align_self": null,
            "height": null,
            "min_height": null,
            "padding": null,
            "grid_auto_rows": null,
            "grid_gap": null,
            "max_width": null,
            "order": null,
            "_view_module_version": "1.2.0",
            "grid_template_areas": null,
            "object_position": null,
            "object_fit": null,
            "grid_auto_columns": null,
            "margin": null,
            "display": null,
            "left": null
          }
        },
        "8021c81359b7430686fe544ca246bc22": {
          "model_module": "@jupyter-widgets/controls",
          "model_name": "HBoxModel",
          "state": {
            "_view_name": "HBoxView",
            "_dom_classes": [],
            "_model_name": "HBoxModel",
            "_view_module": "@jupyter-widgets/controls",
            "_model_module_version": "1.5.0",
            "_view_count": null,
            "_view_module_version": "1.5.0",
            "box_style": "",
            "layout": "IPY_MODEL_5c53c15096c74eef9670ea990e1b3bb3",
            "_model_module": "@jupyter-widgets/controls",
            "children": [
              "IPY_MODEL_93826311e4554dc5b3829ec7b8298865",
              "IPY_MODEL_042fc0bb2f924000b74edb91586ab97b"
            ]
          }
        },
        "5c53c15096c74eef9670ea990e1b3bb3": {
          "model_module": "@jupyter-widgets/base",
          "model_name": "LayoutModel",
          "state": {
            "_view_name": "LayoutView",
            "grid_template_rows": null,
            "right": null,
            "justify_content": null,
            "_view_module": "@jupyter-widgets/base",
            "overflow": null,
            "_model_module_version": "1.2.0",
            "_view_count": null,
            "flex_flow": null,
            "width": null,
            "min_width": null,
            "border": null,
            "align_items": null,
            "bottom": null,
            "_model_module": "@jupyter-widgets/base",
            "top": null,
            "grid_column": null,
            "overflow_y": null,
            "overflow_x": null,
            "grid_auto_flow": null,
            "grid_area": null,
            "grid_template_columns": null,
            "flex": null,
            "_model_name": "LayoutModel",
            "justify_items": null,
            "grid_row": null,
            "max_height": null,
            "align_content": null,
            "visibility": null,
            "align_self": null,
            "height": null,
            "min_height": null,
            "padding": null,
            "grid_auto_rows": null,
            "grid_gap": null,
            "max_width": null,
            "order": null,
            "_view_module_version": "1.2.0",
            "grid_template_areas": null,
            "object_position": null,
            "object_fit": null,
            "grid_auto_columns": null,
            "margin": null,
            "display": null,
            "left": null
          }
        },
        "93826311e4554dc5b3829ec7b8298865": {
          "model_module": "@jupyter-widgets/controls",
          "model_name": "FloatProgressModel",
          "state": {
            "_view_name": "ProgressView",
            "style": "IPY_MODEL_ad232826aeed40d58cd50592fc6f0c0c",
            "_dom_classes": [],
            "description": " 95%",
            "_model_name": "FloatProgressModel",
            "bar_style": "danger",
            "max": 18949,
            "_view_module": "@jupyter-widgets/controls",
            "_model_module_version": "1.5.0",
            "value": 17981,
            "_view_count": null,
            "_view_module_version": "1.5.0",
            "orientation": "horizontal",
            "min": 0,
            "description_tooltip": null,
            "_model_module": "@jupyter-widgets/controls",
            "layout": "IPY_MODEL_41f7f86b86c34fd49641ed4256751f5e"
          }
        },
        "042fc0bb2f924000b74edb91586ab97b": {
          "model_module": "@jupyter-widgets/controls",
          "model_name": "HTMLModel",
          "state": {
            "_view_name": "HTMLView",
            "style": "IPY_MODEL_8e80dc3e353f462ea804c9474c9cfd30",
            "_dom_classes": [],
            "description": "",
            "_model_name": "HTMLModel",
            "placeholder": "​",
            "_view_module": "@jupyter-widgets/controls",
            "_model_module_version": "1.5.0",
            "value": " 17981/18949 [00:01&lt;00:00, 50989.68 examples/s]",
            "_view_count": null,
            "_view_module_version": "1.5.0",
            "description_tooltip": null,
            "_model_module": "@jupyter-widgets/controls",
            "layout": "IPY_MODEL_0b04acf09e2549a7a00fe913121f8665"
          }
        },
        "ad232826aeed40d58cd50592fc6f0c0c": {
          "model_module": "@jupyter-widgets/controls",
          "model_name": "ProgressStyleModel",
          "state": {
            "_view_name": "StyleView",
            "_model_name": "ProgressStyleModel",
            "description_width": "initial",
            "_view_module": "@jupyter-widgets/base",
            "_model_module_version": "1.5.0",
            "_view_count": null,
            "_view_module_version": "1.2.0",
            "bar_color": null,
            "_model_module": "@jupyter-widgets/controls"
          }
        },
        "41f7f86b86c34fd49641ed4256751f5e": {
          "model_module": "@jupyter-widgets/base",
          "model_name": "LayoutModel",
          "state": {
            "_view_name": "LayoutView",
            "grid_template_rows": null,
            "right": null,
            "justify_content": null,
            "_view_module": "@jupyter-widgets/base",
            "overflow": null,
            "_model_module_version": "1.2.0",
            "_view_count": null,
            "flex_flow": null,
            "width": null,
            "min_width": null,
            "border": null,
            "align_items": null,
            "bottom": null,
            "_model_module": "@jupyter-widgets/base",
            "top": null,
            "grid_column": null,
            "overflow_y": null,
            "overflow_x": null,
            "grid_auto_flow": null,
            "grid_area": null,
            "grid_template_columns": null,
            "flex": null,
            "_model_name": "LayoutModel",
            "justify_items": null,
            "grid_row": null,
            "max_height": null,
            "align_content": null,
            "visibility": null,
            "align_self": null,
            "height": null,
            "min_height": null,
            "padding": null,
            "grid_auto_rows": null,
            "grid_gap": null,
            "max_width": null,
            "order": null,
            "_view_module_version": "1.2.0",
            "grid_template_areas": null,
            "object_position": null,
            "object_fit": null,
            "grid_auto_columns": null,
            "margin": null,
            "display": null,
            "left": null
          }
        },
        "8e80dc3e353f462ea804c9474c9cfd30": {
          "model_module": "@jupyter-widgets/controls",
          "model_name": "DescriptionStyleModel",
          "state": {
            "_view_name": "StyleView",
            "_model_name": "DescriptionStyleModel",
            "description_width": "",
            "_view_module": "@jupyter-widgets/base",
            "_model_module_version": "1.5.0",
            "_view_count": null,
            "_view_module_version": "1.2.0",
            "_model_module": "@jupyter-widgets/controls"
          }
        },
        "0b04acf09e2549a7a00fe913121f8665": {
          "model_module": "@jupyter-widgets/base",
          "model_name": "LayoutModel",
          "state": {
            "_view_name": "LayoutView",
            "grid_template_rows": null,
            "right": null,
            "justify_content": null,
            "_view_module": "@jupyter-widgets/base",
            "overflow": null,
            "_model_module_version": "1.2.0",
            "_view_count": null,
            "flex_flow": null,
            "width": null,
            "min_width": null,
            "border": null,
            "align_items": null,
            "bottom": null,
            "_model_module": "@jupyter-widgets/base",
            "top": null,
            "grid_column": null,
            "overflow_y": null,
            "overflow_x": null,
            "grid_auto_flow": null,
            "grid_area": null,
            "grid_template_columns": null,
            "flex": null,
            "_model_name": "LayoutModel",
            "justify_items": null,
            "grid_row": null,
            "max_height": null,
            "align_content": null,
            "visibility": null,
            "align_self": null,
            "height": null,
            "min_height": null,
            "padding": null,
            "grid_auto_rows": null,
            "grid_gap": null,
            "max_width": null,
            "order": null,
            "_view_module_version": "1.2.0",
            "grid_template_areas": null,
            "object_position": null,
            "object_fit": null,
            "grid_auto_columns": null,
            "margin": null,
            "display": null,
            "left": null
          }
        },
        "7de6015d273c4811946bb9166a51ddd8": {
          "model_module": "@jupyter-widgets/controls",
          "model_name": "HBoxModel",
          "state": {
            "_view_name": "HBoxView",
            "_dom_classes": [],
            "_model_name": "HBoxModel",
            "_view_module": "@jupyter-widgets/controls",
            "_model_module_version": "1.5.0",
            "_view_count": null,
            "_view_module_version": "1.5.0",
            "box_style": "",
            "layout": "IPY_MODEL_ba5dba3d615340b487a3a5c76259f563",
            "_model_module": "@jupyter-widgets/controls",
            "children": [
              "IPY_MODEL_67e04283855c42808ef0af3bec83d5d8",
              "IPY_MODEL_5f8de3d564bc4712a2a1c82c7e9085be"
            ]
          }
        },
        "ba5dba3d615340b487a3a5c76259f563": {
          "model_module": "@jupyter-widgets/base",
          "model_name": "LayoutModel",
          "state": {
            "_view_name": "LayoutView",
            "grid_template_rows": null,
            "right": null,
            "justify_content": null,
            "_view_module": "@jupyter-widgets/base",
            "overflow": null,
            "_model_module_version": "1.2.0",
            "_view_count": null,
            "flex_flow": null,
            "width": null,
            "min_width": null,
            "border": null,
            "align_items": null,
            "bottom": null,
            "_model_module": "@jupyter-widgets/base",
            "top": null,
            "grid_column": null,
            "overflow_y": null,
            "overflow_x": null,
            "grid_auto_flow": null,
            "grid_area": null,
            "grid_template_columns": null,
            "flex": null,
            "_model_name": "LayoutModel",
            "justify_items": null,
            "grid_row": null,
            "max_height": null,
            "align_content": null,
            "visibility": null,
            "align_self": null,
            "height": null,
            "min_height": null,
            "padding": null,
            "grid_auto_rows": null,
            "grid_gap": null,
            "max_width": null,
            "order": null,
            "_view_module_version": "1.2.0",
            "grid_template_areas": null,
            "object_position": null,
            "object_fit": null,
            "grid_auto_columns": null,
            "margin": null,
            "display": null,
            "left": null
          }
        },
        "67e04283855c42808ef0af3bec83d5d8": {
          "model_module": "@jupyter-widgets/controls",
          "model_name": "FloatProgressModel",
          "state": {
            "_view_name": "ProgressView",
            "style": "IPY_MODEL_ba0520c790954c0f8f18a0aa469a3457",
            "_dom_classes": [],
            "description": "",
            "_model_name": "FloatProgressModel",
            "bar_style": "info",
            "max": 1,
            "_view_module": "@jupyter-widgets/controls",
            "_model_module_version": "1.5.0",
            "value": 1,
            "_view_count": null,
            "_view_module_version": "1.5.0",
            "orientation": "horizontal",
            "min": 0,
            "description_tooltip": null,
            "_model_module": "@jupyter-widgets/controls",
            "layout": "IPY_MODEL_95690e62ac054d00a4542f84e0257f58"
          }
        },
        "5f8de3d564bc4712a2a1c82c7e9085be": {
          "model_module": "@jupyter-widgets/controls",
          "model_name": "HTMLModel",
          "state": {
            "_view_name": "HTMLView",
            "style": "IPY_MODEL_f5e79a2817824f1197f8e9e8777c9bb6",
            "_dom_classes": [],
            "description": "",
            "_model_name": "HTMLModel",
            "placeholder": "​",
            "_view_module": "@jupyter-widgets/controls",
            "_model_module_version": "1.5.0",
            "value": " 3269/0 [00:01&lt;00:00, 2320.84 examples/s]",
            "_view_count": null,
            "_view_module_version": "1.5.0",
            "description_tooltip": null,
            "_model_module": "@jupyter-widgets/controls",
            "layout": "IPY_MODEL_aae98340285d43cca9fe91e50660f4ca"
          }
        },
        "ba0520c790954c0f8f18a0aa469a3457": {
          "model_module": "@jupyter-widgets/controls",
          "model_name": "ProgressStyleModel",
          "state": {
            "_view_name": "StyleView",
            "_model_name": "ProgressStyleModel",
            "description_width": "initial",
            "_view_module": "@jupyter-widgets/base",
            "_model_module_version": "1.5.0",
            "_view_count": null,
            "_view_module_version": "1.2.0",
            "bar_color": null,
            "_model_module": "@jupyter-widgets/controls"
          }
        },
        "95690e62ac054d00a4542f84e0257f58": {
          "model_module": "@jupyter-widgets/base",
          "model_name": "LayoutModel",
          "state": {
            "_view_name": "LayoutView",
            "grid_template_rows": null,
            "right": null,
            "justify_content": null,
            "_view_module": "@jupyter-widgets/base",
            "overflow": null,
            "_model_module_version": "1.2.0",
            "_view_count": null,
            "flex_flow": null,
            "width": null,
            "min_width": null,
            "border": null,
            "align_items": null,
            "bottom": null,
            "_model_module": "@jupyter-widgets/base",
            "top": null,
            "grid_column": null,
            "overflow_y": null,
            "overflow_x": null,
            "grid_auto_flow": null,
            "grid_area": null,
            "grid_template_columns": null,
            "flex": null,
            "_model_name": "LayoutModel",
            "justify_items": null,
            "grid_row": null,
            "max_height": null,
            "align_content": null,
            "visibility": null,
            "align_self": null,
            "height": null,
            "min_height": null,
            "padding": null,
            "grid_auto_rows": null,
            "grid_gap": null,
            "max_width": null,
            "order": null,
            "_view_module_version": "1.2.0",
            "grid_template_areas": null,
            "object_position": null,
            "object_fit": null,
            "grid_auto_columns": null,
            "margin": null,
            "display": null,
            "left": null
          }
        },
        "f5e79a2817824f1197f8e9e8777c9bb6": {
          "model_module": "@jupyter-widgets/controls",
          "model_name": "DescriptionStyleModel",
          "state": {
            "_view_name": "StyleView",
            "_model_name": "DescriptionStyleModel",
            "description_width": "",
            "_view_module": "@jupyter-widgets/base",
            "_model_module_version": "1.5.0",
            "_view_count": null,
            "_view_module_version": "1.2.0",
            "_model_module": "@jupyter-widgets/controls"
          }
        },
        "aae98340285d43cca9fe91e50660f4ca": {
          "model_module": "@jupyter-widgets/base",
          "model_name": "LayoutModel",
          "state": {
            "_view_name": "LayoutView",
            "grid_template_rows": null,
            "right": null,
            "justify_content": null,
            "_view_module": "@jupyter-widgets/base",
            "overflow": null,
            "_model_module_version": "1.2.0",
            "_view_count": null,
            "flex_flow": null,
            "width": null,
            "min_width": null,
            "border": null,
            "align_items": null,
            "bottom": null,
            "_model_module": "@jupyter-widgets/base",
            "top": null,
            "grid_column": null,
            "overflow_y": null,
            "overflow_x": null,
            "grid_auto_flow": null,
            "grid_area": null,
            "grid_template_columns": null,
            "flex": null,
            "_model_name": "LayoutModel",
            "justify_items": null,
            "grid_row": null,
            "max_height": null,
            "align_content": null,
            "visibility": null,
            "align_self": null,
            "height": null,
            "min_height": null,
            "padding": null,
            "grid_auto_rows": null,
            "grid_gap": null,
            "max_width": null,
            "order": null,
            "_view_module_version": "1.2.0",
            "grid_template_areas": null,
            "object_position": null,
            "object_fit": null,
            "grid_auto_columns": null,
            "margin": null,
            "display": null,
            "left": null
          }
        },
        "6431aca2e529481b8be239c97d998b24": {
          "model_module": "@jupyter-widgets/controls",
          "model_name": "HBoxModel",
          "state": {
            "_view_name": "HBoxView",
            "_dom_classes": [],
            "_model_name": "HBoxModel",
            "_view_module": "@jupyter-widgets/controls",
            "_model_module_version": "1.5.0",
            "_view_count": null,
            "_view_module_version": "1.5.0",
            "box_style": "",
            "layout": "IPY_MODEL_4527cff87f6f4116b3f19f9a5f97eb2e",
            "_model_module": "@jupyter-widgets/controls",
            "children": [
              "IPY_MODEL_7c64d2a9347e4f34b007743b7e67eeb2",
              "IPY_MODEL_0f4a1744270f4e9fab35b0713ab46bf7"
            ]
          }
        },
        "4527cff87f6f4116b3f19f9a5f97eb2e": {
          "model_module": "@jupyter-widgets/base",
          "model_name": "LayoutModel",
          "state": {
            "_view_name": "LayoutView",
            "grid_template_rows": null,
            "right": null,
            "justify_content": null,
            "_view_module": "@jupyter-widgets/base",
            "overflow": null,
            "_model_module_version": "1.2.0",
            "_view_count": null,
            "flex_flow": null,
            "width": null,
            "min_width": null,
            "border": null,
            "align_items": null,
            "bottom": null,
            "_model_module": "@jupyter-widgets/base",
            "top": null,
            "grid_column": null,
            "overflow_y": null,
            "overflow_x": null,
            "grid_auto_flow": null,
            "grid_area": null,
            "grid_template_columns": null,
            "flex": null,
            "_model_name": "LayoutModel",
            "justify_items": null,
            "grid_row": null,
            "max_height": null,
            "align_content": null,
            "visibility": null,
            "align_self": null,
            "height": null,
            "min_height": null,
            "padding": null,
            "grid_auto_rows": null,
            "grid_gap": null,
            "max_width": null,
            "order": null,
            "_view_module_version": "1.2.0",
            "grid_template_areas": null,
            "object_position": null,
            "object_fit": null,
            "grid_auto_columns": null,
            "margin": null,
            "display": null,
            "left": null
          }
        },
        "7c64d2a9347e4f34b007743b7e67eeb2": {
          "model_module": "@jupyter-widgets/controls",
          "model_name": "FloatProgressModel",
          "state": {
            "_view_name": "ProgressView",
            "style": "IPY_MODEL_1db3f1ef46e64923af6b285a755359df",
            "_dom_classes": [],
            "description": "  0%",
            "_model_name": "FloatProgressModel",
            "bar_style": "danger",
            "max": 3269,
            "_view_module": "@jupyter-widgets/controls",
            "_model_module_version": "1.5.0",
            "value": 0,
            "_view_count": null,
            "_view_module_version": "1.5.0",
            "orientation": "horizontal",
            "min": 0,
            "description_tooltip": null,
            "_model_module": "@jupyter-widgets/controls",
            "layout": "IPY_MODEL_d15b36180d784a138d2ddc56c8af0d26"
          }
        },
        "0f4a1744270f4e9fab35b0713ab46bf7": {
          "model_module": "@jupyter-widgets/controls",
          "model_name": "HTMLModel",
          "state": {
            "_view_name": "HTMLView",
            "style": "IPY_MODEL_2cb0e316ea234204bd157a5819a95e25",
            "_dom_classes": [],
            "description": "",
            "_model_name": "HTMLModel",
            "placeholder": "​",
            "_view_module": "@jupyter-widgets/controls",
            "_model_module_version": "1.5.0",
            "value": " 0/3269 [00:00&lt;?, ? examples/s]",
            "_view_count": null,
            "_view_module_version": "1.5.0",
            "description_tooltip": null,
            "_model_module": "@jupyter-widgets/controls",
            "layout": "IPY_MODEL_9c3b5997782b47ac8550c785a3600c84"
          }
        },
        "1db3f1ef46e64923af6b285a755359df": {
          "model_module": "@jupyter-widgets/controls",
          "model_name": "ProgressStyleModel",
          "state": {
            "_view_name": "StyleView",
            "_model_name": "ProgressStyleModel",
            "description_width": "initial",
            "_view_module": "@jupyter-widgets/base",
            "_model_module_version": "1.5.0",
            "_view_count": null,
            "_view_module_version": "1.2.0",
            "bar_color": null,
            "_model_module": "@jupyter-widgets/controls"
          }
        },
        "d15b36180d784a138d2ddc56c8af0d26": {
          "model_module": "@jupyter-widgets/base",
          "model_name": "LayoutModel",
          "state": {
            "_view_name": "LayoutView",
            "grid_template_rows": null,
            "right": null,
            "justify_content": null,
            "_view_module": "@jupyter-widgets/base",
            "overflow": null,
            "_model_module_version": "1.2.0",
            "_view_count": null,
            "flex_flow": null,
            "width": null,
            "min_width": null,
            "border": null,
            "align_items": null,
            "bottom": null,
            "_model_module": "@jupyter-widgets/base",
            "top": null,
            "grid_column": null,
            "overflow_y": null,
            "overflow_x": null,
            "grid_auto_flow": null,
            "grid_area": null,
            "grid_template_columns": null,
            "flex": null,
            "_model_name": "LayoutModel",
            "justify_items": null,
            "grid_row": null,
            "max_height": null,
            "align_content": null,
            "visibility": null,
            "align_self": null,
            "height": null,
            "min_height": null,
            "padding": null,
            "grid_auto_rows": null,
            "grid_gap": null,
            "max_width": null,
            "order": null,
            "_view_module_version": "1.2.0",
            "grid_template_areas": null,
            "object_position": null,
            "object_fit": null,
            "grid_auto_columns": null,
            "margin": null,
            "display": null,
            "left": null
          }
        },
        "2cb0e316ea234204bd157a5819a95e25": {
          "model_module": "@jupyter-widgets/controls",
          "model_name": "DescriptionStyleModel",
          "state": {
            "_view_name": "StyleView",
            "_model_name": "DescriptionStyleModel",
            "description_width": "",
            "_view_module": "@jupyter-widgets/base",
            "_model_module_version": "1.5.0",
            "_view_count": null,
            "_view_module_version": "1.2.0",
            "_model_module": "@jupyter-widgets/controls"
          }
        },
        "9c3b5997782b47ac8550c785a3600c84": {
          "model_module": "@jupyter-widgets/base",
          "model_name": "LayoutModel",
          "state": {
            "_view_name": "LayoutView",
            "grid_template_rows": null,
            "right": null,
            "justify_content": null,
            "_view_module": "@jupyter-widgets/base",
            "overflow": null,
            "_model_module_version": "1.2.0",
            "_view_count": null,
            "flex_flow": null,
            "width": null,
            "min_width": null,
            "border": null,
            "align_items": null,
            "bottom": null,
            "_model_module": "@jupyter-widgets/base",
            "top": null,
            "grid_column": null,
            "overflow_y": null,
            "overflow_x": null,
            "grid_auto_flow": null,
            "grid_area": null,
            "grid_template_columns": null,
            "flex": null,
            "_model_name": "LayoutModel",
            "justify_items": null,
            "grid_row": null,
            "max_height": null,
            "align_content": null,
            "visibility": null,
            "align_self": null,
            "height": null,
            "min_height": null,
            "padding": null,
            "grid_auto_rows": null,
            "grid_gap": null,
            "max_width": null,
            "order": null,
            "_view_module_version": "1.2.0",
            "grid_template_areas": null,
            "object_position": null,
            "object_fit": null,
            "grid_auto_columns": null,
            "margin": null,
            "display": null,
            "left": null
          }
        },
        "a07a5a42d71c4cb2957ba86dd06e0397": {
          "model_module": "@jupyter-widgets/controls",
          "model_name": "HBoxModel",
          "state": {
            "_view_name": "HBoxView",
            "_dom_classes": [],
            "_model_name": "HBoxModel",
            "_view_module": "@jupyter-widgets/controls",
            "_model_module_version": "1.5.0",
            "_view_count": null,
            "_view_module_version": "1.5.0",
            "box_style": "",
            "layout": "IPY_MODEL_59d7bf449f334872a862e1dc35f010bb",
            "_model_module": "@jupyter-widgets/controls",
            "children": [
              "IPY_MODEL_6bcd0978caf3428a89502d679bb15528",
              "IPY_MODEL_e12d0480008f400c95f9de48e04b8ca7"
            ]
          }
        },
        "59d7bf449f334872a862e1dc35f010bb": {
          "model_module": "@jupyter-widgets/base",
          "model_name": "LayoutModel",
          "state": {
            "_view_name": "LayoutView",
            "grid_template_rows": null,
            "right": null,
            "justify_content": null,
            "_view_module": "@jupyter-widgets/base",
            "overflow": null,
            "_model_module_version": "1.2.0",
            "_view_count": null,
            "flex_flow": null,
            "width": null,
            "min_width": null,
            "border": null,
            "align_items": null,
            "bottom": null,
            "_model_module": "@jupyter-widgets/base",
            "top": null,
            "grid_column": null,
            "overflow_y": null,
            "overflow_x": null,
            "grid_auto_flow": null,
            "grid_area": null,
            "grid_template_columns": null,
            "flex": null,
            "_model_name": "LayoutModel",
            "justify_items": null,
            "grid_row": null,
            "max_height": null,
            "align_content": null,
            "visibility": null,
            "align_self": null,
            "height": null,
            "min_height": null,
            "padding": null,
            "grid_auto_rows": null,
            "grid_gap": null,
            "max_width": null,
            "order": null,
            "_view_module_version": "1.2.0",
            "grid_template_areas": null,
            "object_position": null,
            "object_fit": null,
            "grid_auto_columns": null,
            "margin": null,
            "display": null,
            "left": null
          }
        },
        "6bcd0978caf3428a89502d679bb15528": {
          "model_module": "@jupyter-widgets/controls",
          "model_name": "FloatProgressModel",
          "state": {
            "_view_name": "ProgressView",
            "style": "IPY_MODEL_f5adb44af1ac429db37d7e8669833ba0",
            "_dom_classes": [],
            "description": "",
            "_model_name": "FloatProgressModel",
            "bar_style": "info",
            "max": 1,
            "_view_module": "@jupyter-widgets/controls",
            "_model_module_version": "1.5.0",
            "value": 1,
            "_view_count": null,
            "_view_module_version": "1.5.0",
            "orientation": "horizontal",
            "min": 0,
            "description_tooltip": null,
            "_model_module": "@jupyter-widgets/controls",
            "layout": "IPY_MODEL_ffe875f48d2449cdadc314e9a30a2103"
          }
        },
        "e12d0480008f400c95f9de48e04b8ca7": {
          "model_module": "@jupyter-widgets/controls",
          "model_name": "HTMLModel",
          "state": {
            "_view_name": "HTMLView",
            "style": "IPY_MODEL_df022e10b47946ae90fba830953d5e34",
            "_dom_classes": [],
            "description": "",
            "_model_name": "HTMLModel",
            "placeholder": "​",
            "_view_module": "@jupyter-widgets/controls",
            "_model_module_version": "1.5.0",
            "value": " 1237/0 [00:00&lt;00:00, 55.05 examples/s]",
            "_view_count": null,
            "_view_module_version": "1.5.0",
            "description_tooltip": null,
            "_model_module": "@jupyter-widgets/controls",
            "layout": "IPY_MODEL_2e4f9ba416a8429faf636759de902830"
          }
        },
        "f5adb44af1ac429db37d7e8669833ba0": {
          "model_module": "@jupyter-widgets/controls",
          "model_name": "ProgressStyleModel",
          "state": {
            "_view_name": "StyleView",
            "_model_name": "ProgressStyleModel",
            "description_width": "initial",
            "_view_module": "@jupyter-widgets/base",
            "_model_module_version": "1.5.0",
            "_view_count": null,
            "_view_module_version": "1.2.0",
            "bar_color": null,
            "_model_module": "@jupyter-widgets/controls"
          }
        },
        "ffe875f48d2449cdadc314e9a30a2103": {
          "model_module": "@jupyter-widgets/base",
          "model_name": "LayoutModel",
          "state": {
            "_view_name": "LayoutView",
            "grid_template_rows": null,
            "right": null,
            "justify_content": null,
            "_view_module": "@jupyter-widgets/base",
            "overflow": null,
            "_model_module_version": "1.2.0",
            "_view_count": null,
            "flex_flow": null,
            "width": null,
            "min_width": null,
            "border": null,
            "align_items": null,
            "bottom": null,
            "_model_module": "@jupyter-widgets/base",
            "top": null,
            "grid_column": null,
            "overflow_y": null,
            "overflow_x": null,
            "grid_auto_flow": null,
            "grid_area": null,
            "grid_template_columns": null,
            "flex": null,
            "_model_name": "LayoutModel",
            "justify_items": null,
            "grid_row": null,
            "max_height": null,
            "align_content": null,
            "visibility": null,
            "align_self": null,
            "height": null,
            "min_height": null,
            "padding": null,
            "grid_auto_rows": null,
            "grid_gap": null,
            "max_width": null,
            "order": null,
            "_view_module_version": "1.2.0",
            "grid_template_areas": null,
            "object_position": null,
            "object_fit": null,
            "grid_auto_columns": null,
            "margin": null,
            "display": null,
            "left": null
          }
        },
        "df022e10b47946ae90fba830953d5e34": {
          "model_module": "@jupyter-widgets/controls",
          "model_name": "DescriptionStyleModel",
          "state": {
            "_view_name": "StyleView",
            "_model_name": "DescriptionStyleModel",
            "description_width": "",
            "_view_module": "@jupyter-widgets/base",
            "_model_module_version": "1.5.0",
            "_view_count": null,
            "_view_module_version": "1.2.0",
            "_model_module": "@jupyter-widgets/controls"
          }
        },
        "2e4f9ba416a8429faf636759de902830": {
          "model_module": "@jupyter-widgets/base",
          "model_name": "LayoutModel",
          "state": {
            "_view_name": "LayoutView",
            "grid_template_rows": null,
            "right": null,
            "justify_content": null,
            "_view_module": "@jupyter-widgets/base",
            "overflow": null,
            "_model_module_version": "1.2.0",
            "_view_count": null,
            "flex_flow": null,
            "width": null,
            "min_width": null,
            "border": null,
            "align_items": null,
            "bottom": null,
            "_model_module": "@jupyter-widgets/base",
            "top": null,
            "grid_column": null,
            "overflow_y": null,
            "overflow_x": null,
            "grid_auto_flow": null,
            "grid_area": null,
            "grid_template_columns": null,
            "flex": null,
            "_model_name": "LayoutModel",
            "justify_items": null,
            "grid_row": null,
            "max_height": null,
            "align_content": null,
            "visibility": null,
            "align_self": null,
            "height": null,
            "min_height": null,
            "padding": null,
            "grid_auto_rows": null,
            "grid_gap": null,
            "max_width": null,
            "order": null,
            "_view_module_version": "1.2.0",
            "grid_template_areas": null,
            "object_position": null,
            "object_fit": null,
            "grid_auto_columns": null,
            "margin": null,
            "display": null,
            "left": null
          }
        },
        "bd70d8b615d942e391ee2b8b2d5e691e": {
          "model_module": "@jupyter-widgets/controls",
          "model_name": "HBoxModel",
          "state": {
            "_view_name": "HBoxView",
            "_dom_classes": [],
            "_model_name": "HBoxModel",
            "_view_module": "@jupyter-widgets/controls",
            "_model_module_version": "1.5.0",
            "_view_count": null,
            "_view_module_version": "1.5.0",
            "box_style": "",
            "layout": "IPY_MODEL_8f177d3e1c8440ee8f9cea31a15f37d4",
            "_model_module": "@jupyter-widgets/controls",
            "children": [
              "IPY_MODEL_6e9ea0c8ba3e4fefaeec691ed3cf3c4d",
              "IPY_MODEL_99e753d799de4c0399cba7c76e296298"
            ]
          }
        },
        "8f177d3e1c8440ee8f9cea31a15f37d4": {
          "model_module": "@jupyter-widgets/base",
          "model_name": "LayoutModel",
          "state": {
            "_view_name": "LayoutView",
            "grid_template_rows": null,
            "right": null,
            "justify_content": null,
            "_view_module": "@jupyter-widgets/base",
            "overflow": null,
            "_model_module_version": "1.2.0",
            "_view_count": null,
            "flex_flow": null,
            "width": null,
            "min_width": null,
            "border": null,
            "align_items": null,
            "bottom": null,
            "_model_module": "@jupyter-widgets/base",
            "top": null,
            "grid_column": null,
            "overflow_y": null,
            "overflow_x": null,
            "grid_auto_flow": null,
            "grid_area": null,
            "grid_template_columns": null,
            "flex": null,
            "_model_name": "LayoutModel",
            "justify_items": null,
            "grid_row": null,
            "max_height": null,
            "align_content": null,
            "visibility": null,
            "align_self": null,
            "height": null,
            "min_height": null,
            "padding": null,
            "grid_auto_rows": null,
            "grid_gap": null,
            "max_width": null,
            "order": null,
            "_view_module_version": "1.2.0",
            "grid_template_areas": null,
            "object_position": null,
            "object_fit": null,
            "grid_auto_columns": null,
            "margin": null,
            "display": null,
            "left": null
          }
        },
        "6e9ea0c8ba3e4fefaeec691ed3cf3c4d": {
          "model_module": "@jupyter-widgets/controls",
          "model_name": "FloatProgressModel",
          "state": {
            "_view_name": "ProgressView",
            "style": "IPY_MODEL_581e56a447734d108ff201a2e7437759",
            "_dom_classes": [],
            "description": "  0%",
            "_model_name": "FloatProgressModel",
            "bar_style": "danger",
            "max": 1237,
            "_view_module": "@jupyter-widgets/controls",
            "_model_module_version": "1.5.0",
            "value": 0,
            "_view_count": null,
            "_view_module_version": "1.5.0",
            "orientation": "horizontal",
            "min": 0,
            "description_tooltip": null,
            "_model_module": "@jupyter-widgets/controls",
            "layout": "IPY_MODEL_460f1b8c99a04eb0a51c7f21340c70d9"
          }
        },
        "99e753d799de4c0399cba7c76e296298": {
          "model_module": "@jupyter-widgets/controls",
          "model_name": "HTMLModel",
          "state": {
            "_view_name": "HTMLView",
            "style": "IPY_MODEL_0a91813765db4249987b66b550d8e887",
            "_dom_classes": [],
            "description": "",
            "_model_name": "HTMLModel",
            "placeholder": "​",
            "_view_module": "@jupyter-widgets/controls",
            "_model_module_version": "1.5.0",
            "value": " 0/1237 [00:03&lt;?, ? examples/s]",
            "_view_count": null,
            "_view_module_version": "1.5.0",
            "description_tooltip": null,
            "_model_module": "@jupyter-widgets/controls",
            "layout": "IPY_MODEL_65a783f59f59475e9d54e95cde58834f"
          }
        },
        "581e56a447734d108ff201a2e7437759": {
          "model_module": "@jupyter-widgets/controls",
          "model_name": "ProgressStyleModel",
          "state": {
            "_view_name": "StyleView",
            "_model_name": "ProgressStyleModel",
            "description_width": "initial",
            "_view_module": "@jupyter-widgets/base",
            "_model_module_version": "1.5.0",
            "_view_count": null,
            "_view_module_version": "1.2.0",
            "bar_color": null,
            "_model_module": "@jupyter-widgets/controls"
          }
        },
        "460f1b8c99a04eb0a51c7f21340c70d9": {
          "model_module": "@jupyter-widgets/base",
          "model_name": "LayoutModel",
          "state": {
            "_view_name": "LayoutView",
            "grid_template_rows": null,
            "right": null,
            "justify_content": null,
            "_view_module": "@jupyter-widgets/base",
            "overflow": null,
            "_model_module_version": "1.2.0",
            "_view_count": null,
            "flex_flow": null,
            "width": null,
            "min_width": null,
            "border": null,
            "align_items": null,
            "bottom": null,
            "_model_module": "@jupyter-widgets/base",
            "top": null,
            "grid_column": null,
            "overflow_y": null,
            "overflow_x": null,
            "grid_auto_flow": null,
            "grid_area": null,
            "grid_template_columns": null,
            "flex": null,
            "_model_name": "LayoutModel",
            "justify_items": null,
            "grid_row": null,
            "max_height": null,
            "align_content": null,
            "visibility": null,
            "align_self": null,
            "height": null,
            "min_height": null,
            "padding": null,
            "grid_auto_rows": null,
            "grid_gap": null,
            "max_width": null,
            "order": null,
            "_view_module_version": "1.2.0",
            "grid_template_areas": null,
            "object_position": null,
            "object_fit": null,
            "grid_auto_columns": null,
            "margin": null,
            "display": null,
            "left": null
          }
        },
        "0a91813765db4249987b66b550d8e887": {
          "model_module": "@jupyter-widgets/controls",
          "model_name": "DescriptionStyleModel",
          "state": {
            "_view_name": "StyleView",
            "_model_name": "DescriptionStyleModel",
            "description_width": "",
            "_view_module": "@jupyter-widgets/base",
            "_model_module_version": "1.5.0",
            "_view_count": null,
            "_view_module_version": "1.2.0",
            "_model_module": "@jupyter-widgets/controls"
          }
        },
        "65a783f59f59475e9d54e95cde58834f": {
          "model_module": "@jupyter-widgets/base",
          "model_name": "LayoutModel",
          "state": {
            "_view_name": "LayoutView",
            "grid_template_rows": null,
            "right": null,
            "justify_content": null,
            "_view_module": "@jupyter-widgets/base",
            "overflow": null,
            "_model_module_version": "1.2.0",
            "_view_count": null,
            "flex_flow": null,
            "width": null,
            "min_width": null,
            "border": null,
            "align_items": null,
            "bottom": null,
            "_model_module": "@jupyter-widgets/base",
            "top": null,
            "grid_column": null,
            "overflow_y": null,
            "overflow_x": null,
            "grid_auto_flow": null,
            "grid_area": null,
            "grid_template_columns": null,
            "flex": null,
            "_model_name": "LayoutModel",
            "justify_items": null,
            "grid_row": null,
            "max_height": null,
            "align_content": null,
            "visibility": null,
            "align_self": null,
            "height": null,
            "min_height": null,
            "padding": null,
            "grid_auto_rows": null,
            "grid_gap": null,
            "max_width": null,
            "order": null,
            "_view_module_version": "1.2.0",
            "grid_template_areas": null,
            "object_position": null,
            "object_fit": null,
            "grid_auto_columns": null,
            "margin": null,
            "display": null,
            "left": null
          }
        }
      }
    }
  },
  "cells": [
    {
      "cell_type": "markdown",
      "metadata": {
        "id": "view-in-github",
        "colab_type": "text"
      },
      "source": [
        "<a href=\"https://colab.research.google.com/github/heyenlow/FLAW/blob/main/FLAW_Final_py.ipynb\" target=\"_parent\"><img src=\"https://colab.research.google.com/assets/colab-badge.svg\" alt=\"Open In Colab\"/></a>"
      ]
    },
    {
      "cell_type": "markdown",
      "metadata": {
        "id": "aPw__XISi-JQ"
      },
      "source": [
        "#IMPORTS"
      ]
    },
    {
      "cell_type": "code",
      "metadata": {
        "colab": {
          "base_uri": "https://localhost:8080/"
        },
        "id": "yWhiQaCWZTNA",
        "outputId": "8850112b-1cc8-4aec-c3b7-86557423e87e"
      },
      "source": [
        "#Keras and TensorFlow\n",
        "import keras\n",
        "from keras import layers\n",
        "import tensorflow as tf\n",
        "import tensorflow_datasets as tfds\n",
        "import numpy as np\n",
        "#Progress Bars\n",
        "import time\n",
        "import progressbar\n",
        "#Encoding\n",
        "from tensorflow.keras.preprocessing.sequence import pad_sequences\n",
        "import sys\n",
        "#Tokenize\n",
        "import collections\n",
        "from collections import Counter\n",
        "import itertools\n",
        "from itertools import chain\n",
        "import string\n",
        "import nltk as nltk\n",
        "from nltk.tokenize import sent_tokenize, word_tokenize\n",
        "from tensorflow.keras.preprocessing.text import Tokenizer\n",
        "nltk.download('punkt')"
      ],
      "execution_count": null,
      "outputs": [
        {
          "output_type": "stream",
          "text": [
            "[nltk_data] Downloading package punkt to /root/nltk_data...\n",
            "[nltk_data]   Unzipping tokenizers/punkt.zip.\n"
          ],
          "name": "stdout"
        },
        {
          "output_type": "execute_result",
          "data": {
            "text/plain": [
              "True"
            ]
          },
          "metadata": {
            "tags": []
          },
          "execution_count": 2
        }
      ]
    },
    {
      "cell_type": "code",
      "metadata": {
        "colab": {
          "base_uri": "https://localhost:8080/"
        },
        "id": "3gyJEupvpmQy",
        "outputId": "f14ae15b-4b55-4ad3-cfe8-4045b8e01368"
      },
      "source": [
        "\n",
        "from google.colab import drive\n",
        "drive.mount('/content/drive')\n",
        "%cd /content/drive"
      ],
      "execution_count": null,
      "outputs": [
        {
          "output_type": "stream",
          "text": [
            "Mounted at /content/drive\n",
            "/content/drive\n"
          ],
          "name": "stdout"
        }
      ]
    },
    {
      "cell_type": "code",
      "metadata": {
        "colab": {
          "base_uri": "https://localhost:8080/"
        },
        "id": "bySyUuVFJhZo",
        "outputId": "9e7e55b6-d82d-436a-9e20-c1771a8aac92"
      },
      "source": [
        "gpu_info = !nvidia-smi\n",
        "gpu_info = '\\n'.join(gpu_info)\n",
        "if gpu_info.find('failed') >= 0:\n",
        "  print('Select the Runtime > \"Change runtime type\" menu to enable a GPU accelerator, ')\n",
        "  print('and then re-execute this cell.')\n",
        "else:\n",
        "  print(gpu_info)"
      ],
      "execution_count": null,
      "outputs": [
        {
          "output_type": "stream",
          "text": [
            "Sun Dec 13 17:43:39 2020       \n",
            "+-----------------------------------------------------------------------------+\n",
            "| NVIDIA-SMI 455.45.01    Driver Version: 418.67       CUDA Version: 10.1     |\n",
            "|-------------------------------+----------------------+----------------------+\n",
            "| GPU  Name        Persistence-M| Bus-Id        Disp.A | Volatile Uncorr. ECC |\n",
            "| Fan  Temp  Perf  Pwr:Usage/Cap|         Memory-Usage | GPU-Util  Compute M. |\n",
            "|                               |                      |               MIG M. |\n",
            "|===============================+======================+======================|\n",
            "|   0  Tesla V100-SXM2...  Off  | 00000000:00:04.0 Off |                    0 |\n",
            "| N/A   33C    P0    24W / 300W |      0MiB / 16130MiB |      0%      Default |\n",
            "|                               |                      |                 ERR! |\n",
            "+-------------------------------+----------------------+----------------------+\n",
            "                                                                               \n",
            "+-----------------------------------------------------------------------------+\n",
            "| Processes:                                                                  |\n",
            "|  GPU   GI   CI        PID   Type   Process name                  GPU Memory |\n",
            "|        ID   ID                                                   Usage      |\n",
            "|=============================================================================|\n",
            "|  No running processes found                                                 |\n",
            "+-----------------------------------------------------------------------------+\n"
          ],
          "name": "stdout"
        }
      ]
    },
    {
      "cell_type": "code",
      "metadata": {
        "colab": {
          "base_uri": "https://localhost:8080/"
        },
        "id": "O67dmu_pJsYA",
        "outputId": "4b965c4a-5444-4a00-e37f-e8abd91e2e21"
      },
      "source": [
        "from psutil import virtual_memory\n",
        "ram_gb = virtual_memory().total / 1e9\n",
        "print('Your runtime has {:.1f} gigabytes of available RAM\\n'.format(ram_gb))\n",
        "\n",
        "if ram_gb < 20:\n",
        "  print('To enable a high-RAM runtime, select the Runtime > \"Change runtime type\"')\n",
        "  print('menu, and then select High-RAM in the Runtime shape dropdown. Then, ')\n",
        "  print('re-execute this cell.')\n",
        "else:\n",
        "  print('You are using a high-RAM runtime!')"
      ],
      "execution_count": null,
      "outputs": [
        {
          "output_type": "stream",
          "text": [
            "Your runtime has 27.4 gigabytes of available RAM\n",
            "\n",
            "You are using a high-RAM runtime!\n"
          ],
          "name": "stdout"
        }
      ]
    },
    {
      "cell_type": "markdown",
      "metadata": {
        "id": "V9X7J-bNgOsx"
      },
      "source": [
        "#Build Dataset"
      ]
    },
    {
      "cell_type": "markdown",
      "metadata": {
        "id": "32vEtilqiuyQ"
      },
      "source": [
        "##Download Dataset"
      ]
    },
    {
      "cell_type": "code",
      "metadata": {
        "colab": {
          "base_uri": "https://localhost:8080/",
          "referenced_widgets": [
            "a39a310797674b80ac0f2f2a0c881a51",
            "ebb227ceaa9e4393a56c716c94e6f9c7",
            "5c33898f297b4a4484faad55809a7d8c",
            "599473dd699741d9b37e99ae6741d84e",
            "5df25dd2aea94685813d0ae54aa6774e",
            "ca4e54cd8519452d8dfffbc581cc8370",
            "2c23b9f7d05f4bc5b6509a0a9819563f",
            "7e207a63fa364488b3520c359342d9e2",
            "b8e5fec87cdf4bf88dc187098cd0a026",
            "9a4ff92180cd472197d6270e79e21cce",
            "c6f7aaffbdd348cb9d0915b464669006",
            "2632a613b73c4790a6ad6fd7779362d5",
            "96c978b19c814d7380c37592f6ffda13",
            "c771a260e37c4680be9ea5266e4a1e86",
            "6f49dd2a8b0b424c82c8a1e1dd5a2301",
            "67ccc181b62d426194dca231cd97d22d",
            "17ea286019774fcb87565e062fe2769c",
            "a6f076d207164784898147d2465b52b3",
            "3405f049072542a889edf60714ee203c",
            "87876b539b6e4e6d9f0277644c845b52",
            "8aaf85caecf040a8acfb706791cd43b1",
            "f64464eaa13743ee86844d250f5177c3",
            "7d66296947bc40afa9a1f6ec8df2fd01",
            "8bf671bf73df42938750682447c7ebb9",
            "dd21d0a1ca454ab9b33ff7ba4b7ec784",
            "a64747c5a50e45c4b4b29e04f06e12d9",
            "86ed334a0223461182fedb52c54285c5",
            "7529ea2bcf114254bab2b8a684bba6cd",
            "ca329067c6d943eeabacc27e4cd92e1d",
            "3da50d34ad7a4d658e294eeb2badc25d",
            "f09e3a37aa484ce3b061521c4611467d",
            "7d1d6bbaf3734846b5f7c7e938e863dd",
            "8021c81359b7430686fe544ca246bc22",
            "5c53c15096c74eef9670ea990e1b3bb3",
            "93826311e4554dc5b3829ec7b8298865",
            "042fc0bb2f924000b74edb91586ab97b",
            "ad232826aeed40d58cd50592fc6f0c0c",
            "41f7f86b86c34fd49641ed4256751f5e",
            "8e80dc3e353f462ea804c9474c9cfd30",
            "0b04acf09e2549a7a00fe913121f8665",
            "7de6015d273c4811946bb9166a51ddd8",
            "ba5dba3d615340b487a3a5c76259f563",
            "67e04283855c42808ef0af3bec83d5d8",
            "5f8de3d564bc4712a2a1c82c7e9085be",
            "ba0520c790954c0f8f18a0aa469a3457",
            "95690e62ac054d00a4542f84e0257f58",
            "f5e79a2817824f1197f8e9e8777c9bb6",
            "aae98340285d43cca9fe91e50660f4ca",
            "6431aca2e529481b8be239c97d998b24",
            "4527cff87f6f4116b3f19f9a5f97eb2e",
            "7c64d2a9347e4f34b007743b7e67eeb2",
            "0f4a1744270f4e9fab35b0713ab46bf7",
            "1db3f1ef46e64923af6b285a755359df",
            "d15b36180d784a138d2ddc56c8af0d26",
            "2cb0e316ea234204bd157a5819a95e25",
            "9c3b5997782b47ac8550c785a3600c84",
            "a07a5a42d71c4cb2957ba86dd06e0397",
            "59d7bf449f334872a862e1dc35f010bb",
            "6bcd0978caf3428a89502d679bb15528",
            "e12d0480008f400c95f9de48e04b8ca7",
            "f5adb44af1ac429db37d7e8669833ba0",
            "ffe875f48d2449cdadc314e9a30a2103",
            "df022e10b47946ae90fba830953d5e34",
            "2e4f9ba416a8429faf636759de902830",
            "bd70d8b615d942e391ee2b8b2d5e691e",
            "8f177d3e1c8440ee8f9cea31a15f37d4",
            "6e9ea0c8ba3e4fefaeec691ed3cf3c4d",
            "99e753d799de4c0399cba7c76e296298",
            "581e56a447734d108ff201a2e7437759",
            "460f1b8c99a04eb0a51c7f21340c70d9",
            "0a91813765db4249987b66b550d8e887",
            "65a783f59f59475e9d54e95cde58834f"
          ]
        },
        "id": "vyJ9hv6CiVtH",
        "outputId": "3e83adc5-31ae-432b-a41c-d0ba69bc71b9"
      },
      "source": [
        "ds, info = tfds.load(\"billsum\", with_info=True)\n",
        "ds_ca_test, ds_test, ds_train = ds[\"ca_test\"], ds[\"test\"], ds[\"train\"] \n",
        "print(info)\n",
        "print(ds_train)\n",
        "\n",
        "ds_numpy = tfds.as_numpy(ds_train);\n",
        "\n",
        "#for summ in ds_numpy:\n",
        " # print(summ)\n",
        "\n",
        "###PRINTS EVERY SUMMARY IN THE DS\n",
        "#for ins in ds_train:\n",
        " # summary_i = ins[\"summary\"]\n",
        "  #print(summary_i)\n",
        "\n",
        "\n",
        "\n",
        "#FeaturesDict({\n",
        " #   'summary': Text(shape=(), dtype=tf.string),\n",
        "  #  'text': Text(shape=(), dtype=tf.string),\n",
        "   # 'title': Text(shape=(), dtype=tf.string),\n",
        "#})"
      ],
      "execution_count": null,
      "outputs": [
        {
          "output_type": "stream",
          "text": [
            "\u001b[1mDownloading and preparing dataset billsum/3.0.0 (download: 64.14 MiB, generated: Unknown size, total: 64.14 MiB) to /root/tensorflow_datasets/billsum/3.0.0...\u001b[0m\n"
          ],
          "name": "stdout"
        },
        {
          "output_type": "display_data",
          "data": {
            "application/vnd.jupyter.widget-view+json": {
              "model_id": "a39a310797674b80ac0f2f2a0c881a51",
              "version_minor": 0,
              "version_major": 2
            },
            "text/plain": [
              "HBox(children=(FloatProgress(value=1.0, bar_style='info', description='Dl Completed...', max=1.0, style=Progre…"
            ]
          },
          "metadata": {
            "tags": []
          }
        },
        {
          "output_type": "display_data",
          "data": {
            "application/vnd.jupyter.widget-view+json": {
              "model_id": "b8e5fec87cdf4bf88dc187098cd0a026",
              "version_minor": 0,
              "version_major": 2
            },
            "text/plain": [
              "HBox(children=(FloatProgress(value=1.0, bar_style='info', description='Dl Size...', max=1.0, style=ProgressSty…"
            ]
          },
          "metadata": {
            "tags": []
          }
        },
        {
          "output_type": "display_data",
          "data": {
            "application/vnd.jupyter.widget-view+json": {
              "model_id": "17ea286019774fcb87565e062fe2769c",
              "version_minor": 0,
              "version_major": 2
            },
            "text/plain": [
              "HBox(children=(FloatProgress(value=1.0, bar_style='info', description='Extraction completed...', max=1.0, styl…"
            ]
          },
          "metadata": {
            "tags": []
          }
        },
        {
          "output_type": "stream",
          "text": [
            "\n",
            "\n",
            "\n",
            "\n",
            "\n",
            "\n"
          ],
          "name": "stdout"
        },
        {
          "output_type": "display_data",
          "data": {
            "application/vnd.jupyter.widget-view+json": {
              "model_id": "dd21d0a1ca454ab9b33ff7ba4b7ec784",
              "version_minor": 0,
              "version_major": 2
            },
            "text/plain": [
              "HBox(children=(FloatProgress(value=1.0, bar_style='info', max=1.0), HTML(value='')))"
            ]
          },
          "metadata": {
            "tags": []
          }
        },
        {
          "output_type": "stream",
          "text": [
            "\rShuffling and writing examples to /root/tensorflow_datasets/billsum/3.0.0.incompleteHNZXBF/billsum-train.tfrecord\n"
          ],
          "name": "stdout"
        },
        {
          "output_type": "display_data",
          "data": {
            "application/vnd.jupyter.widget-view+json": {
              "model_id": "8021c81359b7430686fe544ca246bc22",
              "version_minor": 0,
              "version_major": 2
            },
            "text/plain": [
              "HBox(children=(FloatProgress(value=0.0, max=18949.0), HTML(value='')))"
            ]
          },
          "metadata": {
            "tags": []
          }
        },
        {
          "output_type": "display_data",
          "data": {
            "application/vnd.jupyter.widget-view+json": {
              "model_id": "7de6015d273c4811946bb9166a51ddd8",
              "version_minor": 0,
              "version_major": 2
            },
            "text/plain": [
              "HBox(children=(FloatProgress(value=1.0, bar_style='info', max=1.0), HTML(value='')))"
            ]
          },
          "metadata": {
            "tags": []
          }
        },
        {
          "output_type": "stream",
          "text": [
            "Shuffling and writing examples to /root/tensorflow_datasets/billsum/3.0.0.incompleteHNZXBF/billsum-test.tfrecord\n"
          ],
          "name": "stdout"
        },
        {
          "output_type": "display_data",
          "data": {
            "application/vnd.jupyter.widget-view+json": {
              "model_id": "6431aca2e529481b8be239c97d998b24",
              "version_minor": 0,
              "version_major": 2
            },
            "text/plain": [
              "HBox(children=(FloatProgress(value=0.0, max=3269.0), HTML(value='')))"
            ]
          },
          "metadata": {
            "tags": []
          }
        },
        {
          "output_type": "stream",
          "text": [
            "\r"
          ],
          "name": "stdout"
        },
        {
          "output_type": "display_data",
          "data": {
            "application/vnd.jupyter.widget-view+json": {
              "model_id": "a07a5a42d71c4cb2957ba86dd06e0397",
              "version_minor": 0,
              "version_major": 2
            },
            "text/plain": [
              "HBox(children=(FloatProgress(value=1.0, bar_style='info', max=1.0), HTML(value='')))"
            ]
          },
          "metadata": {
            "tags": []
          }
        },
        {
          "output_type": "stream",
          "text": [
            "Shuffling and writing examples to /root/tensorflow_datasets/billsum/3.0.0.incompleteHNZXBF/billsum-ca_test.tfrecord\n"
          ],
          "name": "stdout"
        },
        {
          "output_type": "display_data",
          "data": {
            "application/vnd.jupyter.widget-view+json": {
              "model_id": "bd70d8b615d942e391ee2b8b2d5e691e",
              "version_minor": 0,
              "version_major": 2
            },
            "text/plain": [
              "HBox(children=(FloatProgress(value=0.0, max=1237.0), HTML(value='')))"
            ]
          },
          "metadata": {
            "tags": []
          }
        },
        {
          "output_type": "stream",
          "text": [
            "\u001b[1mDataset billsum downloaded and prepared to /root/tensorflow_datasets/billsum/3.0.0. Subsequent calls will reuse this data.\u001b[0m\n",
            "tfds.core.DatasetInfo(\n",
            "    name='billsum',\n",
            "    version=3.0.0,\n",
            "    description='BillSum, summarization of US Congressional and California state bills.\n",
            "\n",
            "There are several features:\n",
            "  - text: bill text.\n",
            "  - summary: summary of the bills.\n",
            "  - title: title of the bills.\n",
            "features for us bills. ca bills does not have.\n",
            "  - text_len: number of chars in text.\n",
            "  - sum_len: number of chars in summary.',\n",
            "    homepage='https://github.com/FiscalNote/BillSum',\n",
            "    features=FeaturesDict({\n",
            "        'summary': Text(shape=(), dtype=tf.string),\n",
            "        'text': Text(shape=(), dtype=tf.string),\n",
            "        'title': Text(shape=(), dtype=tf.string),\n",
            "    }),\n",
            "    total_num_examples=23455,\n",
            "    splits={\n",
            "        'ca_test': 1237,\n",
            "        'test': 3269,\n",
            "        'train': 18949,\n",
            "    },\n",
            "    supervised_keys=('text', 'summary'),\n",
            "    citation=\"\"\"@misc{kornilova2019billsum,\n",
            "        title={BillSum: A Corpus for Automatic Summarization of US Legislation},\n",
            "        author={Anastassia Kornilova and Vlad Eidelman},\n",
            "        year={2019},\n",
            "        eprint={1910.00523},\n",
            "        archivePrefix={arXiv},\n",
            "        primaryClass={cs.CL}\n",
            "    }\"\"\",\n",
            "    redistribution_info=,\n",
            ")\n",
            "\n",
            "<PrefetchDataset shapes: {summary: (), text: (), title: ()}, types: {summary: tf.string, text: tf.string, title: tf.string}>\n"
          ],
          "name": "stdout"
        }
      ]
    },
    {
      "cell_type": "markdown",
      "metadata": {
        "id": "a40QWIZYimdq"
      },
      "source": [
        "##Dataset"
      ]
    },
    {
      "cell_type": "markdown",
      "metadata": {
        "id": "txh1FQ8KH5Gi"
      },
      "source": [
        "####Clean DS Code from DS creator"
      ]
    },
    {
      "cell_type": "code",
      "metadata": {
        "id": "38YIIe-wBWkk"
      },
      "source": [
        "import os\n",
        "import pandas as pd\n",
        "import pickle\n",
        "import re\n",
        "import unicodedata\n",
        "\n",
        "def normalize_input(text):\n",
        "  return unicodedata.normalize('NFD', text).encode('ascii', 'ignore')\n",
        "  \n",
        "def replace_semicolon(text, threshold=10):\n",
        "    '''\n",
        "    Get rid of semicolons.\n",
        "    First split text into fragments between the semicolons. If the fragment \n",
        "    is longer than the threshold, turn the semicolon into a period. O.w treat\n",
        "    it as a comma.\n",
        "    Returns new text\n",
        "    '''\n",
        "    new_text = \"\"\n",
        "    for subset in re.split(';', text):\n",
        "        subset = subset.strip() # Clear off spaces\n",
        "        # Check word count\n",
        "        if len(subset.split()) > threshold:\n",
        "            # Turn first char into uppercase\n",
        "            new_text += \". \" + subset[0].upper() + subset[1:]\n",
        "        else:\n",
        "            # Just append with a comma \n",
        "            new_text += \", \" + subset\n",
        "\n",
        "    return new_text\n",
        "\n",
        "USC_re = re.compile('[Uu]\\.*[Ss]\\.*[Cc]\\.]+')\n",
        "PAREN_re = re.compile('\\([^(]+\\ [^\\(]+\\)')\n",
        "BAD_PUNCT_RE = re.compile(r'([%s])' % re.escape('\"#%&\\*\\+/<=>@[\\]^{|}~_'), re.UNICODE)\n",
        "BULLET_RE = re.compile('\\n[\\ \\t]*`*\\([a-zA-Z0-9]*\\)')\n",
        "DASH_RE = re.compile('--+')\n",
        "WHITESPACE_RE = re.compile('\\s+')\n",
        "EMPTY_SENT_RE = re.compile('[,\\.]\\ *[\\.,]')\n",
        "FIX_START_RE = re.compile('^[^A-Za-z]*')\n",
        "FIX_PERIOD = re.compile('\\.([A-Za-z])')\n",
        "SECTION_HEADER_RE = re.compile('SECTION [0-9]{1,2}\\.|\\nSEC\\.* [0-9]{1,2}\\.|Sec\\.* [0-9]{1,2}\\.')\n",
        "\n",
        "FIX_PERIOD = re.compile('\\.([A-Za-z])')\n",
        "\n",
        "SECTION_HEADER_RE = re.compile('SECTION [0-9]{1,2}\\.|\\nSEC\\.* [0-9]{1,2}\\.|Sec\\.* [0-9]{1,2}\\.')\n",
        "\n",
        "def clean_text(text):\n",
        "    \"\"\"\n",
        "    Borrowed from the FNDS text processing with additional logic added in.\n",
        "    Note: we do not take care of token breaking - assume SPACY's tokenizer\n",
        "    will handle this for us.\n",
        "    \"\"\"\n",
        "\n",
        "    # Indicate section headers, we need them for features\n",
        "    text = SECTION_HEADER_RE.sub('SECTION-HEADER', text)\n",
        "    # For simplicity later, remove '.' from most common acronym\n",
        "    text = text.replace(\"U.S.\", \"US\")\n",
        "    text = text.replace('SEC.', 'Section')\n",
        "    text = text.replace('Sec.', 'Section')\n",
        "    text = USC_re.sub('USC', text)\n",
        "\n",
        "    # Remove parantheticals because they are almost always references to laws \n",
        "    # We could add a special tag, but we just remove for now\n",
        "    # Note we dont get rid of nested parens because that is a complex re\n",
        "    #text = PAREN_re.sub('LAWREF', text)\n",
        "    text = PAREN_re.sub('', text)\n",
        "    \n",
        "\n",
        "    # Get rid of enums as bullets or ` as bullets\n",
        "    text = BULLET_RE.sub(' ',text)\n",
        "    \n",
        "    # remove &nbsp\n",
        "    text = text.replace('&nbsp', '')\n",
        "\n",
        "\n",
        "    # Clean html \n",
        "    text = text.replace('&lt;all&gt;', '')\n",
        "\n",
        "    # Remove annoying punctuation, that's not relevant\n",
        "    text = BAD_PUNCT_RE.sub('', text)\n",
        "\n",
        "    # Get rid of long sequences of dashes - these are formating\n",
        "    text = DASH_RE.sub( ' ', text)\n",
        "\n",
        "    # removing newlines, tabs, and extra spaces.\n",
        "    text = WHITESPACE_RE.sub(' ', text)\n",
        "    \n",
        "    # If we ended up with \"empty\" sentences - get rid of them.\n",
        "    text = EMPTY_SENT_RE.sub('.', text)\n",
        "    \n",
        "    # Attempt to create sentences from bullets \n",
        "    text = replace_semicolon(text)\n",
        "    \n",
        "    # Fix weird period issues + start of text weirdness\n",
        "    #text = re.sub('\\.(?=[A-Z])', '  . ', text)\n",
        "    # Get rid of anything thats not a word from the start of the text\n",
        "    text = FIX_START_RE.sub( '', text)\n",
        "    # Sometimes periods get formatted weird, make sure there is a space between periods and start of sent   \n",
        "    text = FIX_PERIOD.sub(\". \\g<1>\", text)\n",
        "\n",
        "    # Fix quotes\n",
        "    text = text.replace('``', '\"')\n",
        "    text = text.replace('\\'\\'', '\"')\n",
        "    text = str(normalize_input(text))\n",
        "\n",
        "    # Add special punct back in\n",
        "    text = text.replace('SECTION-HEADER', '')\n",
        "    text = text.replace('SHORT TITLE.', '')\n",
        "\n",
        "    text = re.sub('Section [0-9]{1,2}\\.', '', text)\n",
        "    text = re.sub(\"(\\w)quot(\\s|\\.|$)\", r\"\\1 \", text)\n",
        "\n",
        "    return text"
      ],
      "execution_count": null,
      "outputs": []
    },
    {
      "cell_type": "markdown",
      "metadata": {
        "id": "XelkCNDgi3XA"
      },
      "source": [
        "###Tokenize"
      ]
    },
    {
      "cell_type": "code",
      "metadata": {
        "id": "AlQxGrUP800n"
      },
      "source": [
        "train_tokens_file = '/content/drive/My Drive/glove/train_tokens.pkl'\n",
        "test_tokens_file =  '/content/drive/My Drive/glove/test_tokens.pkl'\n",
        "import os.path\n",
        "from os import path\n",
        "#load object from file\n",
        "def load_tok(datastruct_file):\n",
        "  tok_set = None\n",
        "  if path.exists(datastruct_file):\n",
        "    dfile = open(datastruct_file, 'rb')\n",
        "    tok_set = pickle.load(dfile)\n",
        "    dfile.close()\n",
        "  return tok_set\n",
        "\n",
        "train_set = load_tok(train_tokens_file)\n",
        "test_set = load_tok(test_tokens_file)"
      ],
      "execution_count": null,
      "outputs": []
    },
    {
      "cell_type": "code",
      "metadata": {
        "id": "bAL96r-5mFkP"
      },
      "source": [
        "def clean_item(text):\n",
        "  txt = (clean_text(re.sub(\"\\(\\d\\)\", '',(str(text)[12:-26]).replace(\"\\\\n\", \" \")))).lower()\n",
        "  mytable = txt.maketrans(\".-\", \"  \", \",'`;)\\\":\")\n",
        "  return txt.translate(mytable)\n",
        "\n",
        "def clean_and_tokenize(datastruct):\n",
        "  return word_tokenize(clean_item(datastruct['summary'])), word_tokenize(clean_item(datastruct['text']))\n",
        "\n",
        "def format_data(datastruct):\n",
        "  data_set = {'x': [], 'y': []}\n",
        "  count = 0\n",
        "  with progressbar.ProgressBar(max_value=len(datastruct)) as bar:\n",
        "    for entry in datastruct:\n",
        "      art, sum = clean_and_tokenize(entry)\n",
        "      data_set['x'].append(art)\n",
        "      data_set['y'].append(sum)\n",
        "      count += 1\n",
        "      bar.update(count)\n",
        "  return data_set\n",
        "\n"
      ],
      "execution_count": null,
      "outputs": []
    },
    {
      "cell_type": "code",
      "metadata": {
        "id": "FA-5hI5f87XM",
        "colab": {
          "base_uri": "https://localhost:8080/"
        },
        "outputId": "f22ddf10-921b-4c35-fdf6-a6f36726fe7e"
      },
      "source": [
        "#save data to file\n",
        "def save(datastruct_file, dataset):\n",
        "  dfile = open(datastruct_file, 'wb')\n",
        "  pickle.dump(dataset, dfile)\n",
        "  dfile.close()\n",
        "\n",
        "if True:\n",
        "  train_set = format_data(ds_train)\n",
        "  test_set = format_data(ds_test)\n",
        "  save(train_tokens_file, train_set)\n",
        "  save(test_tokens_file, train_set)"
      ],
      "execution_count": null,
      "outputs": [
        {
          "output_type": "stream",
          "text": [
            "100% (18949 of 18949) |##################| Elapsed Time: 0:03:02 Time:  0:03:02\n",
            "100% (3269 of 3269) |####################| Elapsed Time: 0:00:31 Time:  0:00:31\n"
          ],
          "name": "stderr"
        }
      ]
    },
    {
      "cell_type": "code",
      "metadata": {
        "id": "2-0cP9jPXMM1"
      },
      "source": [
        "def get_vocab(dataset):\n",
        "    return Counter(item for subset in dataset for lst in dataset[subset] for item in lst).keys()\n",
        "\n",
        "vocab_list = get_vocab(train_set)"
      ],
      "execution_count": null,
      "outputs": []
    },
    {
      "cell_type": "markdown",
      "metadata": {
        "id": "MGEJwwzUi6S1"
      },
      "source": [
        "###Embedding"
      ]
    },
    {
      "cell_type": "markdown",
      "metadata": {
        "id": "T_DVaRhbi_z8"
      },
      "source": [
        "####GloVe"
      ]
    },
    {
      "cell_type": "code",
      "metadata": {
        "id": "wWQIi3-Zpf6u",
        "colab": {
          "base_uri": "https://localhost:8080/"
        },
        "outputId": "b9a39343-6eb1-4181-a548-39a3fd65ed1f"
      },
      "source": [
        "#Creates Vectors\n",
        "#taken from https://medium.com/analytics-vidhya/basics-of-using-pre-trained-glove-vectors-in-python-d38905f356db\n",
        "vectors_dict = {}\n",
        "glove_file_4B = '/content/drive/My Drive/glove/glove.6B.50d.txt'\n",
        "glove_file_42B = '/content/drive/My Drive/glove/glove.42B.300d.txt'\n",
        "size = 400000 #4B = 400000 , 42B = 1917494\n",
        "embedding_dim = 50\n",
        "\n",
        "with open(glove_file_4B, 'r') as GloVe:\n",
        "  i = 0\n",
        "  #with progressbar.ProgressBar(max_value=size) as bar:\n",
        "  for line in GloVe:\n",
        "    values = line.split()\n",
        "    word = values[0]\n",
        "    vector = np.asarray(values[1:], \"float32\")\n",
        "    vectors_dict[word] = vector\n",
        "    #  bar.update(i)\n",
        "    i += 1\n",
        "print(i)"
      ],
      "execution_count": null,
      "outputs": [
        {
          "output_type": "stream",
          "text": [
            "400000\n"
          ],
          "name": "stdout"
        }
      ]
    },
    {
      "cell_type": "markdown",
      "metadata": {
        "id": "2mAW4MzQ70sR"
      },
      "source": [
        "####Embedding *Matrix*"
      ]
    },
    {
      "cell_type": "code",
      "metadata": {
        "id": "_WE26_BSDe0C",
        "colab": {
          "base_uri": "https://localhost:8080/"
        },
        "outputId": "2556d2d6-fd47-4649-e80f-926185ca629a"
      },
      "source": [
        "#Creates Embedding -> (word_index : vectors)\n",
        "i = 0\n",
        "failed = 0\n",
        "embedding_dictionary = {}\n",
        "\n",
        "with progressbar.ProgressBar(max_value=len(vocab_list)) as bar:\n",
        "  for word in vocab_list:\n",
        "    if word in vectors_dict:\n",
        "      embedding_dictionary[word] = vectors_dict[word].astype('float32')\n",
        "    else:\n",
        "      failed += 1\n",
        "      #print(word)\n",
        "    bar.update(i)\n",
        "    i += 1\n",
        "\n",
        "word_count = len(embedding_dictionary)+2\n",
        "print(f\"Embeddings Dict size: {word_count}\")\n",
        "print(f\"{failed} words did not match the glove\")\n",
        "#print(embedding_matrix[tokenizer.word_index[\"bureau\"]])\n",
        "print(sys.getsizeof(embedding_dictionary))\n",
        "\n",
        "tokenizer = Tokenizer(num_words=word_count, oov_token='OOV')\n",
        "tokenizer.fit_on_texts(embedding_dictionary.keys())\n",
        "\n",
        "embedding_matrix = np.zeros((word_count, embedding_dim), dtype='float32')\n",
        "\n",
        "for w in tokenizer.word_index:\n",
        "  if w in embedding_dictionary:\n",
        "    embedding_matrix[tokenizer.word_index[w]] = embedding_dictionary[w]\n",
        "\n",
        "del embedding_dictionary"
      ],
      "execution_count": null,
      "outputs": [
        {
          "output_type": "stream",
          "text": [
            "100% (74175 of 74175) |##################| Elapsed Time: 0:00:00 Time:  0:00:00\n"
          ],
          "name": "stderr"
        },
        {
          "output_type": "stream",
          "text": [
            "Embeddings Dict size: 42053\n",
            "32124 words did not match the glove\n",
            "1310816\n"
          ],
          "name": "stdout"
        }
      ]
    },
    {
      "cell_type": "markdown",
      "metadata": {
        "id": "dwx5kdyo0J3z"
      },
      "source": [
        "##New Encoding"
      ]
    },
    {
      "cell_type": "code",
      "metadata": {
        "id": "H7kNuQlMzrMF"
      },
      "source": [
        "max_article_length = 2000\n",
        "max_summary_length = 2000\n",
        "trunc_type='post'\n",
        "padding_type='post'\n",
        "\n",
        "def encode(data_set):\n",
        "  art_sequences = tokenizer.texts_to_sequences(data_set['x'])\n",
        "  art_padded = pad_sequences(art_sequences, maxlen=max_article_length, padding=padding_type, truncating=trunc_type)\n",
        "  sum_sequences = tokenizer.texts_to_sequences(data_set['y'])\n",
        "  sum_padded = pad_sequences(sum_sequences, maxlen=max_summary_length, padding=padding_type, truncating=trunc_type)\n",
        "  return {'x': art_padded, 'y': sum_padded}\n",
        "\n",
        "training_padded = encode(train_set)\n",
        "testing_padded = encode(test_set)\n",
        "\n",
        "del train_set\n",
        "del test_set"
      ],
      "execution_count": null,
      "outputs": []
    },
    {
      "cell_type": "markdown",
      "metadata": {
        "id": "IkuDjAt95mOo"
      },
      "source": [
        "###Decoding"
      ]
    },
    {
      "cell_type": "code",
      "metadata": {
        "id": "Sr4_luYl_NEo"
      },
      "source": [
        "def find_closest(embeddings, embedding_dict):\n",
        "  divisors = np.matmul(np.linalg.norm(embeddings, axis=1).reshape(len(embeddings), 1), np.linalg.norm(embedding_dict, axis=1).reshape(1, len(embedding_dict)))+np.float32(0.00001)\n",
        "  numerators = np.tensordot(embeddings, embedding_dict, axes=(1,1))\n",
        "  return np.argmax(numerators/divisors, axis=1)"
      ],
      "execution_count": null,
      "outputs": []
    },
    {
      "cell_type": "code",
      "metadata": {
        "id": "NbdcmsBQ5lvs"
      },
      "source": [
        "def decode(vocab_tokenizer, sequence_set, embedding_dict):\n",
        "  sequences = [find_closest(item, embedding_dict) for item in sequence_set]\n",
        "  return vocab_tokenizer.sequences_to_texts(sequences)"
      ],
      "execution_count": null,
      "outputs": []
    },
    {
      "cell_type": "markdown",
      "metadata": {
        "id": "PAfLOiTog1lr"
      },
      "source": [
        "#Build Model Architecture"
      ]
    },
    {
      "cell_type": "markdown",
      "metadata": {
        "id": "XVxU8X13fTTW"
      },
      "source": [
        "##Initialize\n"
      ]
    },
    {
      "cell_type": "code",
      "metadata": {
        "id": "FiBd_tS4F5PO"
      },
      "source": [
        "#Initializers\n",
        "\n",
        "p_W, p_U, p_emb, p_dense, weight_decay = 0, 0, 0.1, 0, 0\n",
        "rnn_layers, rnn_size = 5, 1024\n",
        "from keras.regularizers import l2\n",
        "regularizer = l2(weight_decay) if weight_decay else None\n"
      ],
      "execution_count": null,
      "outputs": []
    },
    {
      "cell_type": "markdown",
      "metadata": {
        "id": "U-pAmMSoYSRi"
      },
      "source": [
        "##Build Model"
      ]
    },
    {
      "cell_type": "code",
      "metadata": {
        "colab": {
          "base_uri": "https://localhost:8080/"
        },
        "id": "1dH8BtNpC9Pm",
        "outputId": "5a9cdecd-7904-4e3c-bfce-73b66ce01e72"
      },
      "source": [
        "#Build Model\n",
        "print(embedding_matrix.shape)\n",
        "vocab_size, embedding_size = embedding_matrix.shape\n",
        "\n",
        "model = keras.Sequential()\n",
        "model.add(layers.Embedding(vocab_size, embedding_size, input_length=max_article_length,\n",
        "                    embeddings_regularizer=regularizer, weights=[embedding_matrix], mask_zero=True))\n",
        "\n",
        "for i in range(rnn_layers):\n",
        "    lstm = layers.LSTM(rnn_size, return_sequences=True)\n",
        "    model.add(lstm)\n",
        "    model.add(layers.Dropout(p_dense))\n",
        "\n",
        "\n",
        "\n",
        "model.add(layers.TimeDistributed(layers.Dense(embedding_dim)))\n",
        "#model.add(Decode(embedding_matrix))\n",
        "#model.add(layers.Reshape((max_summary_length, embedding_dim)))\n",
        "model.add(layers.Activation('softmax'))\n",
        "\n",
        "from keras.optimizers import RMSprop, Adam\n",
        "\n",
        "model.compile(optimizer='rmsprop', loss='categorical_crossentropy')\n",
        "model.summary()"
      ],
      "execution_count": null,
      "outputs": [
        {
          "output_type": "stream",
          "text": [
            "(42053, 50)\n",
            "Model: \"sequential\"\n",
            "_________________________________________________________________\n",
            "Layer (type)                 Output Shape              Param #   \n",
            "=================================================================\n",
            "embedding (Embedding)        (None, 2000, 50)          2102650   \n",
            "_________________________________________________________________\n",
            "lstm (LSTM)                  (None, 2000, 1024)        4403200   \n",
            "_________________________________________________________________\n",
            "dropout (Dropout)            (None, 2000, 1024)        0         \n",
            "_________________________________________________________________\n",
            "lstm_1 (LSTM)                (None, 2000, 1024)        8392704   \n",
            "_________________________________________________________________\n",
            "dropout_1 (Dropout)          (None, 2000, 1024)        0         \n",
            "_________________________________________________________________\n",
            "lstm_2 (LSTM)                (None, 2000, 1024)        8392704   \n",
            "_________________________________________________________________\n",
            "dropout_2 (Dropout)          (None, 2000, 1024)        0         \n",
            "_________________________________________________________________\n",
            "lstm_3 (LSTM)                (None, 2000, 1024)        8392704   \n",
            "_________________________________________________________________\n",
            "dropout_3 (Dropout)          (None, 2000, 1024)        0         \n",
            "_________________________________________________________________\n",
            "lstm_4 (LSTM)                (None, 2000, 1024)        8392704   \n",
            "_________________________________________________________________\n",
            "dropout_4 (Dropout)          (None, 2000, 1024)        0         \n",
            "_________________________________________________________________\n",
            "time_distributed (TimeDistri (None, 2000, 50)          51250     \n",
            "_________________________________________________________________\n",
            "activation (Activation)      (None, 2000, 50)          0         \n",
            "=================================================================\n",
            "Total params: 40,127,916\n",
            "Trainable params: 40,127,916\n",
            "Non-trainable params: 0\n",
            "_________________________________________________________________\n"
          ],
          "name": "stdout"
        }
      ]
    },
    {
      "cell_type": "markdown",
      "metadata": {
        "id": "gMplRObCYV_P"
      },
      "source": [
        "#Build Input"
      ]
    },
    {
      "cell_type": "markdown",
      "metadata": {
        "id": "QV-Jq4R0YZ1V"
      },
      "source": [
        "##Train"
      ]
    },
    {
      "cell_type": "markdown",
      "metadata": {
        "id": "gy9GEDdfSNKs"
      },
      "source": [
        "#####Load Model"
      ]
    },
    {
      "cell_type": "code",
      "metadata": {
        "id": "15_Ja8QnSEW7"
      },
      "source": [
        "model_path =  '/content/drive/My Drive/keras/models/test.keras'\r\n",
        "\r\n",
        "model = keras.models.load(model_path)"
      ],
      "execution_count": null,
      "outputs": []
    },
    {
      "cell_type": "code",
      "metadata": {
        "id": "MHZnuRKFYrJC",
        "colab": {
          "base_uri": "https://localhost:8080/"
        },
        "outputId": "3641a58c-0e64-4275-9a6c-173c63456df9"
      },
      "source": [
        "def generator(dataset, batch_size, steps):\n",
        "  idx=1\n",
        "  while True: \n",
        "    start = (idx - 1) * batch_size\n",
        "    yield (np.array(dataset['x'][start:start+batch_size]), np.array(embedding_matrix[dataset['y'][start:start+batch_size]]))\n",
        "    if idx<steps:\n",
        "      idx+=1\n",
        "    else:\n",
        "      idx=1\n",
        "\n",
        "num_epochs = 10\n",
        "batch_size = 16\n",
        "steps_per_epoch = len(training_padded['x'])/batch_size\n",
        "validation_steps = len(testing_padded['x'])/batch_size\n",
        "\n",
        "train_gen = generator(training_padded, batch_size, steps_per_epoch)\n",
        "test_gen = generator(testing_padded, batch_size, validation_steps)\n",
        "\n",
        "model.fit(train_gen, epochs=num_epochs, steps_per_epoch=steps_per_epoch, \n",
        "  verbose=1, validation_data=test_gen, validation_steps=validation_steps)"
      ],
      "execution_count": null,
      "outputs": [
        {
          "output_type": "stream",
          "text": [
            "Epoch 1/10\n",
            "1185/1184 [==============================] - 403s 340ms/step - loss: -6.3361 - val_loss: -6.3314\n",
            "Epoch 2/10\n",
            "1185/1184 [==============================] - 396s 334ms/step - loss: -6.3815 - val_loss: -6.3395\n",
            "Epoch 3/10\n",
            "1185/1184 [==============================] - 397s 335ms/step - loss: -6.3881 - val_loss: -6.3484\n",
            "Epoch 4/10\n",
            "1185/1184 [==============================] - 396s 334ms/step - loss: -6.4016 - val_loss: -6.3499\n",
            "Epoch 5/10\n",
            "1185/1184 [==============================] - 396s 334ms/step - loss: -6.4191 - val_loss: -6.3962\n",
            "Epoch 6/10\n",
            "1185/1184 [==============================] - 395s 334ms/step - loss: -6.4661 - val_loss: -6.4501\n",
            "Epoch 7/10\n",
            "1185/1184 [==============================] - 396s 334ms/step - loss: -6.5309 - val_loss: -6.5210\n",
            "Epoch 8/10\n",
            "1185/1184 [==============================] - 397s 335ms/step - loss: -6.5854 - val_loss: -6.5634\n",
            "Epoch 9/10\n",
            "1185/1184 [==============================] - 398s 335ms/step - loss: -6.6264 - val_loss: -6.6002\n",
            "Epoch 10/10\n",
            "1185/1184 [==============================] - 398s 335ms/step - loss: -6.6597 - val_loss: -6.6261\n"
          ],
          "name": "stdout"
        },
        {
          "output_type": "execute_result",
          "data": {
            "text/plain": [
              "<tensorflow.python.keras.callbacks.History at 0x7f0b8096b240>"
            ]
          },
          "metadata": {
            "tags": []
          },
          "execution_count": 19
        }
      ]
    },
    {
      "cell_type": "markdown",
      "metadata": {
        "id": "LBgnPJk-Sfuu"
      },
      "source": [
        "#####Save Model"
      ]
    },
    {
      "cell_type": "code",
      "metadata": {
        "id": "jQPwcWrgE_tu"
      },
      "source": [
        "model_path =  '/content/drive/My Drive/keras/models/test.keras'\r\n",
        "\r\n",
        "keras.models.save_model(model, model_path)"
      ],
      "execution_count": null,
      "outputs": []
    },
    {
      "cell_type": "markdown",
      "metadata": {
        "id": "9ZKJbx0ZRvCD"
      },
      "source": [
        "###Test Model"
      ]
    },
    {
      "cell_type": "code",
      "metadata": {
        "colab": {
          "base_uri": "https://localhost:8080/",
          "height": 232
        },
        "id": "lufSJMLMpHVK",
        "outputId": "f5c170be-ee50-439a-87e6-e013af9421de"
      },
      "source": [
        "num_predictions = 3\r\n",
        "\r\n",
        "test_set = np.asarray(testing_padded['x'][:num_predictions])\r\n",
        "predictions = model.predict(test_set)\r\n",
        "\r\n",
        "decoded_predictions = decode(tokenizer, predictions, embedding_matrix)\r\n",
        "print(sequence for sequence in decoded_predictions)"
      ],
      "execution_count": null,
      "outputs": [
        {
          "output_type": "error",
          "ename": "NameError",
          "evalue": "ignored",
          "traceback": [
            "\u001b[0;31m---------------------------------------------------------------------------\u001b[0m",
            "\u001b[0;31mNameError\u001b[0m                                 Traceback (most recent call last)",
            "\u001b[0;32m<ipython-input-1-6353e434ec0f>\u001b[0m in \u001b[0;36m<module>\u001b[0;34m()\u001b[0m\n\u001b[1;32m      1\u001b[0m \u001b[0mnum_predictions\u001b[0m \u001b[0;34m=\u001b[0m \u001b[0;36m3\u001b[0m\u001b[0;34m\u001b[0m\u001b[0;34m\u001b[0m\u001b[0m\n\u001b[0;32m----> 2\u001b[0;31m \u001b[0mtest_set\u001b[0m \u001b[0;34m=\u001b[0m \u001b[0mnp\u001b[0m\u001b[0;34m.\u001b[0m\u001b[0masarray\u001b[0m\u001b[0;34m(\u001b[0m\u001b[0mtesting_padded\u001b[0m\u001b[0;34m[\u001b[0m\u001b[0;34m'x'\u001b[0m\u001b[0;34m]\u001b[0m\u001b[0;34m[\u001b[0m\u001b[0;34m:\u001b[0m\u001b[0;36m3\u001b[0m\u001b[0;34m]\u001b[0m\u001b[0;34m)\u001b[0m\u001b[0;34m\u001b[0m\u001b[0;34m\u001b[0m\u001b[0m\n\u001b[0m\u001b[1;32m      3\u001b[0m \u001b[0;34m\u001b[0m\u001b[0m\n\u001b[1;32m      4\u001b[0m \u001b[0mpredictions\u001b[0m \u001b[0;34m=\u001b[0m \u001b[0mmodel\u001b[0m\u001b[0;34m.\u001b[0m\u001b[0mpredict\u001b[0m\u001b[0;34m(\u001b[0m\u001b[0mtest_set\u001b[0m\u001b[0;34m)\u001b[0m\u001b[0;34m\u001b[0m\u001b[0;34m\u001b[0m\u001b[0m\n\u001b[1;32m      5\u001b[0m \u001b[0;34m\u001b[0m\u001b[0m\n",
            "\u001b[0;31mNameError\u001b[0m: name 'np' is not defined"
          ]
        }
      ]
    }
  ]
}