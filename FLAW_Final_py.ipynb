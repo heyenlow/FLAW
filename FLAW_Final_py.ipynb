{
  "nbformat": 4,
  "nbformat_minor": 0,
  "metadata": {
    "colab": {
      "name": "FLAW_Final_py.ipynb",
      "provenance": [],
      "collapsed_sections": [
        "aPw__XISi-JQ",
        "V9X7J-bNgOsx",
        "32vEtilqiuyQ",
        "IkuDjAt95mOo"
      ],
      "machine_shape": "hm"
    },
    "kernelspec": {
      "display_name": "Python 3",
      "name": "python3"
    },
    "accelerator": "GPU",
    "widgets": {
      "application/vnd.jupyter.widget-state+json": {
        "09dff32e04874661a2e1630a5c7a5b5f": {
          "model_module": "@jupyter-widgets/controls",
          "model_name": "HBoxModel",
          "state": {
            "_view_name": "HBoxView",
            "_dom_classes": [],
            "_model_name": "HBoxModel",
            "_view_module": "@jupyter-widgets/controls",
            "_model_module_version": "1.5.0",
            "_view_count": null,
            "_view_module_version": "1.5.0",
            "box_style": "",
            "layout": "IPY_MODEL_97a4aabf5c71490fb3323523d10e65ca",
            "_model_module": "@jupyter-widgets/controls",
            "children": [
              "IPY_MODEL_f3d7b781bfec4533a94bb794c74e9436",
              "IPY_MODEL_fab78cd83cf649c2ab5c3c2a082c66f9"
            ]
          }
        },
        "97a4aabf5c71490fb3323523d10e65ca": {
          "model_module": "@jupyter-widgets/base",
          "model_name": "LayoutModel",
          "state": {
            "_view_name": "LayoutView",
            "grid_template_rows": null,
            "right": null,
            "justify_content": null,
            "_view_module": "@jupyter-widgets/base",
            "overflow": null,
            "_model_module_version": "1.2.0",
            "_view_count": null,
            "flex_flow": null,
            "width": null,
            "min_width": null,
            "border": null,
            "align_items": null,
            "bottom": null,
            "_model_module": "@jupyter-widgets/base",
            "top": null,
            "grid_column": null,
            "overflow_y": null,
            "overflow_x": null,
            "grid_auto_flow": null,
            "grid_area": null,
            "grid_template_columns": null,
            "flex": null,
            "_model_name": "LayoutModel",
            "justify_items": null,
            "grid_row": null,
            "max_height": null,
            "align_content": null,
            "visibility": null,
            "align_self": null,
            "height": null,
            "min_height": null,
            "padding": null,
            "grid_auto_rows": null,
            "grid_gap": null,
            "max_width": null,
            "order": null,
            "_view_module_version": "1.2.0",
            "grid_template_areas": null,
            "object_position": null,
            "object_fit": null,
            "grid_auto_columns": null,
            "margin": null,
            "display": null,
            "left": null
          }
        },
        "f3d7b781bfec4533a94bb794c74e9436": {
          "model_module": "@jupyter-widgets/controls",
          "model_name": "FloatProgressModel",
          "state": {
            "_view_name": "ProgressView",
            "style": "IPY_MODEL_0d8793a4b2094141bb5028c68ddab505",
            "_dom_classes": [],
            "description": "Dl Completed...: 100%",
            "_model_name": "FloatProgressModel",
            "bar_style": "success",
            "max": 1,
            "_view_module": "@jupyter-widgets/controls",
            "_model_module_version": "1.5.0",
            "value": 1,
            "_view_count": null,
            "_view_module_version": "1.5.0",
            "orientation": "horizontal",
            "min": 0,
            "description_tooltip": null,
            "_model_module": "@jupyter-widgets/controls",
            "layout": "IPY_MODEL_038b2522c3904c0fbf5ce72019238a71"
          }
        },
        "fab78cd83cf649c2ab5c3c2a082c66f9": {
          "model_module": "@jupyter-widgets/controls",
          "model_name": "HTMLModel",
          "state": {
            "_view_name": "HTMLView",
            "style": "IPY_MODEL_ceeb451faa73428bba9e64394afe01bb",
            "_dom_classes": [],
            "description": "",
            "_model_name": "HTMLModel",
            "placeholder": "​",
            "_view_module": "@jupyter-widgets/controls",
            "_model_module_version": "1.5.0",
            "value": " 1/1 [00:04&lt;00:00,  4.04s/ url]",
            "_view_count": null,
            "_view_module_version": "1.5.0",
            "description_tooltip": null,
            "_model_module": "@jupyter-widgets/controls",
            "layout": "IPY_MODEL_3998dcc2d9f34bda84f8e8cb1c63e870"
          }
        },
        "0d8793a4b2094141bb5028c68ddab505": {
          "model_module": "@jupyter-widgets/controls",
          "model_name": "ProgressStyleModel",
          "state": {
            "_view_name": "StyleView",
            "_model_name": "ProgressStyleModel",
            "description_width": "initial",
            "_view_module": "@jupyter-widgets/base",
            "_model_module_version": "1.5.0",
            "_view_count": null,
            "_view_module_version": "1.2.0",
            "bar_color": null,
            "_model_module": "@jupyter-widgets/controls"
          }
        },
        "038b2522c3904c0fbf5ce72019238a71": {
          "model_module": "@jupyter-widgets/base",
          "model_name": "LayoutModel",
          "state": {
            "_view_name": "LayoutView",
            "grid_template_rows": null,
            "right": null,
            "justify_content": null,
            "_view_module": "@jupyter-widgets/base",
            "overflow": null,
            "_model_module_version": "1.2.0",
            "_view_count": null,
            "flex_flow": null,
            "width": null,
            "min_width": null,
            "border": null,
            "align_items": null,
            "bottom": null,
            "_model_module": "@jupyter-widgets/base",
            "top": null,
            "grid_column": null,
            "overflow_y": null,
            "overflow_x": null,
            "grid_auto_flow": null,
            "grid_area": null,
            "grid_template_columns": null,
            "flex": null,
            "_model_name": "LayoutModel",
            "justify_items": null,
            "grid_row": null,
            "max_height": null,
            "align_content": null,
            "visibility": null,
            "align_self": null,
            "height": null,
            "min_height": null,
            "padding": null,
            "grid_auto_rows": null,
            "grid_gap": null,
            "max_width": null,
            "order": null,
            "_view_module_version": "1.2.0",
            "grid_template_areas": null,
            "object_position": null,
            "object_fit": null,
            "grid_auto_columns": null,
            "margin": null,
            "display": null,
            "left": null
          }
        },
        "ceeb451faa73428bba9e64394afe01bb": {
          "model_module": "@jupyter-widgets/controls",
          "model_name": "DescriptionStyleModel",
          "state": {
            "_view_name": "StyleView",
            "_model_name": "DescriptionStyleModel",
            "description_width": "",
            "_view_module": "@jupyter-widgets/base",
            "_model_module_version": "1.5.0",
            "_view_count": null,
            "_view_module_version": "1.2.0",
            "_model_module": "@jupyter-widgets/controls"
          }
        },
        "3998dcc2d9f34bda84f8e8cb1c63e870": {
          "model_module": "@jupyter-widgets/base",
          "model_name": "LayoutModel",
          "state": {
            "_view_name": "LayoutView",
            "grid_template_rows": null,
            "right": null,
            "justify_content": null,
            "_view_module": "@jupyter-widgets/base",
            "overflow": null,
            "_model_module_version": "1.2.0",
            "_view_count": null,
            "flex_flow": null,
            "width": null,
            "min_width": null,
            "border": null,
            "align_items": null,
            "bottom": null,
            "_model_module": "@jupyter-widgets/base",
            "top": null,
            "grid_column": null,
            "overflow_y": null,
            "overflow_x": null,
            "grid_auto_flow": null,
            "grid_area": null,
            "grid_template_columns": null,
            "flex": null,
            "_model_name": "LayoutModel",
            "justify_items": null,
            "grid_row": null,
            "max_height": null,
            "align_content": null,
            "visibility": null,
            "align_self": null,
            "height": null,
            "min_height": null,
            "padding": null,
            "grid_auto_rows": null,
            "grid_gap": null,
            "max_width": null,
            "order": null,
            "_view_module_version": "1.2.0",
            "grid_template_areas": null,
            "object_position": null,
            "object_fit": null,
            "grid_auto_columns": null,
            "margin": null,
            "display": null,
            "left": null
          }
        },
        "1ee41948b874437d8b901d715512a3d2": {
          "model_module": "@jupyter-widgets/controls",
          "model_name": "HBoxModel",
          "state": {
            "_view_name": "HBoxView",
            "_dom_classes": [],
            "_model_name": "HBoxModel",
            "_view_module": "@jupyter-widgets/controls",
            "_model_module_version": "1.5.0",
            "_view_count": null,
            "_view_module_version": "1.5.0",
            "box_style": "",
            "layout": "IPY_MODEL_be977f3ad4f0408e8a60b39f1f05cfc5",
            "_model_module": "@jupyter-widgets/controls",
            "children": [
              "IPY_MODEL_af5ecbb0d73a4d778a50a491c4220881",
              "IPY_MODEL_745b94ac3e974da585e3a9a36c321451"
            ]
          }
        },
        "be977f3ad4f0408e8a60b39f1f05cfc5": {
          "model_module": "@jupyter-widgets/base",
          "model_name": "LayoutModel",
          "state": {
            "_view_name": "LayoutView",
            "grid_template_rows": null,
            "right": null,
            "justify_content": null,
            "_view_module": "@jupyter-widgets/base",
            "overflow": null,
            "_model_module_version": "1.2.0",
            "_view_count": null,
            "flex_flow": null,
            "width": null,
            "min_width": null,
            "border": null,
            "align_items": null,
            "bottom": null,
            "_model_module": "@jupyter-widgets/base",
            "top": null,
            "grid_column": null,
            "overflow_y": null,
            "overflow_x": null,
            "grid_auto_flow": null,
            "grid_area": null,
            "grid_template_columns": null,
            "flex": null,
            "_model_name": "LayoutModel",
            "justify_items": null,
            "grid_row": null,
            "max_height": null,
            "align_content": null,
            "visibility": null,
            "align_self": null,
            "height": null,
            "min_height": null,
            "padding": null,
            "grid_auto_rows": null,
            "grid_gap": null,
            "max_width": null,
            "order": null,
            "_view_module_version": "1.2.0",
            "grid_template_areas": null,
            "object_position": null,
            "object_fit": null,
            "grid_auto_columns": null,
            "margin": null,
            "display": null,
            "left": null
          }
        },
        "af5ecbb0d73a4d778a50a491c4220881": {
          "model_module": "@jupyter-widgets/controls",
          "model_name": "FloatProgressModel",
          "state": {
            "_view_name": "ProgressView",
            "style": "IPY_MODEL_c1d14f298d8b415ba7f9d3747d29e8b9",
            "_dom_classes": [],
            "description": "Dl Size...: ",
            "_model_name": "FloatProgressModel",
            "bar_style": "success",
            "max": 1,
            "_view_module": "@jupyter-widgets/controls",
            "_model_module_version": "1.5.0",
            "value": 1,
            "_view_count": null,
            "_view_module_version": "1.5.0",
            "orientation": "horizontal",
            "min": 0,
            "description_tooltip": null,
            "_model_module": "@jupyter-widgets/controls",
            "layout": "IPY_MODEL_d938d3f22d21428483cbca51c2dcb326"
          }
        },
        "745b94ac3e974da585e3a9a36c321451": {
          "model_module": "@jupyter-widgets/controls",
          "model_name": "HTMLModel",
          "state": {
            "_view_name": "HTMLView",
            "style": "IPY_MODEL_1293c2f72a9940989982814fc3f52c92",
            "_dom_classes": [],
            "description": "",
            "_model_name": "HTMLModel",
            "placeholder": "​",
            "_view_module": "@jupyter-widgets/controls",
            "_model_module_version": "1.5.0",
            "value": " 64/0 [00:04&lt;00:00, 15.91 MiB/s]",
            "_view_count": null,
            "_view_module_version": "1.5.0",
            "description_tooltip": null,
            "_model_module": "@jupyter-widgets/controls",
            "layout": "IPY_MODEL_8d918d362dac497ca1be6dc7c2bca2d0"
          }
        },
        "c1d14f298d8b415ba7f9d3747d29e8b9": {
          "model_module": "@jupyter-widgets/controls",
          "model_name": "ProgressStyleModel",
          "state": {
            "_view_name": "StyleView",
            "_model_name": "ProgressStyleModel",
            "description_width": "initial",
            "_view_module": "@jupyter-widgets/base",
            "_model_module_version": "1.5.0",
            "_view_count": null,
            "_view_module_version": "1.2.0",
            "bar_color": null,
            "_model_module": "@jupyter-widgets/controls"
          }
        },
        "d938d3f22d21428483cbca51c2dcb326": {
          "model_module": "@jupyter-widgets/base",
          "model_name": "LayoutModel",
          "state": {
            "_view_name": "LayoutView",
            "grid_template_rows": null,
            "right": null,
            "justify_content": null,
            "_view_module": "@jupyter-widgets/base",
            "overflow": null,
            "_model_module_version": "1.2.0",
            "_view_count": null,
            "flex_flow": null,
            "width": null,
            "min_width": null,
            "border": null,
            "align_items": null,
            "bottom": null,
            "_model_module": "@jupyter-widgets/base",
            "top": null,
            "grid_column": null,
            "overflow_y": null,
            "overflow_x": null,
            "grid_auto_flow": null,
            "grid_area": null,
            "grid_template_columns": null,
            "flex": null,
            "_model_name": "LayoutModel",
            "justify_items": null,
            "grid_row": null,
            "max_height": null,
            "align_content": null,
            "visibility": null,
            "align_self": null,
            "height": null,
            "min_height": null,
            "padding": null,
            "grid_auto_rows": null,
            "grid_gap": null,
            "max_width": null,
            "order": null,
            "_view_module_version": "1.2.0",
            "grid_template_areas": null,
            "object_position": null,
            "object_fit": null,
            "grid_auto_columns": null,
            "margin": null,
            "display": null,
            "left": null
          }
        },
        "1293c2f72a9940989982814fc3f52c92": {
          "model_module": "@jupyter-widgets/controls",
          "model_name": "DescriptionStyleModel",
          "state": {
            "_view_name": "StyleView",
            "_model_name": "DescriptionStyleModel",
            "description_width": "",
            "_view_module": "@jupyter-widgets/base",
            "_model_module_version": "1.5.0",
            "_view_count": null,
            "_view_module_version": "1.2.0",
            "_model_module": "@jupyter-widgets/controls"
          }
        },
        "8d918d362dac497ca1be6dc7c2bca2d0": {
          "model_module": "@jupyter-widgets/base",
          "model_name": "LayoutModel",
          "state": {
            "_view_name": "LayoutView",
            "grid_template_rows": null,
            "right": null,
            "justify_content": null,
            "_view_module": "@jupyter-widgets/base",
            "overflow": null,
            "_model_module_version": "1.2.0",
            "_view_count": null,
            "flex_flow": null,
            "width": null,
            "min_width": null,
            "border": null,
            "align_items": null,
            "bottom": null,
            "_model_module": "@jupyter-widgets/base",
            "top": null,
            "grid_column": null,
            "overflow_y": null,
            "overflow_x": null,
            "grid_auto_flow": null,
            "grid_area": null,
            "grid_template_columns": null,
            "flex": null,
            "_model_name": "LayoutModel",
            "justify_items": null,
            "grid_row": null,
            "max_height": null,
            "align_content": null,
            "visibility": null,
            "align_self": null,
            "height": null,
            "min_height": null,
            "padding": null,
            "grid_auto_rows": null,
            "grid_gap": null,
            "max_width": null,
            "order": null,
            "_view_module_version": "1.2.0",
            "grid_template_areas": null,
            "object_position": null,
            "object_fit": null,
            "grid_auto_columns": null,
            "margin": null,
            "display": null,
            "left": null
          }
        },
        "51a5818ac258448a8e34a85d811d3f5f": {
          "model_module": "@jupyter-widgets/controls",
          "model_name": "HBoxModel",
          "state": {
            "_view_name": "HBoxView",
            "_dom_classes": [],
            "_model_name": "HBoxModel",
            "_view_module": "@jupyter-widgets/controls",
            "_model_module_version": "1.5.0",
            "_view_count": null,
            "_view_module_version": "1.5.0",
            "box_style": "",
            "layout": "IPY_MODEL_57b6bbdde68b407683d1770bf0e9df48",
            "_model_module": "@jupyter-widgets/controls",
            "children": [
              "IPY_MODEL_a6b214200c9140fe9bf98c9ca1c1f9f6",
              "IPY_MODEL_c7c775fc76604ddaab45e7b6750a8124"
            ]
          }
        },
        "57b6bbdde68b407683d1770bf0e9df48": {
          "model_module": "@jupyter-widgets/base",
          "model_name": "LayoutModel",
          "state": {
            "_view_name": "LayoutView",
            "grid_template_rows": null,
            "right": null,
            "justify_content": null,
            "_view_module": "@jupyter-widgets/base",
            "overflow": null,
            "_model_module_version": "1.2.0",
            "_view_count": null,
            "flex_flow": null,
            "width": null,
            "min_width": null,
            "border": null,
            "align_items": null,
            "bottom": null,
            "_model_module": "@jupyter-widgets/base",
            "top": null,
            "grid_column": null,
            "overflow_y": null,
            "overflow_x": null,
            "grid_auto_flow": null,
            "grid_area": null,
            "grid_template_columns": null,
            "flex": null,
            "_model_name": "LayoutModel",
            "justify_items": null,
            "grid_row": null,
            "max_height": null,
            "align_content": null,
            "visibility": null,
            "align_self": null,
            "height": null,
            "min_height": null,
            "padding": null,
            "grid_auto_rows": null,
            "grid_gap": null,
            "max_width": null,
            "order": null,
            "_view_module_version": "1.2.0",
            "grid_template_areas": null,
            "object_position": null,
            "object_fit": null,
            "grid_auto_columns": null,
            "margin": null,
            "display": null,
            "left": null
          }
        },
        "a6b214200c9140fe9bf98c9ca1c1f9f6": {
          "model_module": "@jupyter-widgets/controls",
          "model_name": "FloatProgressModel",
          "state": {
            "_view_name": "ProgressView",
            "style": "IPY_MODEL_d0a7dbbd9b444b9bb0673e10110267e0",
            "_dom_classes": [],
            "description": "Extraction completed...: 100%",
            "_model_name": "FloatProgressModel",
            "bar_style": "success",
            "max": 1,
            "_view_module": "@jupyter-widgets/controls",
            "_model_module_version": "1.5.0",
            "value": 1,
            "_view_count": null,
            "_view_module_version": "1.5.0",
            "orientation": "horizontal",
            "min": 0,
            "description_tooltip": null,
            "_model_module": "@jupyter-widgets/controls",
            "layout": "IPY_MODEL_8d6aa0bdf227457498b133f74cdee8b0"
          }
        },
        "c7c775fc76604ddaab45e7b6750a8124": {
          "model_module": "@jupyter-widgets/controls",
          "model_name": "HTMLModel",
          "state": {
            "_view_name": "HTMLView",
            "style": "IPY_MODEL_b98ccb4be7464e45b79f0c46fd7f20c6",
            "_dom_classes": [],
            "description": "",
            "_model_name": "HTMLModel",
            "placeholder": "​",
            "_view_module": "@jupyter-widgets/controls",
            "_model_module_version": "1.5.0",
            "value": " 1/1 [00:03&lt;00:00,  4.00s/ file]",
            "_view_count": null,
            "_view_module_version": "1.5.0",
            "description_tooltip": null,
            "_model_module": "@jupyter-widgets/controls",
            "layout": "IPY_MODEL_4082cb0774e24a49a39dd7ec2c716fd3"
          }
        },
        "d0a7dbbd9b444b9bb0673e10110267e0": {
          "model_module": "@jupyter-widgets/controls",
          "model_name": "ProgressStyleModel",
          "state": {
            "_view_name": "StyleView",
            "_model_name": "ProgressStyleModel",
            "description_width": "initial",
            "_view_module": "@jupyter-widgets/base",
            "_model_module_version": "1.5.0",
            "_view_count": null,
            "_view_module_version": "1.2.0",
            "bar_color": null,
            "_model_module": "@jupyter-widgets/controls"
          }
        },
        "8d6aa0bdf227457498b133f74cdee8b0": {
          "model_module": "@jupyter-widgets/base",
          "model_name": "LayoutModel",
          "state": {
            "_view_name": "LayoutView",
            "grid_template_rows": null,
            "right": null,
            "justify_content": null,
            "_view_module": "@jupyter-widgets/base",
            "overflow": null,
            "_model_module_version": "1.2.0",
            "_view_count": null,
            "flex_flow": null,
            "width": null,
            "min_width": null,
            "border": null,
            "align_items": null,
            "bottom": null,
            "_model_module": "@jupyter-widgets/base",
            "top": null,
            "grid_column": null,
            "overflow_y": null,
            "overflow_x": null,
            "grid_auto_flow": null,
            "grid_area": null,
            "grid_template_columns": null,
            "flex": null,
            "_model_name": "LayoutModel",
            "justify_items": null,
            "grid_row": null,
            "max_height": null,
            "align_content": null,
            "visibility": null,
            "align_self": null,
            "height": null,
            "min_height": null,
            "padding": null,
            "grid_auto_rows": null,
            "grid_gap": null,
            "max_width": null,
            "order": null,
            "_view_module_version": "1.2.0",
            "grid_template_areas": null,
            "object_position": null,
            "object_fit": null,
            "grid_auto_columns": null,
            "margin": null,
            "display": null,
            "left": null
          }
        },
        "b98ccb4be7464e45b79f0c46fd7f20c6": {
          "model_module": "@jupyter-widgets/controls",
          "model_name": "DescriptionStyleModel",
          "state": {
            "_view_name": "StyleView",
            "_model_name": "DescriptionStyleModel",
            "description_width": "",
            "_view_module": "@jupyter-widgets/base",
            "_model_module_version": "1.5.0",
            "_view_count": null,
            "_view_module_version": "1.2.0",
            "_model_module": "@jupyter-widgets/controls"
          }
        },
        "4082cb0774e24a49a39dd7ec2c716fd3": {
          "model_module": "@jupyter-widgets/base",
          "model_name": "LayoutModel",
          "state": {
            "_view_name": "LayoutView",
            "grid_template_rows": null,
            "right": null,
            "justify_content": null,
            "_view_module": "@jupyter-widgets/base",
            "overflow": null,
            "_model_module_version": "1.2.0",
            "_view_count": null,
            "flex_flow": null,
            "width": null,
            "min_width": null,
            "border": null,
            "align_items": null,
            "bottom": null,
            "_model_module": "@jupyter-widgets/base",
            "top": null,
            "grid_column": null,
            "overflow_y": null,
            "overflow_x": null,
            "grid_auto_flow": null,
            "grid_area": null,
            "grid_template_columns": null,
            "flex": null,
            "_model_name": "LayoutModel",
            "justify_items": null,
            "grid_row": null,
            "max_height": null,
            "align_content": null,
            "visibility": null,
            "align_self": null,
            "height": null,
            "min_height": null,
            "padding": null,
            "grid_auto_rows": null,
            "grid_gap": null,
            "max_width": null,
            "order": null,
            "_view_module_version": "1.2.0",
            "grid_template_areas": null,
            "object_position": null,
            "object_fit": null,
            "grid_auto_columns": null,
            "margin": null,
            "display": null,
            "left": null
          }
        },
        "a25ebcf2add9499682328b4ba3be236e": {
          "model_module": "@jupyter-widgets/controls",
          "model_name": "HBoxModel",
          "state": {
            "_view_name": "HBoxView",
            "_dom_classes": [],
            "_model_name": "HBoxModel",
            "_view_module": "@jupyter-widgets/controls",
            "_model_module_version": "1.5.0",
            "_view_count": null,
            "_view_module_version": "1.5.0",
            "box_style": "",
            "layout": "IPY_MODEL_268dac87062847f7adcda0f86daef6b7",
            "_model_module": "@jupyter-widgets/controls",
            "children": [
              "IPY_MODEL_9accd689b716448f8f6ecf3443cd7dfa",
              "IPY_MODEL_ba430642aac24e349c4efb4a0ea8e4f6"
            ]
          }
        },
        "268dac87062847f7adcda0f86daef6b7": {
          "model_module": "@jupyter-widgets/base",
          "model_name": "LayoutModel",
          "state": {
            "_view_name": "LayoutView",
            "grid_template_rows": null,
            "right": null,
            "justify_content": null,
            "_view_module": "@jupyter-widgets/base",
            "overflow": null,
            "_model_module_version": "1.2.0",
            "_view_count": null,
            "flex_flow": null,
            "width": null,
            "min_width": null,
            "border": null,
            "align_items": null,
            "bottom": null,
            "_model_module": "@jupyter-widgets/base",
            "top": null,
            "grid_column": null,
            "overflow_y": null,
            "overflow_x": null,
            "grid_auto_flow": null,
            "grid_area": null,
            "grid_template_columns": null,
            "flex": null,
            "_model_name": "LayoutModel",
            "justify_items": null,
            "grid_row": null,
            "max_height": null,
            "align_content": null,
            "visibility": null,
            "align_self": null,
            "height": null,
            "min_height": null,
            "padding": null,
            "grid_auto_rows": null,
            "grid_gap": null,
            "max_width": null,
            "order": null,
            "_view_module_version": "1.2.0",
            "grid_template_areas": null,
            "object_position": null,
            "object_fit": null,
            "grid_auto_columns": null,
            "margin": null,
            "display": null,
            "left": null
          }
        },
        "9accd689b716448f8f6ecf3443cd7dfa": {
          "model_module": "@jupyter-widgets/controls",
          "model_name": "FloatProgressModel",
          "state": {
            "_view_name": "ProgressView",
            "style": "IPY_MODEL_ef41b7388a7e40e9980636ca3b892443",
            "_dom_classes": [],
            "description": "",
            "_model_name": "FloatProgressModel",
            "bar_style": "info",
            "max": 1,
            "_view_module": "@jupyter-widgets/controls",
            "_model_module_version": "1.5.0",
            "value": 1,
            "_view_count": null,
            "_view_module_version": "1.5.0",
            "orientation": "horizontal",
            "min": 0,
            "description_tooltip": null,
            "_model_module": "@jupyter-widgets/controls",
            "layout": "IPY_MODEL_c498d2b674d8425490aee4b6e898f745"
          }
        },
        "ba430642aac24e349c4efb4a0ea8e4f6": {
          "model_module": "@jupyter-widgets/controls",
          "model_name": "HTMLModel",
          "state": {
            "_view_name": "HTMLView",
            "style": "IPY_MODEL_a74691a5a27a483fb7c36428b7ad2580",
            "_dom_classes": [],
            "description": "",
            "_model_name": "HTMLModel",
            "placeholder": "​",
            "_view_module": "@jupyter-widgets/controls",
            "_model_module_version": "1.5.0",
            "value": " 18949/0 [00:07&lt;00:00, 2503.27 examples/s]",
            "_view_count": null,
            "_view_module_version": "1.5.0",
            "description_tooltip": null,
            "_model_module": "@jupyter-widgets/controls",
            "layout": "IPY_MODEL_01712ecf91e641a9a37a004f565a007a"
          }
        },
        "ef41b7388a7e40e9980636ca3b892443": {
          "model_module": "@jupyter-widgets/controls",
          "model_name": "ProgressStyleModel",
          "state": {
            "_view_name": "StyleView",
            "_model_name": "ProgressStyleModel",
            "description_width": "initial",
            "_view_module": "@jupyter-widgets/base",
            "_model_module_version": "1.5.0",
            "_view_count": null,
            "_view_module_version": "1.2.0",
            "bar_color": null,
            "_model_module": "@jupyter-widgets/controls"
          }
        },
        "c498d2b674d8425490aee4b6e898f745": {
          "model_module": "@jupyter-widgets/base",
          "model_name": "LayoutModel",
          "state": {
            "_view_name": "LayoutView",
            "grid_template_rows": null,
            "right": null,
            "justify_content": null,
            "_view_module": "@jupyter-widgets/base",
            "overflow": null,
            "_model_module_version": "1.2.0",
            "_view_count": null,
            "flex_flow": null,
            "width": null,
            "min_width": null,
            "border": null,
            "align_items": null,
            "bottom": null,
            "_model_module": "@jupyter-widgets/base",
            "top": null,
            "grid_column": null,
            "overflow_y": null,
            "overflow_x": null,
            "grid_auto_flow": null,
            "grid_area": null,
            "grid_template_columns": null,
            "flex": null,
            "_model_name": "LayoutModel",
            "justify_items": null,
            "grid_row": null,
            "max_height": null,
            "align_content": null,
            "visibility": null,
            "align_self": null,
            "height": null,
            "min_height": null,
            "padding": null,
            "grid_auto_rows": null,
            "grid_gap": null,
            "max_width": null,
            "order": null,
            "_view_module_version": "1.2.0",
            "grid_template_areas": null,
            "object_position": null,
            "object_fit": null,
            "grid_auto_columns": null,
            "margin": null,
            "display": null,
            "left": null
          }
        },
        "a74691a5a27a483fb7c36428b7ad2580": {
          "model_module": "@jupyter-widgets/controls",
          "model_name": "DescriptionStyleModel",
          "state": {
            "_view_name": "StyleView",
            "_model_name": "DescriptionStyleModel",
            "description_width": "",
            "_view_module": "@jupyter-widgets/base",
            "_model_module_version": "1.5.0",
            "_view_count": null,
            "_view_module_version": "1.2.0",
            "_model_module": "@jupyter-widgets/controls"
          }
        },
        "01712ecf91e641a9a37a004f565a007a": {
          "model_module": "@jupyter-widgets/base",
          "model_name": "LayoutModel",
          "state": {
            "_view_name": "LayoutView",
            "grid_template_rows": null,
            "right": null,
            "justify_content": null,
            "_view_module": "@jupyter-widgets/base",
            "overflow": null,
            "_model_module_version": "1.2.0",
            "_view_count": null,
            "flex_flow": null,
            "width": null,
            "min_width": null,
            "border": null,
            "align_items": null,
            "bottom": null,
            "_model_module": "@jupyter-widgets/base",
            "top": null,
            "grid_column": null,
            "overflow_y": null,
            "overflow_x": null,
            "grid_auto_flow": null,
            "grid_area": null,
            "grid_template_columns": null,
            "flex": null,
            "_model_name": "LayoutModel",
            "justify_items": null,
            "grid_row": null,
            "max_height": null,
            "align_content": null,
            "visibility": null,
            "align_self": null,
            "height": null,
            "min_height": null,
            "padding": null,
            "grid_auto_rows": null,
            "grid_gap": null,
            "max_width": null,
            "order": null,
            "_view_module_version": "1.2.0",
            "grid_template_areas": null,
            "object_position": null,
            "object_fit": null,
            "grid_auto_columns": null,
            "margin": null,
            "display": null,
            "left": null
          }
        },
        "822e1f9ecdae43ca9d1e23276ee13de1": {
          "model_module": "@jupyter-widgets/controls",
          "model_name": "HBoxModel",
          "state": {
            "_view_name": "HBoxView",
            "_dom_classes": [],
            "_model_name": "HBoxModel",
            "_view_module": "@jupyter-widgets/controls",
            "_model_module_version": "1.5.0",
            "_view_count": null,
            "_view_module_version": "1.5.0",
            "box_style": "",
            "layout": "IPY_MODEL_56bb6b6e5122484d8c7c2e58b2b4a003",
            "_model_module": "@jupyter-widgets/controls",
            "children": [
              "IPY_MODEL_5687ff2c56084d94b539a5d67b78aaad",
              "IPY_MODEL_1a450f6c39104f6cb1a7c37d49a54f5b"
            ]
          }
        },
        "56bb6b6e5122484d8c7c2e58b2b4a003": {
          "model_module": "@jupyter-widgets/base",
          "model_name": "LayoutModel",
          "state": {
            "_view_name": "LayoutView",
            "grid_template_rows": null,
            "right": null,
            "justify_content": null,
            "_view_module": "@jupyter-widgets/base",
            "overflow": null,
            "_model_module_version": "1.2.0",
            "_view_count": null,
            "flex_flow": null,
            "width": null,
            "min_width": null,
            "border": null,
            "align_items": null,
            "bottom": null,
            "_model_module": "@jupyter-widgets/base",
            "top": null,
            "grid_column": null,
            "overflow_y": null,
            "overflow_x": null,
            "grid_auto_flow": null,
            "grid_area": null,
            "grid_template_columns": null,
            "flex": null,
            "_model_name": "LayoutModel",
            "justify_items": null,
            "grid_row": null,
            "max_height": null,
            "align_content": null,
            "visibility": null,
            "align_self": null,
            "height": null,
            "min_height": null,
            "padding": null,
            "grid_auto_rows": null,
            "grid_gap": null,
            "max_width": null,
            "order": null,
            "_view_module_version": "1.2.0",
            "grid_template_areas": null,
            "object_position": null,
            "object_fit": null,
            "grid_auto_columns": null,
            "margin": null,
            "display": null,
            "left": null
          }
        },
        "5687ff2c56084d94b539a5d67b78aaad": {
          "model_module": "@jupyter-widgets/controls",
          "model_name": "FloatProgressModel",
          "state": {
            "_view_name": "ProgressView",
            "style": "IPY_MODEL_69058025c47e4aa189cb24b6cf2a2ab0",
            "_dom_classes": [],
            "description": " 64%",
            "_model_name": "FloatProgressModel",
            "bar_style": "danger",
            "max": 18949,
            "_view_module": "@jupyter-widgets/controls",
            "_model_module_version": "1.5.0",
            "value": 12068,
            "_view_count": null,
            "_view_module_version": "1.5.0",
            "orientation": "horizontal",
            "min": 0,
            "description_tooltip": null,
            "_model_module": "@jupyter-widgets/controls",
            "layout": "IPY_MODEL_81e457b83f15433782b447e0b2113360"
          }
        },
        "1a450f6c39104f6cb1a7c37d49a54f5b": {
          "model_module": "@jupyter-widgets/controls",
          "model_name": "HTMLModel",
          "state": {
            "_view_name": "HTMLView",
            "style": "IPY_MODEL_9887d355048d41b3b39db3d484069f74",
            "_dom_classes": [],
            "description": "",
            "_model_name": "HTMLModel",
            "placeholder": "​",
            "_view_module": "@jupyter-widgets/controls",
            "_model_module_version": "1.5.0",
            "value": " 12068/18949 [00:01&lt;00:00, 52157.85 examples/s]",
            "_view_count": null,
            "_view_module_version": "1.5.0",
            "description_tooltip": null,
            "_model_module": "@jupyter-widgets/controls",
            "layout": "IPY_MODEL_14859e46aeb74053865a0f650c794b10"
          }
        },
        "69058025c47e4aa189cb24b6cf2a2ab0": {
          "model_module": "@jupyter-widgets/controls",
          "model_name": "ProgressStyleModel",
          "state": {
            "_view_name": "StyleView",
            "_model_name": "ProgressStyleModel",
            "description_width": "initial",
            "_view_module": "@jupyter-widgets/base",
            "_model_module_version": "1.5.0",
            "_view_count": null,
            "_view_module_version": "1.2.0",
            "bar_color": null,
            "_model_module": "@jupyter-widgets/controls"
          }
        },
        "81e457b83f15433782b447e0b2113360": {
          "model_module": "@jupyter-widgets/base",
          "model_name": "LayoutModel",
          "state": {
            "_view_name": "LayoutView",
            "grid_template_rows": null,
            "right": null,
            "justify_content": null,
            "_view_module": "@jupyter-widgets/base",
            "overflow": null,
            "_model_module_version": "1.2.0",
            "_view_count": null,
            "flex_flow": null,
            "width": null,
            "min_width": null,
            "border": null,
            "align_items": null,
            "bottom": null,
            "_model_module": "@jupyter-widgets/base",
            "top": null,
            "grid_column": null,
            "overflow_y": null,
            "overflow_x": null,
            "grid_auto_flow": null,
            "grid_area": null,
            "grid_template_columns": null,
            "flex": null,
            "_model_name": "LayoutModel",
            "justify_items": null,
            "grid_row": null,
            "max_height": null,
            "align_content": null,
            "visibility": null,
            "align_self": null,
            "height": null,
            "min_height": null,
            "padding": null,
            "grid_auto_rows": null,
            "grid_gap": null,
            "max_width": null,
            "order": null,
            "_view_module_version": "1.2.0",
            "grid_template_areas": null,
            "object_position": null,
            "object_fit": null,
            "grid_auto_columns": null,
            "margin": null,
            "display": null,
            "left": null
          }
        },
        "9887d355048d41b3b39db3d484069f74": {
          "model_module": "@jupyter-widgets/controls",
          "model_name": "DescriptionStyleModel",
          "state": {
            "_view_name": "StyleView",
            "_model_name": "DescriptionStyleModel",
            "description_width": "",
            "_view_module": "@jupyter-widgets/base",
            "_model_module_version": "1.5.0",
            "_view_count": null,
            "_view_module_version": "1.2.0",
            "_model_module": "@jupyter-widgets/controls"
          }
        },
        "14859e46aeb74053865a0f650c794b10": {
          "model_module": "@jupyter-widgets/base",
          "model_name": "LayoutModel",
          "state": {
            "_view_name": "LayoutView",
            "grid_template_rows": null,
            "right": null,
            "justify_content": null,
            "_view_module": "@jupyter-widgets/base",
            "overflow": null,
            "_model_module_version": "1.2.0",
            "_view_count": null,
            "flex_flow": null,
            "width": null,
            "min_width": null,
            "border": null,
            "align_items": null,
            "bottom": null,
            "_model_module": "@jupyter-widgets/base",
            "top": null,
            "grid_column": null,
            "overflow_y": null,
            "overflow_x": null,
            "grid_auto_flow": null,
            "grid_area": null,
            "grid_template_columns": null,
            "flex": null,
            "_model_name": "LayoutModel",
            "justify_items": null,
            "grid_row": null,
            "max_height": null,
            "align_content": null,
            "visibility": null,
            "align_self": null,
            "height": null,
            "min_height": null,
            "padding": null,
            "grid_auto_rows": null,
            "grid_gap": null,
            "max_width": null,
            "order": null,
            "_view_module_version": "1.2.0",
            "grid_template_areas": null,
            "object_position": null,
            "object_fit": null,
            "grid_auto_columns": null,
            "margin": null,
            "display": null,
            "left": null
          }
        },
        "2fb2c02a2b22448cbf896190f8574edc": {
          "model_module": "@jupyter-widgets/controls",
          "model_name": "HBoxModel",
          "state": {
            "_view_name": "HBoxView",
            "_dom_classes": [],
            "_model_name": "HBoxModel",
            "_view_module": "@jupyter-widgets/controls",
            "_model_module_version": "1.5.0",
            "_view_count": null,
            "_view_module_version": "1.5.0",
            "box_style": "",
            "layout": "IPY_MODEL_eafe9222613544cf89e52a6f35efcbc5",
            "_model_module": "@jupyter-widgets/controls",
            "children": [
              "IPY_MODEL_bcb4ac4eabd14128a75383ab7f9815ed",
              "IPY_MODEL_60a9387f5a9844f69f8d3ad6f44966b2"
            ]
          }
        },
        "eafe9222613544cf89e52a6f35efcbc5": {
          "model_module": "@jupyter-widgets/base",
          "model_name": "LayoutModel",
          "state": {
            "_view_name": "LayoutView",
            "grid_template_rows": null,
            "right": null,
            "justify_content": null,
            "_view_module": "@jupyter-widgets/base",
            "overflow": null,
            "_model_module_version": "1.2.0",
            "_view_count": null,
            "flex_flow": null,
            "width": null,
            "min_width": null,
            "border": null,
            "align_items": null,
            "bottom": null,
            "_model_module": "@jupyter-widgets/base",
            "top": null,
            "grid_column": null,
            "overflow_y": null,
            "overflow_x": null,
            "grid_auto_flow": null,
            "grid_area": null,
            "grid_template_columns": null,
            "flex": null,
            "_model_name": "LayoutModel",
            "justify_items": null,
            "grid_row": null,
            "max_height": null,
            "align_content": null,
            "visibility": null,
            "align_self": null,
            "height": null,
            "min_height": null,
            "padding": null,
            "grid_auto_rows": null,
            "grid_gap": null,
            "max_width": null,
            "order": null,
            "_view_module_version": "1.2.0",
            "grid_template_areas": null,
            "object_position": null,
            "object_fit": null,
            "grid_auto_columns": null,
            "margin": null,
            "display": null,
            "left": null
          }
        },
        "bcb4ac4eabd14128a75383ab7f9815ed": {
          "model_module": "@jupyter-widgets/controls",
          "model_name": "FloatProgressModel",
          "state": {
            "_view_name": "ProgressView",
            "style": "IPY_MODEL_b6040b5b7dd54819954e44994c75a38b",
            "_dom_classes": [],
            "description": "",
            "_model_name": "FloatProgressModel",
            "bar_style": "info",
            "max": 1,
            "_view_module": "@jupyter-widgets/controls",
            "_model_module_version": "1.5.0",
            "value": 1,
            "_view_count": null,
            "_view_module_version": "1.5.0",
            "orientation": "horizontal",
            "min": 0,
            "description_tooltip": null,
            "_model_module": "@jupyter-widgets/controls",
            "layout": "IPY_MODEL_418ebcec90e445d69009ee69974e974c"
          }
        },
        "60a9387f5a9844f69f8d3ad6f44966b2": {
          "model_module": "@jupyter-widgets/controls",
          "model_name": "HTMLModel",
          "state": {
            "_view_name": "HTMLView",
            "style": "IPY_MODEL_2a0574eb7bbf434e94d5d4a444755f49",
            "_dom_classes": [],
            "description": "",
            "_model_name": "HTMLModel",
            "placeholder": "​",
            "_view_module": "@jupyter-widgets/controls",
            "_model_module_version": "1.5.0",
            "value": " 3269/0 [00:01&lt;00:00, 2529.06 examples/s]",
            "_view_count": null,
            "_view_module_version": "1.5.0",
            "description_tooltip": null,
            "_model_module": "@jupyter-widgets/controls",
            "layout": "IPY_MODEL_e5fa63d105dc4097b09d97f4f936b8db"
          }
        },
        "b6040b5b7dd54819954e44994c75a38b": {
          "model_module": "@jupyter-widgets/controls",
          "model_name": "ProgressStyleModel",
          "state": {
            "_view_name": "StyleView",
            "_model_name": "ProgressStyleModel",
            "description_width": "initial",
            "_view_module": "@jupyter-widgets/base",
            "_model_module_version": "1.5.0",
            "_view_count": null,
            "_view_module_version": "1.2.0",
            "bar_color": null,
            "_model_module": "@jupyter-widgets/controls"
          }
        },
        "418ebcec90e445d69009ee69974e974c": {
          "model_module": "@jupyter-widgets/base",
          "model_name": "LayoutModel",
          "state": {
            "_view_name": "LayoutView",
            "grid_template_rows": null,
            "right": null,
            "justify_content": null,
            "_view_module": "@jupyter-widgets/base",
            "overflow": null,
            "_model_module_version": "1.2.0",
            "_view_count": null,
            "flex_flow": null,
            "width": null,
            "min_width": null,
            "border": null,
            "align_items": null,
            "bottom": null,
            "_model_module": "@jupyter-widgets/base",
            "top": null,
            "grid_column": null,
            "overflow_y": null,
            "overflow_x": null,
            "grid_auto_flow": null,
            "grid_area": null,
            "grid_template_columns": null,
            "flex": null,
            "_model_name": "LayoutModel",
            "justify_items": null,
            "grid_row": null,
            "max_height": null,
            "align_content": null,
            "visibility": null,
            "align_self": null,
            "height": null,
            "min_height": null,
            "padding": null,
            "grid_auto_rows": null,
            "grid_gap": null,
            "max_width": null,
            "order": null,
            "_view_module_version": "1.2.0",
            "grid_template_areas": null,
            "object_position": null,
            "object_fit": null,
            "grid_auto_columns": null,
            "margin": null,
            "display": null,
            "left": null
          }
        },
        "2a0574eb7bbf434e94d5d4a444755f49": {
          "model_module": "@jupyter-widgets/controls",
          "model_name": "DescriptionStyleModel",
          "state": {
            "_view_name": "StyleView",
            "_model_name": "DescriptionStyleModel",
            "description_width": "",
            "_view_module": "@jupyter-widgets/base",
            "_model_module_version": "1.5.0",
            "_view_count": null,
            "_view_module_version": "1.2.0",
            "_model_module": "@jupyter-widgets/controls"
          }
        },
        "e5fa63d105dc4097b09d97f4f936b8db": {
          "model_module": "@jupyter-widgets/base",
          "model_name": "LayoutModel",
          "state": {
            "_view_name": "LayoutView",
            "grid_template_rows": null,
            "right": null,
            "justify_content": null,
            "_view_module": "@jupyter-widgets/base",
            "overflow": null,
            "_model_module_version": "1.2.0",
            "_view_count": null,
            "flex_flow": null,
            "width": null,
            "min_width": null,
            "border": null,
            "align_items": null,
            "bottom": null,
            "_model_module": "@jupyter-widgets/base",
            "top": null,
            "grid_column": null,
            "overflow_y": null,
            "overflow_x": null,
            "grid_auto_flow": null,
            "grid_area": null,
            "grid_template_columns": null,
            "flex": null,
            "_model_name": "LayoutModel",
            "justify_items": null,
            "grid_row": null,
            "max_height": null,
            "align_content": null,
            "visibility": null,
            "align_self": null,
            "height": null,
            "min_height": null,
            "padding": null,
            "grid_auto_rows": null,
            "grid_gap": null,
            "max_width": null,
            "order": null,
            "_view_module_version": "1.2.0",
            "grid_template_areas": null,
            "object_position": null,
            "object_fit": null,
            "grid_auto_columns": null,
            "margin": null,
            "display": null,
            "left": null
          }
        },
        "988f6e5bd4a341719438711976e05a2b": {
          "model_module": "@jupyter-widgets/controls",
          "model_name": "HBoxModel",
          "state": {
            "_view_name": "HBoxView",
            "_dom_classes": [],
            "_model_name": "HBoxModel",
            "_view_module": "@jupyter-widgets/controls",
            "_model_module_version": "1.5.0",
            "_view_count": null,
            "_view_module_version": "1.5.0",
            "box_style": "",
            "layout": "IPY_MODEL_6b4c5bc583484eb98b8d0467a2581d42",
            "_model_module": "@jupyter-widgets/controls",
            "children": [
              "IPY_MODEL_b8ed5357fe494c318ed13a0c08c2f256",
              "IPY_MODEL_b23a730a2f564e318cbe040f3b60376e"
            ]
          }
        },
        "6b4c5bc583484eb98b8d0467a2581d42": {
          "model_module": "@jupyter-widgets/base",
          "model_name": "LayoutModel",
          "state": {
            "_view_name": "LayoutView",
            "grid_template_rows": null,
            "right": null,
            "justify_content": null,
            "_view_module": "@jupyter-widgets/base",
            "overflow": null,
            "_model_module_version": "1.2.0",
            "_view_count": null,
            "flex_flow": null,
            "width": null,
            "min_width": null,
            "border": null,
            "align_items": null,
            "bottom": null,
            "_model_module": "@jupyter-widgets/base",
            "top": null,
            "grid_column": null,
            "overflow_y": null,
            "overflow_x": null,
            "grid_auto_flow": null,
            "grid_area": null,
            "grid_template_columns": null,
            "flex": null,
            "_model_name": "LayoutModel",
            "justify_items": null,
            "grid_row": null,
            "max_height": null,
            "align_content": null,
            "visibility": null,
            "align_self": null,
            "height": null,
            "min_height": null,
            "padding": null,
            "grid_auto_rows": null,
            "grid_gap": null,
            "max_width": null,
            "order": null,
            "_view_module_version": "1.2.0",
            "grid_template_areas": null,
            "object_position": null,
            "object_fit": null,
            "grid_auto_columns": null,
            "margin": null,
            "display": null,
            "left": null
          }
        },
        "b8ed5357fe494c318ed13a0c08c2f256": {
          "model_module": "@jupyter-widgets/controls",
          "model_name": "FloatProgressModel",
          "state": {
            "_view_name": "ProgressView",
            "style": "IPY_MODEL_b3e7037c4e51430183fe471088132635",
            "_dom_classes": [],
            "description": "  0%",
            "_model_name": "FloatProgressModel",
            "bar_style": "danger",
            "max": 3269,
            "_view_module": "@jupyter-widgets/controls",
            "_model_module_version": "1.5.0",
            "value": 0,
            "_view_count": null,
            "_view_module_version": "1.5.0",
            "orientation": "horizontal",
            "min": 0,
            "description_tooltip": null,
            "_model_module": "@jupyter-widgets/controls",
            "layout": "IPY_MODEL_f24fd1f7f01746009855de3a50c2572b"
          }
        },
        "b23a730a2f564e318cbe040f3b60376e": {
          "model_module": "@jupyter-widgets/controls",
          "model_name": "HTMLModel",
          "state": {
            "_view_name": "HTMLView",
            "style": "IPY_MODEL_bf08f74a714f403a8ca9a410bb8a0055",
            "_dom_classes": [],
            "description": "",
            "_model_name": "HTMLModel",
            "placeholder": "​",
            "_view_module": "@jupyter-widgets/controls",
            "_model_module_version": "1.5.0",
            "value": " 0/3269 [00:00&lt;?, ? examples/s]",
            "_view_count": null,
            "_view_module_version": "1.5.0",
            "description_tooltip": null,
            "_model_module": "@jupyter-widgets/controls",
            "layout": "IPY_MODEL_9e8bd50a953b4fcd9397dbe373de45b7"
          }
        },
        "b3e7037c4e51430183fe471088132635": {
          "model_module": "@jupyter-widgets/controls",
          "model_name": "ProgressStyleModel",
          "state": {
            "_view_name": "StyleView",
            "_model_name": "ProgressStyleModel",
            "description_width": "initial",
            "_view_module": "@jupyter-widgets/base",
            "_model_module_version": "1.5.0",
            "_view_count": null,
            "_view_module_version": "1.2.0",
            "bar_color": null,
            "_model_module": "@jupyter-widgets/controls"
          }
        },
        "f24fd1f7f01746009855de3a50c2572b": {
          "model_module": "@jupyter-widgets/base",
          "model_name": "LayoutModel",
          "state": {
            "_view_name": "LayoutView",
            "grid_template_rows": null,
            "right": null,
            "justify_content": null,
            "_view_module": "@jupyter-widgets/base",
            "overflow": null,
            "_model_module_version": "1.2.0",
            "_view_count": null,
            "flex_flow": null,
            "width": null,
            "min_width": null,
            "border": null,
            "align_items": null,
            "bottom": null,
            "_model_module": "@jupyter-widgets/base",
            "top": null,
            "grid_column": null,
            "overflow_y": null,
            "overflow_x": null,
            "grid_auto_flow": null,
            "grid_area": null,
            "grid_template_columns": null,
            "flex": null,
            "_model_name": "LayoutModel",
            "justify_items": null,
            "grid_row": null,
            "max_height": null,
            "align_content": null,
            "visibility": null,
            "align_self": null,
            "height": null,
            "min_height": null,
            "padding": null,
            "grid_auto_rows": null,
            "grid_gap": null,
            "max_width": null,
            "order": null,
            "_view_module_version": "1.2.0",
            "grid_template_areas": null,
            "object_position": null,
            "object_fit": null,
            "grid_auto_columns": null,
            "margin": null,
            "display": null,
            "left": null
          }
        },
        "bf08f74a714f403a8ca9a410bb8a0055": {
          "model_module": "@jupyter-widgets/controls",
          "model_name": "DescriptionStyleModel",
          "state": {
            "_view_name": "StyleView",
            "_model_name": "DescriptionStyleModel",
            "description_width": "",
            "_view_module": "@jupyter-widgets/base",
            "_model_module_version": "1.5.0",
            "_view_count": null,
            "_view_module_version": "1.2.0",
            "_model_module": "@jupyter-widgets/controls"
          }
        },
        "9e8bd50a953b4fcd9397dbe373de45b7": {
          "model_module": "@jupyter-widgets/base",
          "model_name": "LayoutModel",
          "state": {
            "_view_name": "LayoutView",
            "grid_template_rows": null,
            "right": null,
            "justify_content": null,
            "_view_module": "@jupyter-widgets/base",
            "overflow": null,
            "_model_module_version": "1.2.0",
            "_view_count": null,
            "flex_flow": null,
            "width": null,
            "min_width": null,
            "border": null,
            "align_items": null,
            "bottom": null,
            "_model_module": "@jupyter-widgets/base",
            "top": null,
            "grid_column": null,
            "overflow_y": null,
            "overflow_x": null,
            "grid_auto_flow": null,
            "grid_area": null,
            "grid_template_columns": null,
            "flex": null,
            "_model_name": "LayoutModel",
            "justify_items": null,
            "grid_row": null,
            "max_height": null,
            "align_content": null,
            "visibility": null,
            "align_self": null,
            "height": null,
            "min_height": null,
            "padding": null,
            "grid_auto_rows": null,
            "grid_gap": null,
            "max_width": null,
            "order": null,
            "_view_module_version": "1.2.0",
            "grid_template_areas": null,
            "object_position": null,
            "object_fit": null,
            "grid_auto_columns": null,
            "margin": null,
            "display": null,
            "left": null
          }
        },
        "ffc49479e402461b9a1371f9c705ac2d": {
          "model_module": "@jupyter-widgets/controls",
          "model_name": "HBoxModel",
          "state": {
            "_view_name": "HBoxView",
            "_dom_classes": [],
            "_model_name": "HBoxModel",
            "_view_module": "@jupyter-widgets/controls",
            "_model_module_version": "1.5.0",
            "_view_count": null,
            "_view_module_version": "1.5.0",
            "box_style": "",
            "layout": "IPY_MODEL_000d9cdd152943edaf9e518eb8dab128",
            "_model_module": "@jupyter-widgets/controls",
            "children": [
              "IPY_MODEL_3bcab36d055a447fa6513eb9e8c37da9",
              "IPY_MODEL_85b043d7839c4ae281adcdd675d5b685"
            ]
          }
        },
        "000d9cdd152943edaf9e518eb8dab128": {
          "model_module": "@jupyter-widgets/base",
          "model_name": "LayoutModel",
          "state": {
            "_view_name": "LayoutView",
            "grid_template_rows": null,
            "right": null,
            "justify_content": null,
            "_view_module": "@jupyter-widgets/base",
            "overflow": null,
            "_model_module_version": "1.2.0",
            "_view_count": null,
            "flex_flow": null,
            "width": null,
            "min_width": null,
            "border": null,
            "align_items": null,
            "bottom": null,
            "_model_module": "@jupyter-widgets/base",
            "top": null,
            "grid_column": null,
            "overflow_y": null,
            "overflow_x": null,
            "grid_auto_flow": null,
            "grid_area": null,
            "grid_template_columns": null,
            "flex": null,
            "_model_name": "LayoutModel",
            "justify_items": null,
            "grid_row": null,
            "max_height": null,
            "align_content": null,
            "visibility": null,
            "align_self": null,
            "height": null,
            "min_height": null,
            "padding": null,
            "grid_auto_rows": null,
            "grid_gap": null,
            "max_width": null,
            "order": null,
            "_view_module_version": "1.2.0",
            "grid_template_areas": null,
            "object_position": null,
            "object_fit": null,
            "grid_auto_columns": null,
            "margin": null,
            "display": null,
            "left": null
          }
        },
        "3bcab36d055a447fa6513eb9e8c37da9": {
          "model_module": "@jupyter-widgets/controls",
          "model_name": "FloatProgressModel",
          "state": {
            "_view_name": "ProgressView",
            "style": "IPY_MODEL_8f144c7ea0084e69b9a79da6c13c8249",
            "_dom_classes": [],
            "description": "",
            "_model_name": "FloatProgressModel",
            "bar_style": "info",
            "max": 1,
            "_view_module": "@jupyter-widgets/controls",
            "_model_module_version": "1.5.0",
            "value": 1,
            "_view_count": null,
            "_view_module_version": "1.5.0",
            "orientation": "horizontal",
            "min": 0,
            "description_tooltip": null,
            "_model_module": "@jupyter-widgets/controls",
            "layout": "IPY_MODEL_215638ab3d7745fdaf070a114d694779"
          }
        },
        "85b043d7839c4ae281adcdd675d5b685": {
          "model_module": "@jupyter-widgets/controls",
          "model_name": "HTMLModel",
          "state": {
            "_view_name": "HTMLView",
            "style": "IPY_MODEL_f67ee044a26640e6a043579f64b7f43c",
            "_dom_classes": [],
            "description": "",
            "_model_name": "HTMLModel",
            "placeholder": "​",
            "_view_module": "@jupyter-widgets/controls",
            "_model_module_version": "1.5.0",
            "value": " 1237/0 [00:00&lt;00:00, 2183.97 examples/s]",
            "_view_count": null,
            "_view_module_version": "1.5.0",
            "description_tooltip": null,
            "_model_module": "@jupyter-widgets/controls",
            "layout": "IPY_MODEL_142a73c112be4ffe9c28eb3e646834ea"
          }
        },
        "8f144c7ea0084e69b9a79da6c13c8249": {
          "model_module": "@jupyter-widgets/controls",
          "model_name": "ProgressStyleModel",
          "state": {
            "_view_name": "StyleView",
            "_model_name": "ProgressStyleModel",
            "description_width": "initial",
            "_view_module": "@jupyter-widgets/base",
            "_model_module_version": "1.5.0",
            "_view_count": null,
            "_view_module_version": "1.2.0",
            "bar_color": null,
            "_model_module": "@jupyter-widgets/controls"
          }
        },
        "215638ab3d7745fdaf070a114d694779": {
          "model_module": "@jupyter-widgets/base",
          "model_name": "LayoutModel",
          "state": {
            "_view_name": "LayoutView",
            "grid_template_rows": null,
            "right": null,
            "justify_content": null,
            "_view_module": "@jupyter-widgets/base",
            "overflow": null,
            "_model_module_version": "1.2.0",
            "_view_count": null,
            "flex_flow": null,
            "width": null,
            "min_width": null,
            "border": null,
            "align_items": null,
            "bottom": null,
            "_model_module": "@jupyter-widgets/base",
            "top": null,
            "grid_column": null,
            "overflow_y": null,
            "overflow_x": null,
            "grid_auto_flow": null,
            "grid_area": null,
            "grid_template_columns": null,
            "flex": null,
            "_model_name": "LayoutModel",
            "justify_items": null,
            "grid_row": null,
            "max_height": null,
            "align_content": null,
            "visibility": null,
            "align_self": null,
            "height": null,
            "min_height": null,
            "padding": null,
            "grid_auto_rows": null,
            "grid_gap": null,
            "max_width": null,
            "order": null,
            "_view_module_version": "1.2.0",
            "grid_template_areas": null,
            "object_position": null,
            "object_fit": null,
            "grid_auto_columns": null,
            "margin": null,
            "display": null,
            "left": null
          }
        },
        "f67ee044a26640e6a043579f64b7f43c": {
          "model_module": "@jupyter-widgets/controls",
          "model_name": "DescriptionStyleModel",
          "state": {
            "_view_name": "StyleView",
            "_model_name": "DescriptionStyleModel",
            "description_width": "",
            "_view_module": "@jupyter-widgets/base",
            "_model_module_version": "1.5.0",
            "_view_count": null,
            "_view_module_version": "1.2.0",
            "_model_module": "@jupyter-widgets/controls"
          }
        },
        "142a73c112be4ffe9c28eb3e646834ea": {
          "model_module": "@jupyter-widgets/base",
          "model_name": "LayoutModel",
          "state": {
            "_view_name": "LayoutView",
            "grid_template_rows": null,
            "right": null,
            "justify_content": null,
            "_view_module": "@jupyter-widgets/base",
            "overflow": null,
            "_model_module_version": "1.2.0",
            "_view_count": null,
            "flex_flow": null,
            "width": null,
            "min_width": null,
            "border": null,
            "align_items": null,
            "bottom": null,
            "_model_module": "@jupyter-widgets/base",
            "top": null,
            "grid_column": null,
            "overflow_y": null,
            "overflow_x": null,
            "grid_auto_flow": null,
            "grid_area": null,
            "grid_template_columns": null,
            "flex": null,
            "_model_name": "LayoutModel",
            "justify_items": null,
            "grid_row": null,
            "max_height": null,
            "align_content": null,
            "visibility": null,
            "align_self": null,
            "height": null,
            "min_height": null,
            "padding": null,
            "grid_auto_rows": null,
            "grid_gap": null,
            "max_width": null,
            "order": null,
            "_view_module_version": "1.2.0",
            "grid_template_areas": null,
            "object_position": null,
            "object_fit": null,
            "grid_auto_columns": null,
            "margin": null,
            "display": null,
            "left": null
          }
        },
        "e3e05096981e43dfb3277ea3d4a3d68a": {
          "model_module": "@jupyter-widgets/controls",
          "model_name": "HBoxModel",
          "state": {
            "_view_name": "HBoxView",
            "_dom_classes": [],
            "_model_name": "HBoxModel",
            "_view_module": "@jupyter-widgets/controls",
            "_model_module_version": "1.5.0",
            "_view_count": null,
            "_view_module_version": "1.5.0",
            "box_style": "",
            "layout": "IPY_MODEL_ba38606bae3c453588a0dc410cd363d7",
            "_model_module": "@jupyter-widgets/controls",
            "children": [
              "IPY_MODEL_8f85bd96f4974b8699a99dd61c908db5",
              "IPY_MODEL_db5f1d2c969c49569453e79627917dda"
            ]
          }
        },
        "ba38606bae3c453588a0dc410cd363d7": {
          "model_module": "@jupyter-widgets/base",
          "model_name": "LayoutModel",
          "state": {
            "_view_name": "LayoutView",
            "grid_template_rows": null,
            "right": null,
            "justify_content": null,
            "_view_module": "@jupyter-widgets/base",
            "overflow": null,
            "_model_module_version": "1.2.0",
            "_view_count": null,
            "flex_flow": null,
            "width": null,
            "min_width": null,
            "border": null,
            "align_items": null,
            "bottom": null,
            "_model_module": "@jupyter-widgets/base",
            "top": null,
            "grid_column": null,
            "overflow_y": null,
            "overflow_x": null,
            "grid_auto_flow": null,
            "grid_area": null,
            "grid_template_columns": null,
            "flex": null,
            "_model_name": "LayoutModel",
            "justify_items": null,
            "grid_row": null,
            "max_height": null,
            "align_content": null,
            "visibility": null,
            "align_self": null,
            "height": null,
            "min_height": null,
            "padding": null,
            "grid_auto_rows": null,
            "grid_gap": null,
            "max_width": null,
            "order": null,
            "_view_module_version": "1.2.0",
            "grid_template_areas": null,
            "object_position": null,
            "object_fit": null,
            "grid_auto_columns": null,
            "margin": null,
            "display": null,
            "left": null
          }
        },
        "8f85bd96f4974b8699a99dd61c908db5": {
          "model_module": "@jupyter-widgets/controls",
          "model_name": "FloatProgressModel",
          "state": {
            "_view_name": "ProgressView",
            "style": "IPY_MODEL_536d117c4fb043f4b80015f171516f49",
            "_dom_classes": [],
            "description": "  0%",
            "_model_name": "FloatProgressModel",
            "bar_style": "danger",
            "max": 1237,
            "_view_module": "@jupyter-widgets/controls",
            "_model_module_version": "1.5.0",
            "value": 0,
            "_view_count": null,
            "_view_module_version": "1.5.0",
            "orientation": "horizontal",
            "min": 0,
            "description_tooltip": null,
            "_model_module": "@jupyter-widgets/controls",
            "layout": "IPY_MODEL_e55cd91bfe274a6890a1c842f6c02234"
          }
        },
        "db5f1d2c969c49569453e79627917dda": {
          "model_module": "@jupyter-widgets/controls",
          "model_name": "HTMLModel",
          "state": {
            "_view_name": "HTMLView",
            "style": "IPY_MODEL_4873f826618d462a9ec603daab19a72b",
            "_dom_classes": [],
            "description": "",
            "_model_name": "HTMLModel",
            "placeholder": "​",
            "_view_module": "@jupyter-widgets/controls",
            "_model_module_version": "1.5.0",
            "value": " 0/1237 [00:03&lt;?, ? examples/s]",
            "_view_count": null,
            "_view_module_version": "1.5.0",
            "description_tooltip": null,
            "_model_module": "@jupyter-widgets/controls",
            "layout": "IPY_MODEL_99b76cde9f974967a5bf045dad83ef5c"
          }
        },
        "536d117c4fb043f4b80015f171516f49": {
          "model_module": "@jupyter-widgets/controls",
          "model_name": "ProgressStyleModel",
          "state": {
            "_view_name": "StyleView",
            "_model_name": "ProgressStyleModel",
            "description_width": "initial",
            "_view_module": "@jupyter-widgets/base",
            "_model_module_version": "1.5.0",
            "_view_count": null,
            "_view_module_version": "1.2.0",
            "bar_color": null,
            "_model_module": "@jupyter-widgets/controls"
          }
        },
        "e55cd91bfe274a6890a1c842f6c02234": {
          "model_module": "@jupyter-widgets/base",
          "model_name": "LayoutModel",
          "state": {
            "_view_name": "LayoutView",
            "grid_template_rows": null,
            "right": null,
            "justify_content": null,
            "_view_module": "@jupyter-widgets/base",
            "overflow": null,
            "_model_module_version": "1.2.0",
            "_view_count": null,
            "flex_flow": null,
            "width": null,
            "min_width": null,
            "border": null,
            "align_items": null,
            "bottom": null,
            "_model_module": "@jupyter-widgets/base",
            "top": null,
            "grid_column": null,
            "overflow_y": null,
            "overflow_x": null,
            "grid_auto_flow": null,
            "grid_area": null,
            "grid_template_columns": null,
            "flex": null,
            "_model_name": "LayoutModel",
            "justify_items": null,
            "grid_row": null,
            "max_height": null,
            "align_content": null,
            "visibility": null,
            "align_self": null,
            "height": null,
            "min_height": null,
            "padding": null,
            "grid_auto_rows": null,
            "grid_gap": null,
            "max_width": null,
            "order": null,
            "_view_module_version": "1.2.0",
            "grid_template_areas": null,
            "object_position": null,
            "object_fit": null,
            "grid_auto_columns": null,
            "margin": null,
            "display": null,
            "left": null
          }
        },
        "4873f826618d462a9ec603daab19a72b": {
          "model_module": "@jupyter-widgets/controls",
          "model_name": "DescriptionStyleModel",
          "state": {
            "_view_name": "StyleView",
            "_model_name": "DescriptionStyleModel",
            "description_width": "",
            "_view_module": "@jupyter-widgets/base",
            "_model_module_version": "1.5.0",
            "_view_count": null,
            "_view_module_version": "1.2.0",
            "_model_module": "@jupyter-widgets/controls"
          }
        },
        "99b76cde9f974967a5bf045dad83ef5c": {
          "model_module": "@jupyter-widgets/base",
          "model_name": "LayoutModel",
          "state": {
            "_view_name": "LayoutView",
            "grid_template_rows": null,
            "right": null,
            "justify_content": null,
            "_view_module": "@jupyter-widgets/base",
            "overflow": null,
            "_model_module_version": "1.2.0",
            "_view_count": null,
            "flex_flow": null,
            "width": null,
            "min_width": null,
            "border": null,
            "align_items": null,
            "bottom": null,
            "_model_module": "@jupyter-widgets/base",
            "top": null,
            "grid_column": null,
            "overflow_y": null,
            "overflow_x": null,
            "grid_auto_flow": null,
            "grid_area": null,
            "grid_template_columns": null,
            "flex": null,
            "_model_name": "LayoutModel",
            "justify_items": null,
            "grid_row": null,
            "max_height": null,
            "align_content": null,
            "visibility": null,
            "align_self": null,
            "height": null,
            "min_height": null,
            "padding": null,
            "grid_auto_rows": null,
            "grid_gap": null,
            "max_width": null,
            "order": null,
            "_view_module_version": "1.2.0",
            "grid_template_areas": null,
            "object_position": null,
            "object_fit": null,
            "grid_auto_columns": null,
            "margin": null,
            "display": null,
            "left": null
          }
        }
      }
    }
  },
  "cells": [
    {
      "cell_type": "markdown",
      "metadata": {
        "id": "aPw__XISi-JQ"
      },
      "source": [
        "#IMPORTS"
      ]
    },
    {
      "cell_type": "code",
      "metadata": {
        "colab": {
          "base_uri": "https://localhost:8080/"
        },
        "id": "yWhiQaCWZTNA",
        "outputId": "b2e3300d-183a-47c0-ce84-caad89b610b1"
      },
      "source": [
        "#Keras and TensorFlow\n",
        "import keras\n",
        "from keras import layers\n",
        "import tensorflow as tf\n",
        "import tensorflow_datasets as tfds\n",
        "import numpy as np\n",
        "#Progress Bars\n",
        "import time\n",
        "import progressbar\n",
        "#Encoding\n",
        "from tensorflow.keras.preprocessing.sequence import pad_sequences\n",
        "import sys\n",
        "#Tokenize\n",
        "import collections\n",
        "from collections import Counter\n",
        "import itertools\n",
        "from itertools import chain\n",
        "import string\n",
        "import nltk as nltk\n",
        "from nltk.tokenize import sent_tokenize, word_tokenize\n",
        "from tensorflow.keras.preprocessing.text import Tokenizer\n",
        "nltk.download('punkt')"
      ],
      "execution_count": 1,
      "outputs": [
        {
          "output_type": "stream",
          "text": [
            "[nltk_data] Downloading package punkt to /root/nltk_data...\n",
            "[nltk_data]   Unzipping tokenizers/punkt.zip.\n"
          ],
          "name": "stdout"
        },
        {
          "output_type": "execute_result",
          "data": {
            "text/plain": [
              "True"
            ]
          },
          "metadata": {
            "tags": []
          },
          "execution_count": 1
        }
      ]
    },
    {
      "cell_type": "code",
      "metadata": {
        "colab": {
          "base_uri": "https://localhost:8080/"
        },
        "id": "3gyJEupvpmQy",
        "outputId": "1fc0ddf5-d75c-4dea-c5db-c5afa1b8a2b6"
      },
      "source": [
        "\n",
        "from google.colab import drive\n",
        "drive.mount('/content/drive')\n",
        "%cd /content/drive"
      ],
      "execution_count": 2,
      "outputs": [
        {
          "output_type": "stream",
          "text": [
            "Mounted at /content/drive\n",
            "/content/drive\n"
          ],
          "name": "stdout"
        }
      ]
    },
    {
      "cell_type": "code",
      "metadata": {
        "colab": {
          "base_uri": "https://localhost:8080/"
        },
        "id": "bySyUuVFJhZo",
        "outputId": "5c3dbab3-719e-4eda-d0fb-e4ec72bbb8a9"
      },
      "source": [
        "gpu_info = !nvidia-smi\n",
        "gpu_info = '\\n'.join(gpu_info)\n",
        "if gpu_info.find('failed') >= 0:\n",
        "  print('Select the Runtime > \"Change runtime type\" menu to enable a GPU accelerator, ')\n",
        "  print('and then re-execute this cell.')\n",
        "else:\n",
        "  print(gpu_info)"
      ],
      "execution_count": 3,
      "outputs": [
        {
          "output_type": "stream",
          "text": [
            "Mon Dec 14 02:50:46 2020       \n",
            "+-----------------------------------------------------------------------------+\n",
            "| NVIDIA-SMI 455.45.01    Driver Version: 418.67       CUDA Version: 10.1     |\n",
            "|-------------------------------+----------------------+----------------------+\n",
            "| GPU  Name        Persistence-M| Bus-Id        Disp.A | Volatile Uncorr. ECC |\n",
            "| Fan  Temp  Perf  Pwr:Usage/Cap|         Memory-Usage | GPU-Util  Compute M. |\n",
            "|                               |                      |               MIG M. |\n",
            "|===============================+======================+======================|\n",
            "|   0  Tesla P100-PCIE...  Off  | 00000000:00:04.0 Off |                    0 |\n",
            "| N/A   37C    P0    25W / 250W |      0MiB / 16280MiB |      0%      Default |\n",
            "|                               |                      |                 ERR! |\n",
            "+-------------------------------+----------------------+----------------------+\n",
            "                                                                               \n",
            "+-----------------------------------------------------------------------------+\n",
            "| Processes:                                                                  |\n",
            "|  GPU   GI   CI        PID   Type   Process name                  GPU Memory |\n",
            "|        ID   ID                                                   Usage      |\n",
            "|=============================================================================|\n",
            "|  No running processes found                                                 |\n",
            "+-----------------------------------------------------------------------------+\n"
          ],
          "name": "stdout"
        }
      ]
    },
    {
      "cell_type": "code",
      "metadata": {
        "colab": {
          "base_uri": "https://localhost:8080/"
        },
        "id": "O67dmu_pJsYA",
        "outputId": "d7e49fa1-cad9-4758-8580-a2bdebbaa59b"
      },
      "source": [
        "from psutil import virtual_memory\n",
        "ram_gb = virtual_memory().total / 1e9\n",
        "print('Your runtime has {:.1f} gigabytes of available RAM\\n'.format(ram_gb))\n",
        "\n",
        "if ram_gb < 20:\n",
        "  print('To enable a high-RAM runtime, select the Runtime > \"Change runtime type\"')\n",
        "  print('menu, and then select High-RAM in the Runtime shape dropdown. Then, ')\n",
        "  print('re-execute this cell.')\n",
        "else:\n",
        "  print('You are using a high-RAM runtime!')"
      ],
      "execution_count": 4,
      "outputs": [
        {
          "output_type": "stream",
          "text": [
            "Your runtime has 27.4 gigabytes of available RAM\n",
            "\n",
            "You are using a high-RAM runtime!\n"
          ],
          "name": "stdout"
        }
      ]
    },
    {
      "cell_type": "markdown",
      "metadata": {
        "id": "V9X7J-bNgOsx"
      },
      "source": [
        "#Build Dataset"
      ]
    },
    {
      "cell_type": "markdown",
      "metadata": {
        "id": "32vEtilqiuyQ"
      },
      "source": [
        "##Download Dataset"
      ]
    },
    {
      "cell_type": "code",
      "metadata": {
        "colab": {
          "base_uri": "https://localhost:8080/",
          "height": 0,
          "referenced_widgets": [
            "09dff32e04874661a2e1630a5c7a5b5f",
            "97a4aabf5c71490fb3323523d10e65ca",
            "f3d7b781bfec4533a94bb794c74e9436",
            "fab78cd83cf649c2ab5c3c2a082c66f9",
            "0d8793a4b2094141bb5028c68ddab505",
            "038b2522c3904c0fbf5ce72019238a71",
            "ceeb451faa73428bba9e64394afe01bb",
            "3998dcc2d9f34bda84f8e8cb1c63e870",
            "1ee41948b874437d8b901d715512a3d2",
            "be977f3ad4f0408e8a60b39f1f05cfc5",
            "af5ecbb0d73a4d778a50a491c4220881",
            "745b94ac3e974da585e3a9a36c321451",
            "c1d14f298d8b415ba7f9d3747d29e8b9",
            "d938d3f22d21428483cbca51c2dcb326",
            "1293c2f72a9940989982814fc3f52c92",
            "8d918d362dac497ca1be6dc7c2bca2d0",
            "51a5818ac258448a8e34a85d811d3f5f",
            "57b6bbdde68b407683d1770bf0e9df48",
            "a6b214200c9140fe9bf98c9ca1c1f9f6",
            "c7c775fc76604ddaab45e7b6750a8124",
            "d0a7dbbd9b444b9bb0673e10110267e0",
            "8d6aa0bdf227457498b133f74cdee8b0",
            "b98ccb4be7464e45b79f0c46fd7f20c6",
            "4082cb0774e24a49a39dd7ec2c716fd3",
            "a25ebcf2add9499682328b4ba3be236e",
            "268dac87062847f7adcda0f86daef6b7",
            "9accd689b716448f8f6ecf3443cd7dfa",
            "ba430642aac24e349c4efb4a0ea8e4f6",
            "ef41b7388a7e40e9980636ca3b892443",
            "c498d2b674d8425490aee4b6e898f745",
            "a74691a5a27a483fb7c36428b7ad2580",
            "01712ecf91e641a9a37a004f565a007a",
            "822e1f9ecdae43ca9d1e23276ee13de1",
            "56bb6b6e5122484d8c7c2e58b2b4a003",
            "5687ff2c56084d94b539a5d67b78aaad",
            "1a450f6c39104f6cb1a7c37d49a54f5b",
            "69058025c47e4aa189cb24b6cf2a2ab0",
            "81e457b83f15433782b447e0b2113360",
            "9887d355048d41b3b39db3d484069f74",
            "14859e46aeb74053865a0f650c794b10",
            "2fb2c02a2b22448cbf896190f8574edc",
            "eafe9222613544cf89e52a6f35efcbc5",
            "bcb4ac4eabd14128a75383ab7f9815ed",
            "60a9387f5a9844f69f8d3ad6f44966b2",
            "b6040b5b7dd54819954e44994c75a38b",
            "418ebcec90e445d69009ee69974e974c",
            "2a0574eb7bbf434e94d5d4a444755f49",
            "e5fa63d105dc4097b09d97f4f936b8db",
            "988f6e5bd4a341719438711976e05a2b",
            "6b4c5bc583484eb98b8d0467a2581d42",
            "b8ed5357fe494c318ed13a0c08c2f256",
            "b23a730a2f564e318cbe040f3b60376e",
            "b3e7037c4e51430183fe471088132635",
            "f24fd1f7f01746009855de3a50c2572b",
            "bf08f74a714f403a8ca9a410bb8a0055",
            "9e8bd50a953b4fcd9397dbe373de45b7",
            "ffc49479e402461b9a1371f9c705ac2d",
            "000d9cdd152943edaf9e518eb8dab128",
            "3bcab36d055a447fa6513eb9e8c37da9",
            "85b043d7839c4ae281adcdd675d5b685",
            "8f144c7ea0084e69b9a79da6c13c8249",
            "215638ab3d7745fdaf070a114d694779",
            "f67ee044a26640e6a043579f64b7f43c",
            "142a73c112be4ffe9c28eb3e646834ea",
            "e3e05096981e43dfb3277ea3d4a3d68a",
            "ba38606bae3c453588a0dc410cd363d7",
            "8f85bd96f4974b8699a99dd61c908db5",
            "db5f1d2c969c49569453e79627917dda",
            "536d117c4fb043f4b80015f171516f49",
            "e55cd91bfe274a6890a1c842f6c02234",
            "4873f826618d462a9ec603daab19a72b",
            "99b76cde9f974967a5bf045dad83ef5c"
          ]
        },
        "id": "vyJ9hv6CiVtH",
        "outputId": "d139b5d2-8bd0-4ac4-ee71-f94bf3e5b7d8"
      },
      "source": [
        "ds, info = tfds.load(\"billsum\", with_info=True)\n",
        "ds_ca_test, ds_test, ds_train = ds[\"ca_test\"], ds[\"test\"], ds[\"train\"] \n",
        "print(info)\n",
        "print(ds_train)\n",
        "\n",
        "ds_numpy = tfds.as_numpy(ds_train);\n",
        "\n",
        "#for summ in ds_numpy:\n",
        " # print(summ)\n",
        "\n",
        "###PRINTS EVERY SUMMARY IN THE DS\n",
        "#for ins in ds_train:\n",
        " # summary_i = ins[\"summary\"]\n",
        "  #print(summary_i)\n",
        "\n",
        "\n",
        "\n",
        "#FeaturesDict({\n",
        " #   'summary': Text(shape=(), dtype=tf.string),\n",
        "  #  'text': Text(shape=(), dtype=tf.string),\n",
        "   # 'title': Text(shape=(), dtype=tf.string),\n",
        "#})"
      ],
      "execution_count": 5,
      "outputs": [
        {
          "output_type": "stream",
          "text": [
            "\u001b[1mDownloading and preparing dataset billsum/3.0.0 (download: 64.14 MiB, generated: Unknown size, total: 64.14 MiB) to /root/tensorflow_datasets/billsum/3.0.0...\u001b[0m\n"
          ],
          "name": "stdout"
        },
        {
          "output_type": "display_data",
          "data": {
            "application/vnd.jupyter.widget-view+json": {
              "model_id": "09dff32e04874661a2e1630a5c7a5b5f",
              "version_minor": 0,
              "version_major": 2
            },
            "text/plain": [
              "HBox(children=(FloatProgress(value=1.0, bar_style='info', description='Dl Completed...', max=1.0, style=Progre…"
            ]
          },
          "metadata": {
            "tags": []
          }
        },
        {
          "output_type": "display_data",
          "data": {
            "application/vnd.jupyter.widget-view+json": {
              "model_id": "1ee41948b874437d8b901d715512a3d2",
              "version_minor": 0,
              "version_major": 2
            },
            "text/plain": [
              "HBox(children=(FloatProgress(value=1.0, bar_style='info', description='Dl Size...', max=1.0, style=ProgressSty…"
            ]
          },
          "metadata": {
            "tags": []
          }
        },
        {
          "output_type": "display_data",
          "data": {
            "application/vnd.jupyter.widget-view+json": {
              "model_id": "51a5818ac258448a8e34a85d811d3f5f",
              "version_minor": 0,
              "version_major": 2
            },
            "text/plain": [
              "HBox(children=(FloatProgress(value=1.0, bar_style='info', description='Extraction completed...', max=1.0, styl…"
            ]
          },
          "metadata": {
            "tags": []
          }
        },
        {
          "output_type": "stream",
          "text": [
            "\n",
            "\n",
            "\n",
            "\n",
            "\n",
            "\n"
          ],
          "name": "stdout"
        },
        {
          "output_type": "display_data",
          "data": {
            "application/vnd.jupyter.widget-view+json": {
              "model_id": "a25ebcf2add9499682328b4ba3be236e",
              "version_minor": 0,
              "version_major": 2
            },
            "text/plain": [
              "HBox(children=(FloatProgress(value=1.0, bar_style='info', max=1.0), HTML(value='')))"
            ]
          },
          "metadata": {
            "tags": []
          }
        },
        {
          "output_type": "stream",
          "text": [
            "\rShuffling and writing examples to /root/tensorflow_datasets/billsum/3.0.0.incomplete5C6WGH/billsum-train.tfrecord\n"
          ],
          "name": "stdout"
        },
        {
          "output_type": "display_data",
          "data": {
            "application/vnd.jupyter.widget-view+json": {
              "model_id": "822e1f9ecdae43ca9d1e23276ee13de1",
              "version_minor": 0,
              "version_major": 2
            },
            "text/plain": [
              "HBox(children=(FloatProgress(value=0.0, max=18949.0), HTML(value='')))"
            ]
          },
          "metadata": {
            "tags": []
          }
        },
        {
          "output_type": "display_data",
          "data": {
            "application/vnd.jupyter.widget-view+json": {
              "model_id": "2fb2c02a2b22448cbf896190f8574edc",
              "version_minor": 0,
              "version_major": 2
            },
            "text/plain": [
              "HBox(children=(FloatProgress(value=1.0, bar_style='info', max=1.0), HTML(value='')))"
            ]
          },
          "metadata": {
            "tags": []
          }
        },
        {
          "output_type": "stream",
          "text": [
            "Shuffling and writing examples to /root/tensorflow_datasets/billsum/3.0.0.incomplete5C6WGH/billsum-test.tfrecord\n"
          ],
          "name": "stdout"
        },
        {
          "output_type": "display_data",
          "data": {
            "application/vnd.jupyter.widget-view+json": {
              "model_id": "988f6e5bd4a341719438711976e05a2b",
              "version_minor": 0,
              "version_major": 2
            },
            "text/plain": [
              "HBox(children=(FloatProgress(value=0.0, max=3269.0), HTML(value='')))"
            ]
          },
          "metadata": {
            "tags": []
          }
        },
        {
          "output_type": "stream",
          "text": [
            "\r"
          ],
          "name": "stdout"
        },
        {
          "output_type": "display_data",
          "data": {
            "application/vnd.jupyter.widget-view+json": {
              "model_id": "ffc49479e402461b9a1371f9c705ac2d",
              "version_minor": 0,
              "version_major": 2
            },
            "text/plain": [
              "HBox(children=(FloatProgress(value=1.0, bar_style='info', max=1.0), HTML(value='')))"
            ]
          },
          "metadata": {
            "tags": []
          }
        },
        {
          "output_type": "stream",
          "text": [
            "\rShuffling and writing examples to /root/tensorflow_datasets/billsum/3.0.0.incomplete5C6WGH/billsum-ca_test.tfrecord\n"
          ],
          "name": "stdout"
        },
        {
          "output_type": "display_data",
          "data": {
            "application/vnd.jupyter.widget-view+json": {
              "model_id": "e3e05096981e43dfb3277ea3d4a3d68a",
              "version_minor": 0,
              "version_major": 2
            },
            "text/plain": [
              "HBox(children=(FloatProgress(value=0.0, max=1237.0), HTML(value='')))"
            ]
          },
          "metadata": {
            "tags": []
          }
        },
        {
          "output_type": "stream",
          "text": [
            "\u001b[1mDataset billsum downloaded and prepared to /root/tensorflow_datasets/billsum/3.0.0. Subsequent calls will reuse this data.\u001b[0m\n",
            "tfds.core.DatasetInfo(\n",
            "    name='billsum',\n",
            "    version=3.0.0,\n",
            "    description='BillSum, summarization of US Congressional and California state bills.\n",
            "\n",
            "There are several features:\n",
            "  - text: bill text.\n",
            "  - summary: summary of the bills.\n",
            "  - title: title of the bills.\n",
            "features for us bills. ca bills does not have.\n",
            "  - text_len: number of chars in text.\n",
            "  - sum_len: number of chars in summary.',\n",
            "    homepage='https://github.com/FiscalNote/BillSum',\n",
            "    features=FeaturesDict({\n",
            "        'summary': Text(shape=(), dtype=tf.string),\n",
            "        'text': Text(shape=(), dtype=tf.string),\n",
            "        'title': Text(shape=(), dtype=tf.string),\n",
            "    }),\n",
            "    total_num_examples=23455,\n",
            "    splits={\n",
            "        'ca_test': 1237,\n",
            "        'test': 3269,\n",
            "        'train': 18949,\n",
            "    },\n",
            "    supervised_keys=('text', 'summary'),\n",
            "    citation=\"\"\"@misc{kornilova2019billsum,\n",
            "        title={BillSum: A Corpus for Automatic Summarization of US Legislation},\n",
            "        author={Anastassia Kornilova and Vlad Eidelman},\n",
            "        year={2019},\n",
            "        eprint={1910.00523},\n",
            "        archivePrefix={arXiv},\n",
            "        primaryClass={cs.CL}\n",
            "    }\"\"\",\n",
            "    redistribution_info=,\n",
            ")\n",
            "\n",
            "<PrefetchDataset shapes: {summary: (), text: (), title: ()}, types: {summary: tf.string, text: tf.string, title: tf.string}>\n"
          ],
          "name": "stdout"
        }
      ]
    },
    {
      "cell_type": "markdown",
      "metadata": {
        "id": "a40QWIZYimdq"
      },
      "source": [
        "##Dataset"
      ]
    },
    {
      "cell_type": "markdown",
      "metadata": {
        "id": "txh1FQ8KH5Gi"
      },
      "source": [
        "####Clean DS Code from DS creator"
      ]
    },
    {
      "cell_type": "code",
      "metadata": {
        "id": "38YIIe-wBWkk"
      },
      "source": [
        "import os\n",
        "import pandas as pd\n",
        "import pickle\n",
        "import re\n",
        "import unicodedata\n",
        "\n",
        "def normalize_input(text):\n",
        "  return unicodedata.normalize('NFD', text).encode('ascii', 'ignore')\n",
        "  \n",
        "def replace_semicolon(text, threshold=10):\n",
        "    '''\n",
        "    Get rid of semicolons.\n",
        "    First split text into fragments between the semicolons. If the fragment \n",
        "    is longer than the threshold, turn the semicolon into a period. O.w treat\n",
        "    it as a comma.\n",
        "    Returns new text\n",
        "    '''\n",
        "    new_text = \"\"\n",
        "    for subset in re.split(';', text):\n",
        "        subset = subset.strip() # Clear off spaces\n",
        "        # Check word count\n",
        "        if len(subset.split()) > threshold:\n",
        "            # Turn first char into uppercase\n",
        "            new_text += \". \" + subset[0].upper() + subset[1:]\n",
        "        else:\n",
        "            # Just append with a comma \n",
        "            new_text += \", \" + subset\n",
        "\n",
        "    return new_text\n",
        "\n",
        "USC_re = re.compile('[Uu]\\.*[Ss]\\.*[Cc]\\.]+')\n",
        "PAREN_re = re.compile('\\([^(]+\\ [^\\(]+\\)')\n",
        "BAD_PUNCT_RE = re.compile(r'([%s])' % re.escape('\"#%&\\*\\+/<=>@[\\]^{|}~_'), re.UNICODE)\n",
        "BULLET_RE = re.compile('\\n[\\ \\t]*`*\\([a-zA-Z0-9]*\\)')\n",
        "DASH_RE = re.compile('--+')\n",
        "WHITESPACE_RE = re.compile('\\s+')\n",
        "EMPTY_SENT_RE = re.compile('[,\\.]\\ *[\\.,]')\n",
        "FIX_START_RE = re.compile('^[^A-Za-z]*')\n",
        "FIX_PERIOD = re.compile('\\.([A-Za-z])')\n",
        "SECTION_HEADER_RE = re.compile('SECTION [0-9]{1,2}\\.|\\nSEC\\.* [0-9]{1,2}\\.|Sec\\.* [0-9]{1,2}\\.')\n",
        "\n",
        "FIX_PERIOD = re.compile('\\.([A-Za-z])')\n",
        "\n",
        "SECTION_HEADER_RE = re.compile('SECTION [0-9]{1,2}\\.|\\nSEC\\.* [0-9]{1,2}\\.|Sec\\.* [0-9]{1,2}\\.')\n",
        "\n",
        "def clean_text(text):\n",
        "    \"\"\"\n",
        "    Borrowed from the FNDS text processing with additional logic added in.\n",
        "    Note: we do not take care of token breaking - assume SPACY's tokenizer\n",
        "    will handle this for us.\n",
        "    \"\"\"\n",
        "\n",
        "    # Indicate section headers, we need them for features\n",
        "    text = SECTION_HEADER_RE.sub('SECTION-HEADER', text)\n",
        "    # For simplicity later, remove '.' from most common acronym\n",
        "    text = text.replace(\"U.S.\", \"US\")\n",
        "    text = text.replace('SEC.', 'Section')\n",
        "    text = text.replace('Sec.', 'Section')\n",
        "    text = USC_re.sub('USC', text)\n",
        "\n",
        "    # Remove parantheticals because they are almost always references to laws \n",
        "    # We could add a special tag, but we just remove for now\n",
        "    # Note we dont get rid of nested parens because that is a complex re\n",
        "    #text = PAREN_re.sub('LAWREF', text)\n",
        "    text = PAREN_re.sub('', text)\n",
        "    \n",
        "\n",
        "    # Get rid of enums as bullets or ` as bullets\n",
        "    text = BULLET_RE.sub(' ',text)\n",
        "    \n",
        "    # remove &nbsp\n",
        "    text = text.replace('&nbsp', '')\n",
        "\n",
        "\n",
        "    # Clean html \n",
        "    text = text.replace('&lt;all&gt;', '')\n",
        "\n",
        "    # Remove annoying punctuation, that's not relevant\n",
        "    text = BAD_PUNCT_RE.sub('', text)\n",
        "\n",
        "    # Get rid of long sequences of dashes - these are formating\n",
        "    text = DASH_RE.sub( ' ', text)\n",
        "\n",
        "    # removing newlines, tabs, and extra spaces.\n",
        "    text = WHITESPACE_RE.sub(' ', text)\n",
        "    \n",
        "    # If we ended up with \"empty\" sentences - get rid of them.\n",
        "    text = EMPTY_SENT_RE.sub('.', text)\n",
        "    \n",
        "    # Attempt to create sentences from bullets \n",
        "    text = replace_semicolon(text)\n",
        "    \n",
        "    # Fix weird period issues + start of text weirdness\n",
        "    #text = re.sub('\\.(?=[A-Z])', '  . ', text)\n",
        "    # Get rid of anything thats not a word from the start of the text\n",
        "    text = FIX_START_RE.sub( '', text)\n",
        "    # Sometimes periods get formatted weird, make sure there is a space between periods and start of sent   \n",
        "    text = FIX_PERIOD.sub(\". \\g<1>\", text)\n",
        "\n",
        "    # Fix quotes\n",
        "    text = text.replace('``', '\"')\n",
        "    text = text.replace('\\'\\'', '\"')\n",
        "    text = str(normalize_input(text))\n",
        "\n",
        "    # Add special punct back in\n",
        "    text = text.replace('SECTION-HEADER', '')\n",
        "    text = text.replace('SHORT TITLE.', '')\n",
        "\n",
        "    text = re.sub('Section [0-9]{1,2}\\.', '', text)\n",
        "    text = re.sub(\"(\\w)quot(\\s|\\.|$)\", r\"\\1 \", text)\n",
        "\n",
        "    return text"
      ],
      "execution_count": 6,
      "outputs": []
    },
    {
      "cell_type": "markdown",
      "metadata": {
        "id": "XelkCNDgi3XA"
      },
      "source": [
        "###Tokenize"
      ]
    },
    {
      "cell_type": "code",
      "metadata": {
        "id": "AlQxGrUP800n"
      },
      "source": [
        "train_tokens_file = '/content/drive/My Drive/glove/train_tokens.pkl'\n",
        "test_tokens_file =  '/content/drive/My Drive/glove/test_tokens.pkl'\n",
        "import os.path\n",
        "from os import path\n",
        "#load object from file\n",
        "def load_tok(datastruct_file):\n",
        "  tok_set = None\n",
        "  if path.exists(datastruct_file):\n",
        "    dfile = open(datastruct_file, 'rb')\n",
        "    tok_set = pickle.load(dfile)\n",
        "    dfile.close()\n",
        "  return tok_set\n",
        "\n",
        "train_set = load_tok(train_tokens_file)\n",
        "test_set = load_tok(test_tokens_file)"
      ],
      "execution_count": 7,
      "outputs": []
    },
    {
      "cell_type": "code",
      "metadata": {
        "id": "bAL96r-5mFkP"
      },
      "source": [
        "def clean_item(text):\n",
        "  txt = (clean_text(re.sub(\"\\(\\d\\)\", '',(str(text)[12:-26]).replace(\"\\\\n\", \" \")))).lower()\n",
        "  mytable = txt.maketrans(\".-\", \"  \", \",'`;)\\\":\")\n",
        "  return txt.translate(mytable)\n",
        "\n",
        "def clean_and_tokenize(datastruct):\n",
        "  return word_tokenize(clean_item(datastruct['summary'])), word_tokenize(clean_item(datastruct['text']))\n",
        "\n",
        "def format_data(datastruct):\n",
        "  data_set = {'x': [], 'y': []}\n",
        "  count = 0\n",
        "  with progressbar.ProgressBar(max_value=len(datastruct)) as bar:\n",
        "    for entry in datastruct:\n",
        "      art, sum = clean_and_tokenize(entry)\n",
        "      data_set['x'].append(art)\n",
        "      data_set['y'].append(sum)\n",
        "      count += 1\n",
        "      bar.update(count)\n",
        "  return data_set\n",
        "\n"
      ],
      "execution_count": 8,
      "outputs": []
    },
    {
      "cell_type": "code",
      "metadata": {
        "id": "FA-5hI5f87XM",
        "colab": {
          "base_uri": "https://localhost:8080/"
        },
        "outputId": "9000b9b1-0756-4a21-bf4a-fff7ec4c176a"
      },
      "source": [
        "#save data to file\n",
        "def save(datastruct_file, dataset):\n",
        "  dfile = open(datastruct_file, 'wb')\n",
        "  pickle.dump(dataset, dfile)\n",
        "  dfile.close()\n",
        "\n",
        "if True:\n",
        "  train_set = format_data(ds_train)\n",
        "  test_set = format_data(ds_test)\n",
        "  save(train_tokens_file, train_set)\n",
        "  save(test_tokens_file, train_set)"
      ],
      "execution_count": 9,
      "outputs": [
        {
          "output_type": "stream",
          "text": [
            "100% (18949 of 18949) |##################| Elapsed Time: 0:02:43 Time:  0:02:43\n",
            "100% (3269 of 3269) |####################| Elapsed Time: 0:00:28 Time:  0:00:28\n"
          ],
          "name": "stderr"
        }
      ]
    },
    {
      "cell_type": "code",
      "metadata": {
        "id": "2-0cP9jPXMM1"
      },
      "source": [
        "def get_vocab(dataset):\n",
        "    return Counter(item for subset in dataset for lst in dataset[subset] for item in lst).keys()\n",
        "\n",
        "vocab_list = get_vocab(train_set)"
      ],
      "execution_count": 10,
      "outputs": []
    },
    {
      "cell_type": "markdown",
      "metadata": {
        "id": "MGEJwwzUi6S1"
      },
      "source": [
        "###Embedding"
      ]
    },
    {
      "cell_type": "markdown",
      "metadata": {
        "id": "T_DVaRhbi_z8"
      },
      "source": [
        "####GloVe"
      ]
    },
    {
      "cell_type": "code",
      "metadata": {
        "id": "wWQIi3-Zpf6u",
        "colab": {
          "base_uri": "https://localhost:8080/"
        },
        "outputId": "d27043e6-1d7a-4f4c-c30d-a9ad160e6452"
      },
      "source": [
        "#Creates Vectors\n",
        "#taken from https://medium.com/analytics-vidhya/basics-of-using-pre-trained-glove-vectors-in-python-d38905f356db\n",
        "vectors_dict = {}\n",
        "glove_file_4B = '/content/drive/My Drive/glove/glove.6B.50d.txt'\n",
        "glove_file_42B = '/content/drive/My Drive/glove/glove.42B.300d.txt'\n",
        "size = 400000 #4B = 400000 , 42B = 1917494\n",
        "embedding_dim = 50\n",
        "\n",
        "with open(glove_file_4B, 'r') as GloVe:\n",
        "  i = 0\n",
        "  #with progressbar.ProgressBar(max_value=size) as bar:\n",
        "  for line in GloVe:\n",
        "    values = line.split()\n",
        "    word = values[0]\n",
        "    vector = np.asarray(values[1:], \"float32\")\n",
        "    vectors_dict[word] = vector\n",
        "    #  bar.update(i)\n",
        "    i += 1\n",
        "print(i)"
      ],
      "execution_count": 11,
      "outputs": [
        {
          "output_type": "stream",
          "text": [
            "400000\n"
          ],
          "name": "stdout"
        }
      ]
    },
    {
      "cell_type": "markdown",
      "metadata": {
        "id": "2mAW4MzQ70sR"
      },
      "source": [
        "####Embedding *Matrix*"
      ]
    },
    {
      "cell_type": "code",
      "metadata": {
        "id": "_WE26_BSDe0C",
        "colab": {
          "base_uri": "https://localhost:8080/"
        },
        "outputId": "d091bb86-1cfc-4177-c4b6-818e97c08712"
      },
      "source": [
        "#Creates Embedding -> (word_index : vectors)\n",
        "i = 0\n",
        "failed = 0\n",
        "embedding_dictionary = {}\n",
        "\n",
        "with progressbar.ProgressBar(max_value=len(vocab_list)) as bar:\n",
        "  for word in vocab_list:\n",
        "    if word in vectors_dict:\n",
        "      embedding_dictionary[word] = vectors_dict[word].astype('float32')\n",
        "    else:\n",
        "      failed += 1\n",
        "      #print(word)\n",
        "    bar.update(i)\n",
        "    i += 1\n",
        "\n",
        "word_count = len(embedding_dictionary)+2\n",
        "print(f\"Embeddings Dict size: {word_count}\")\n",
        "print(f\"{failed} words did not match the glove\")\n",
        "#print(embedding_matrix[tokenizer.word_index[\"bureau\"]])\n",
        "print(sys.getsizeof(embedding_dictionary))\n",
        "\n",
        "tokenizer = Tokenizer(num_words=word_count, oov_token='OOV')\n",
        "tokenizer.fit_on_texts(embedding_dictionary.keys())\n",
        "\n",
        "embedding_matrix = np.zeros((word_count, embedding_dim), dtype='float32')\n",
        "\n",
        "for w in tokenizer.word_index:\n",
        "  if w in embedding_dictionary:\n",
        "    embedding_matrix[tokenizer.word_index[w]] = embedding_dictionary[w]\n",
        "\n",
        "del embedding_dictionary"
      ],
      "execution_count": 12,
      "outputs": [
        {
          "output_type": "stream",
          "text": [
            "100% (74175 of 74175) |##################| Elapsed Time: 0:00:00 Time:  0:00:00\n"
          ],
          "name": "stderr"
        },
        {
          "output_type": "stream",
          "text": [
            "Embeddings Dict size: 42053\n",
            "32124 words did not match the glove\n",
            "1310816\n"
          ],
          "name": "stdout"
        }
      ]
    },
    {
      "cell_type": "markdown",
      "metadata": {
        "id": "dwx5kdyo0J3z"
      },
      "source": [
        "##New Encoding"
      ]
    },
    {
      "cell_type": "code",
      "metadata": {
        "id": "H7kNuQlMzrMF"
      },
      "source": [
        "max_article_length = 2000\n",
        "max_summary_length = 2000\n",
        "trunc_type='post'\n",
        "padding_type='post'\n",
        "\n",
        "def encode(data_set):\n",
        "  art_sequences = tokenizer.texts_to_sequences(data_set['x'])\n",
        "  art_padded = pad_sequences(art_sequences, maxlen=max_article_length, padding=padding_type, truncating=trunc_type)\n",
        "  sum_sequences = tokenizer.texts_to_sequences(data_set['y'])\n",
        "  sum_padded = pad_sequences(sum_sequences, maxlen=max_summary_length, padding=padding_type, truncating=trunc_type)\n",
        "  return {'x': art_padded, 'y': sum_padded}\n",
        "\n",
        "training_padded = encode(train_set)\n",
        "testing_padded = encode(test_set)\n",
        "\n",
        "del train_set\n",
        "del test_set"
      ],
      "execution_count": 13,
      "outputs": []
    },
    {
      "cell_type": "markdown",
      "metadata": {
        "id": "IkuDjAt95mOo"
      },
      "source": [
        "###Decoding"
      ]
    },
    {
      "cell_type": "code",
      "metadata": {
        "id": "Sr4_luYl_NEo"
      },
      "source": [
        "def find_closest(embeddings, embedding_dict):\n",
        "  divisors = np.matmul(np.linalg.norm(embeddings, axis=1).reshape(len(embeddings), 1), np.linalg.norm(embedding_dict, axis=1).reshape(1, len(embedding_dict)))+np.float32(0.00001)\n",
        "  numerators = np.tensordot(embeddings, embedding_dict, axes=(1,1))\n",
        "  return np.argmax(numerators/divisors, axis=1)"
      ],
      "execution_count": 14,
      "outputs": []
    },
    {
      "cell_type": "code",
      "metadata": {
        "id": "NbdcmsBQ5lvs"
      },
      "source": [
        "def decode(vocab_tokenizer, sequence_set, embedding_dict):\n",
        "  sequences = [find_closest(item, embedding_dict) for item in sequence_set]\n",
        "  return vocab_tokenizer.sequences_to_texts(sequences)"
      ],
      "execution_count": 15,
      "outputs": []
    },
    {
      "cell_type": "markdown",
      "metadata": {
        "id": "PAfLOiTog1lr"
      },
      "source": [
        "#Build Model Architecture"
      ]
    },
    {
      "cell_type": "markdown",
      "metadata": {
        "id": "XVxU8X13fTTW"
      },
      "source": [
        "##Initialize\n"
      ]
    },
    {
      "cell_type": "code",
      "metadata": {
        "id": "FiBd_tS4F5PO"
      },
      "source": [
        "#Initializers\n",
        "\n",
        "p_W, p_U, p_emb, p_dense, weight_decay = 0, 0, 0.1, 0, 0\n",
        "rnn_layers, rnn_size = 5, 1024\n",
        "from keras.regularizers import l2\n",
        "regularizer = l2(weight_decay) if weight_decay else None\n"
      ],
      "execution_count": 16,
      "outputs": []
    },
    {
      "cell_type": "markdown",
      "metadata": {
        "id": "U-pAmMSoYSRi"
      },
      "source": [
        "##Build Model"
      ]
    },
    {
      "cell_type": "code",
      "metadata": {
        "colab": {
          "base_uri": "https://localhost:8080/"
        },
        "id": "1dH8BtNpC9Pm",
        "outputId": "eeac1b49-f2bb-4008-b1e5-31ee8c1fe0ca"
      },
      "source": [
        "#Build Model\n",
        "print(embedding_matrix.shape)\n",
        "vocab_size, embedding_size = embedding_matrix.shape\n",
        "\n",
        "model = keras.Sequential()\n",
        "model.add(layers.Embedding(vocab_size, embedding_size, input_length=max_article_length,\n",
        "                    embeddings_regularizer=regularizer, weights=[embedding_matrix], mask_zero=True))\n",
        "\n",
        "for i in range(rnn_layers):\n",
        "    lstm = layers.LSTM(rnn_size, return_sequences=True)\n",
        "    model.add(lstm)\n",
        "    model.add(layers.Dropout(p_dense))\n",
        "\n",
        "\n",
        "\n",
        "model.add(layers.TimeDistributed(layers.Dense(embedding_dim)))\n",
        "#model.add(Decode(embedding_matrix))\n",
        "#model.add(layers.Reshape((max_summary_length, embedding_dim)))\n",
        "model.add(layers.Activation('softmax'))\n",
        "\n",
        "from keras.optimizers import RMSprop, Adam\n",
        "\n",
        "model.compile(optimizer='rmsprop', loss='categorical_crossentropy')\n",
        "model.summary()"
      ],
      "execution_count": 17,
      "outputs": [
        {
          "output_type": "stream",
          "text": [
            "(42053, 50)\n",
            "Model: \"sequential\"\n",
            "_________________________________________________________________\n",
            "Layer (type)                 Output Shape              Param #   \n",
            "=================================================================\n",
            "embedding (Embedding)        (None, 2000, 50)          2102650   \n",
            "_________________________________________________________________\n",
            "lstm (LSTM)                  (None, 2000, 1024)        4403200   \n",
            "_________________________________________________________________\n",
            "dropout (Dropout)            (None, 2000, 1024)        0         \n",
            "_________________________________________________________________\n",
            "lstm_1 (LSTM)                (None, 2000, 1024)        8392704   \n",
            "_________________________________________________________________\n",
            "dropout_1 (Dropout)          (None, 2000, 1024)        0         \n",
            "_________________________________________________________________\n",
            "lstm_2 (LSTM)                (None, 2000, 1024)        8392704   \n",
            "_________________________________________________________________\n",
            "dropout_2 (Dropout)          (None, 2000, 1024)        0         \n",
            "_________________________________________________________________\n",
            "lstm_3 (LSTM)                (None, 2000, 1024)        8392704   \n",
            "_________________________________________________________________\n",
            "dropout_3 (Dropout)          (None, 2000, 1024)        0         \n",
            "_________________________________________________________________\n",
            "lstm_4 (LSTM)                (None, 2000, 1024)        8392704   \n",
            "_________________________________________________________________\n",
            "dropout_4 (Dropout)          (None, 2000, 1024)        0         \n",
            "_________________________________________________________________\n",
            "time_distributed (TimeDistri (None, 2000, 50)          51250     \n",
            "_________________________________________________________________\n",
            "activation (Activation)      (None, 2000, 50)          0         \n",
            "=================================================================\n",
            "Total params: 40,127,916\n",
            "Trainable params: 40,127,916\n",
            "Non-trainable params: 0\n",
            "_________________________________________________________________\n"
          ],
          "name": "stdout"
        }
      ]
    },
    {
      "cell_type": "markdown",
      "metadata": {
        "id": "gMplRObCYV_P"
      },
      "source": [
        "#Build Input"
      ]
    },
    {
      "cell_type": "markdown",
      "metadata": {
        "id": "QV-Jq4R0YZ1V"
      },
      "source": [
        "##Train"
      ]
    },
    {
      "cell_type": "markdown",
      "metadata": {
        "id": "gy9GEDdfSNKs"
      },
      "source": [
        "#####Load Model"
      ]
    },
    {
      "cell_type": "code",
      "metadata": {
        "id": "15_Ja8QnSEW7"
      },
      "source": [
        "model_path =  '/content/drive/My Drive/keras/models/test.keras'\r\n",
        "\r\n",
        "model = keras.models.load(model_path)"
      ],
      "execution_count": null,
      "outputs": []
    },
    {
      "cell_type": "code",
      "metadata": {
        "id": "MHZnuRKFYrJC",
        "colab": {
          "base_uri": "https://localhost:8080/"
        },
        "outputId": "4b97d889-2f29-47a2-969d-7cadd534f4b5"
      },
      "source": [
        "def generator(dataset, batch_size, steps):\n",
        "  idx=1\n",
        "  while True: \n",
        "    start = (idx - 1) * batch_size\n",
        "    yield (np.array(dataset['x'][start:start+batch_size]), np.array(embedding_matrix[dataset['y'][start:start+batch_size]]))\n",
        "    if idx<steps:\n",
        "      idx+=1\n",
        "    else:\n",
        "      idx=1\n",
        "\n",
        "num_epochs = 10\n",
        "batch_size = 16\n",
        "steps_per_epoch = len(training_padded['x'])/batch_size\n",
        "validation_steps = len(testing_padded['x'])/batch_size\n",
        "\n",
        "train_gen = generator(training_padded, batch_size, steps_per_epoch)\n",
        "test_gen = generator(testing_padded, batch_size, validation_steps)\n",
        "\n",
        "model.fit(train_gen, epochs=num_epochs, steps_per_epoch=steps_per_epoch, \n",
        "  verbose=1, validation_data=test_gen, validation_steps=validation_steps)"
      ],
      "execution_count": 19,
      "outputs": [
        {
          "output_type": "stream",
          "text": [
            "Epoch 1/10\n",
            "1185/1184 [==============================] - 626s 528ms/step - loss: -6.3317 - val_loss: -6.3338\n",
            "Epoch 2/10\n",
            "1185/1184 [==============================] - 620s 523ms/step - loss: -6.3816 - val_loss: -6.3380\n",
            "Epoch 3/10\n",
            "1185/1184 [==============================] - 618s 522ms/step - loss: -6.3886 - val_loss: -6.3423\n",
            "Epoch 4/10\n",
            "1185/1184 [==============================] - 618s 522ms/step - loss: -6.3947 - val_loss: -6.3522\n",
            "Epoch 5/10\n",
            "1185/1184 [==============================] - 618s 521ms/step - loss: -6.4059 - val_loss: -6.3640\n",
            "Epoch 6/10\n",
            "1185/1184 [==============================] - 618s 521ms/step - loss: -6.4401 - val_loss: -6.4135\n",
            "Epoch 7/10\n",
            "1185/1184 [==============================] - 618s 521ms/step - loss: -6.4732 - val_loss: -6.4327\n",
            "Epoch 8/10\n",
            "1185/1184 [==============================] - 617s 521ms/step - loss: -6.5020 - val_loss: -6.4640\n",
            "Epoch 9/10\n",
            "1185/1184 [==============================] - 617s 521ms/step - loss: -6.5405 - val_loss: -6.4976\n",
            "Epoch 10/10\n",
            "1185/1184 [==============================] - 617s 521ms/step - loss: -6.5941 - val_loss: -6.5728\n"
          ],
          "name": "stdout"
        },
        {
          "output_type": "execute_result",
          "data": {
            "text/plain": [
              "<tensorflow.python.keras.callbacks.History at 0x7f5a35bbc860>"
            ]
          },
          "metadata": {
            "tags": []
          },
          "execution_count": 19
        }
      ]
    },
    {
      "cell_type": "markdown",
      "metadata": {
        "id": "LBgnPJk-Sfuu"
      },
      "source": [
        "#####Save Model"
      ]
    },
    {
      "cell_type": "code",
      "metadata": {
        "id": "jQPwcWrgE_tu"
      },
      "source": [
        "model_path =  '/content/drive/My Drive/keras/models/test.keras'\r\n",
        "\r\n",
        "keras.models.save_model(model, model_path)"
      ],
      "execution_count": null,
      "outputs": []
    },
    {
      "cell_type": "markdown",
      "metadata": {
        "id": "9ZKJbx0ZRvCD"
      },
      "source": [
        "###Test Model"
      ]
    },
    {
      "cell_type": "code",
      "metadata": {
        "colab": {
          "base_uri": "https://localhost:8080/"
        },
        "id": "lufSJMLMpHVK",
        "outputId": "189ea72f-2b7e-405e-8ff0-3553856a35c8"
      },
      "source": [
        "num_predictions = 3\r\n",
        "\r\n",
        "test_set = np.asarray(testing_padded['x'][:num_predictions])\r\n",
        "predictions = model.predict(test_set)\r\n",
        "\r\n",
        "decoded_predictions = decode(tokenizer, predictions, embedding_matrix)\r\n",
        "print(sequence for sequence in decoded_predictions)"
      ],
      "execution_count": 22,
      "outputs": [
        {
          "output_type": "stream",
          "text": [
            "<generator object <genexpr> at 0x7f5a344e5f68>\n"
          ],
          "name": "stdout"
        }
      ]
    }
  ]
}
